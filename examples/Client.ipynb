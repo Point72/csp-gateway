{
 "cells": [
  {
   "cell_type": "markdown",
   "id": "769b081b-0b7a-47c4-a355-f54e5699f4e3",
   "metadata": {},
   "source": [
    "# Gateway Client Example\n",
    "Here is a notebook demonstrating the fundamentals of the `GatewayClient` object.\n",
    "\n",
    "This class is a convenience wrapper around the various `HTTP` requests used to interact with a running `GatewayServer` (with `REST` endpoints enabled). It relies on the [httpx](https://www.python-httpx.org/) and [aiohttp](https://docs.aiohttp.org/en/stable/index.html) libraries, and derives most of its functionality from the [openapi](https://www.openapis.org/) specification provided on the running `GatewayServer` (usually available at `/openapi.json`).\n",
    "\n",
    "\n",
    "## Client Configuration\n",
    "A `GatewayClient` is configured via a `GatewayClientConfig`, a minimal [pydantic](https://docs.pydantic.dev/) model to specify details such as protocol (`http`/`https`), host, port, etc. By default, we should provide `host` and `port`. \n",
    "\n",
    "We can also specify in the config `return_raw_json`, which specifies whether we would like to return the raw json response, or a `ResponseWrapper` object for `REST` requests. The `ResponseWrapper` object can provide both the raw json message, as well as a pandas dataframe. The `ResponseWrapper` contains additional type information which will create column names and utilize the correct data type for the constructed pandas dataframe.\n",
    "\n",
    "\n",
    "## Client Methods\n",
    "\n",
    "A client as a small number of general-purpose methods. In alphabetical order:\n",
    "\n",
    "- `controls`: managment controls for monitoring/configurating the running server\n",
    "- `last`: get the last ticked data value on a channel\n",
    "- `lookup`: lookup a piece of data by `id`\n",
    "- `next`: get the next ticked data value on a channel\n",
    "- `send`: send some data onto a channel\n",
    "- `state`: get the value of a given channel's state accumulator\n",
    "\n",
    "\n",
    "Additionally, a client has some streaming methods available when websockets are configured:\n",
    "\n",
    "- `stream`: call a callback when a channel ticks\n",
    "- `subscribe`: subscribe to data on a channel\n",
    "- `unsubscribe`: unsubscribe to data on a channel\n",
    "\n",
    "Let's explore some of the functionality of the basic demo server. To start, we should run the demo server in another process (with the omnibus config):\n",
    "\n",
    "```bash\n",
    "csp-gateway-start --config-dir=csp_gateway/server/demo +config=omnibus\n",
    "```\n",
    "\n",
    "By default, this will run the server on `localhost:8000`."
   ]
  },
  {
   "cell_type": "markdown",
   "id": "8fb453af-8578-4b93-b9c2-df6ebe582cfc",
   "metadata": {},
   "source": [
    "## Imports\n",
    "All the important objects are hoisted to the top level `csp_gateway`. Lets import and setup our client."
   ]
  },
  {
   "cell_type": "code",
   "execution_count": 2,
   "id": "746be276-c282-47cf-9650-4989b01d50df",
   "metadata": {},
   "outputs": [],
   "source": [
    "from csp_gateway import GatewayClient, GatewayClientConfig"
   ]
  },
  {
   "cell_type": "code",
   "execution_count": 3,
   "id": "790763ce-9e1c-4b6f-a82d-5814ecc89361",
   "metadata": {},
   "outputs": [],
   "source": [
    "config = GatewayClientConfig(host=\"localhost\", port=8000, return_raw_json=False)\n",
    "client = GatewayClient(config)"
   ]
  },
  {
   "cell_type": "markdown",
   "id": "e49308ba-4f10-4f7c-85a6-8f5cc28622dc",
   "metadata": {},
   "source": [
    "The first time we use our client, it will take a little longer than usual as it tries to interrogate the running server's `openapi` specification for available methods. Once done, our request will go through, and subsequent requests will leverage this specification. Let's start with some simple status checks. If we're curious about available endpoints, we can navigate to [http://localhost:8000/redoc](http://localhost:8000/redoc) (or generally `http://<hostname>:<port>/redoc` if we're running on a different host)"
   ]
  },
  {
   "cell_type": "code",
   "execution_count": 4,
   "id": "08735a00-df5e-4cd9-98f6-240a5cb9cf94",
   "metadata": {},
   "outputs": [
    {
     "data": {
      "text/plain": [
       "[{'id': '7180742829515',\n",
       "  'timestamp': '2025-03-14T06:00:12.399921',\n",
       "  'name': 'heartbeat',\n",
       "  'status': 'ok',\n",
       "  'data': {},\n",
       "  'data_str': ''}]"
      ]
     },
     "execution_count": 4,
     "metadata": {},
     "output_type": "execute_result"
    }
   ],
   "source": [
    "# heartbeat check\n",
    "client.controls(\"heartbeat\").as_json()"
   ]
  },
  {
   "cell_type": "code",
   "execution_count": null,
   "id": "8253836a-7957-45de-ae0d-a670052de43a",
   "metadata": {},
   "outputs": [
    {
     "data": {
      "application/json": {
       "components": {
        "schemas": {
         "Error404": {
          "properties": {
           "detail": {
            "default": "",
            "title": "Detail",
            "type": "string"
           }
          },
          "title": "Error404",
          "type": "object"
         },
         "HTTPValidationError": {
          "properties": {
           "detail": {
            "items": [
             "properties",
             "type",
             "required",
             "title"
            ],
            "title": "Detail",
            "type": "array"
           }
          },
          "title": "HTTPValidationError",
          "type": "object"
         },
         "ValidationError": {
          "properties": {
           "loc": {
            "items": {
             "anyOf": [
              {
               "type": "string"
              },
              {
               "type": "integer"
              }
             ]
            },
            "title": "Location",
            "type": "array"
           },
           "msg": {
            "title": "Message",
            "type": "string"
           },
           "type": {
            "title": "Error Type",
            "type": "string"
           }
          },
          "required": [
           "loc",
           "msg",
           "type"
          ],
          "title": "ValidationError",
          "type": "object"
         }
        }
       },
       "info": {
        "contact": {
         "email": "example@domain.com",
         "name": ""
        },
        "description": "# Welcome to CSP Gateway API\nContains REST/Websocket interfaces to underlying CSP Gateway engine",
        "title": "Gateway",
        "version": "2.2.1"
       },
       "openapi": "3.1.0",
       "paths": {
        "/api/v1/channels_graph": {
         "get": {
          "description": "This endpoint returns the structure of the GatewayChannels graph as a JSON object.\nIt is used by the `Browse Channels Graph` endpoint to generate a nice, interactive view of the graph.\n\nData is of the form:\n\n```\n{\n    \"<channel name>\": {\n        \"getters\": [`GatewayModule`s that pull from that channel],\n        \"setters\": [`GatewayModule`s that push to that channel]\n    },\n    ...\n}\n```",
          "operationId": "channels_graph_data_api_v1_channels_graph_get",
          "responses": {
           "200": {
            "content": {
             "application/json": {
              "schema": {
               "additionalProperties": {
                "additionalProperties": {
                 "items": {
                  "type": "string"
                 },
                 "type": "array"
                },
                "type": "object"
               },
               "title": "Response Channels Graph Data Api V1 Channels Graph Get",
               "type": "object"
              }
             }
            },
            "description": "Successful Response"
           }
          },
          "summary": "Channels Graph Data",
          "tags": [
           "Utility"
          ]
         }
        },
        "/api/v1/controls/heartbeat": {
         "get": {
          "description": "This endpoint is a lightweight `ping`/`pong` endpoint that can be used to determine the status of the underlying webserver.",
          "operationId": "Get_Heartbeat_api_v1_controls_heartbeat_get",
          "responses": {
           "200": {
            "content": {
             "application/json": {
              "schema": {
               "properties": {
                "data": {
                 "default": {},
                 "title": "Data",
                 "type": "object"
                },
                "data_str": {
                 "default": "",
                 "title": "Data Str",
                 "type": "string"
                },
                "id": {
                 "title": "Id",
                 "type": "string"
                },
                "name": {
                 "default": "none",
                 "title": "Name",
                 "type": "string"
                },
                "status": {
                 "default": "none",
                 "title": "Status",
                 "type": "string"
                },
                "timestamp": {
                 "format": "date-time",
                 "title": "Timestamp",
                 "type": "string"
                }
               },
               "title": "Response Get Heartbeat Api V1 Controls Heartbeat Get",
               "type": "object"
              }
             }
            },
            "description": "Successful Response"
           },
           "404": {
            "content": {
             "application/json": {
              "schema": [
               "properties",
               "type",
               "title"
              ]
             }
            },
            "description": "Not Found"
           }
          },
          "summary": "Get Heartbeat",
          "tags": [
           "Controls"
          ]
         }
        },
        "/api/v1/controls/shutdown": {
         "post": {
          "description": "**WARNING:** Use this endpoint with caution.\n\nThis endpoint will cleanly shutdown the engine and webserver. It is used for the kill switch in UIs.",
          "operationId": "Shutdown_Server_api_v1_controls_shutdown_post",
          "responses": {
           "200": {
            "content": {
             "application/json": {
              "schema": {
               "properties": {
                "data": {
                 "default": {},
                 "title": "Data",
                 "type": "object"
                },
                "data_str": {
                 "default": "",
                 "title": "Data Str",
                 "type": "string"
                },
                "id": {
                 "title": "Id",
                 "type": "string"
                },
                "name": {
                 "default": "none",
                 "title": "Name",
                 "type": "string"
                },
                "status": {
                 "default": "none",
                 "title": "Status",
                 "type": "string"
                },
                "timestamp": {
                 "format": "date-time",
                 "title": "Timestamp",
                 "type": "string"
                }
               },
               "title": "Response Shutdown Server Api V1 Controls Shutdown Post",
               "type": "object"
              }
             }
            },
            "description": "Successful Response"
           },
           "404": {
            "content": {
             "application/json": {
              "schema": [
               "properties",
               "type",
               "title"
              ]
             }
            },
            "description": "Not Found"
           }
          },
          "summary": "Shutdown Server",
          "tags": [
           "Controls"
          ]
         }
        },
        "/api/v1/controls/stats": {
         "get": {
          "description": "This endpoint will collect and return various engine and system stats, including:\n\n- CPU utilization (`cpu`)\n- Virtual memory utilization (`memory`)\n- Total memory available (`memory-total`)\n- Current system time (`now`)\n- CSP engine time (`csp-now`)\n- Hostname (`host`)\n- Username (`user`)",
          "operationId": "Get_CSP_Stats_api_v1_controls_stats_get",
          "responses": {
           "200": {
            "content": {
             "application/json": {
              "schema": {
               "properties": {
                "data": {
                 "default": {},
                 "title": "Data",
                 "type": "object"
                },
                "data_str": {
                 "default": "",
                 "title": "Data Str",
                 "type": "string"
                },
                "id": {
                 "title": "Id",
                 "type": "string"
                },
                "name": {
                 "default": "none",
                 "title": "Name",
                 "type": "string"
                },
                "status": {
                 "default": "none",
                 "title": "Status",
                 "type": "string"
                },
                "timestamp": {
                 "format": "date-time",
                 "title": "Timestamp",
                 "type": "string"
                }
               },
               "title": "Response Get Csp Stats Api V1 Controls Stats Get",
               "type": "object"
              }
             }
            },
            "description": "Successful Response"
           },
           "404": {
            "content": {
             "application/json": {
              "schema": [
               "properties",
               "type",
               "title"
              ]
             }
            },
            "description": "Not Found"
           }
          },
          "summary": "Get Csp Stats",
          "tags": [
           "Controls"
          ]
         }
        },
        "/api/v1/last/": {
         "get": {
          "description": "This endpoint will return a list of string values of all available channels under the `/last` route.",
          "operationId": "get_last_api_v1_last__get",
          "responses": {
           "200": {
            "content": {
             "application/json": {
              "schema": {
               "items": {
                "type": "string"
               },
               "title": "Response Get Last Api V1 Last  Get",
               "type": "array"
              }
             }
            },
            "description": "Successful Response"
           },
           "404": {
            "content": {
             "application/json": {
              "schema": [
               "properties",
               "type",
               "title"
              ]
             }
            },
            "description": "Not Found"
           }
          },
          "summary": "Get Last",
          "tags": [
           "Last"
          ]
         }
        },
        "/api/v1/last/basket": {
         "get": {
          "description": "Get last ticked value on a dictionary basket channel. This endpoint will return the entire basket",
          "operationId": "Get_Last_basket_api_v1_last_basket_get",
          "responses": {
           "200": {
            "content": {
             "application/json": {
              "schema": {
               "items": {
                "properties": {
                 "d": {
                  "default": "2025-03-14",
                  "format": "date",
                  "title": "D",
                  "type": "string"
                 },
                 "data": {
                  "items": {},
                  "title": "Data",
                  "type": "array"
                 },
                 "dt": {
                  "default": "2025-03-14T01:59:42.200557",
                  "format": "date-time",
                  "title": "Dt",
                  "type": "string"
                 },
                 "id": {
                  "title": "Id",
                  "type": "string"
                 },
                 "internal_csp_struct": {
                  "default": {
                   "z": 12
                  },
                  "properties": {
                   "z": {
                    "default": 12,
                    "title": "Z",
                    "type": "integer"
                   }
                  },
                  "title": "Internal Csp Struct",
                  "type": "object"
                 },
                 "mapping": {
                  "additionalProperties": {
                   "type": "integer"
                  },
                  "default": {},
                  "title": "Mapping",
                  "type": "object"
                 },
                 "timestamp": {
                  "format": "date-time",
                  "title": "Timestamp",
                  "type": "string"
                 },
                 "x": {
                  "title": "X",
                  "type": "integer"
                 },
                 "y": {
                  "default": "",
                  "title": "Y",
                  "type": "string"
                 }
                },
                "type": "object"
               },
               "title": "Response Get Last Basket Api V1 Last Basket Get",
               "type": "array"
              }
             }
            },
            "description": "Successful Response"
           },
           "404": {
            "content": {
             "application/json": {
              "schema": [
               "properties",
               "type",
               "title"
              ]
             }
            },
            "description": "Not Found"
           }
          },
          "summary": "Get Last Basket",
          "tags": [
           "Last"
          ]
         }
        },
        "/api/v1/last/basket/{key}": {
         "get": {
          "description": "Get last ticked value on a dictionary basket channel, where `key` is the key of the dictionary basket.\nIf such a key does not exist or is not mounted, this endpoint will raise a `404` error.",
          "operationId": "Get_Last_basket_by_key_api_v1_last_basket__key__get",
          "parameters": [
           {
            "in": "path",
            "name": "key",
            "required": true,
            "schema": {
             "title": "Key",
             "type": "string"
            }
           }
          ],
          "responses": {
           "200": {
            "content": {
             "application/json": {
              "schema": {
               "items": {
                "properties": {
                 "d": {
                  "default": "2025-03-14",
                  "format": "date",
                  "title": "D",
                  "type": "string"
                 },
                 "data": {
                  "items": {},
                  "title": "Data",
                  "type": "array"
                 },
                 "dt": {
                  "default": "2025-03-14T01:59:42.200557",
                  "format": "date-time",
                  "title": "Dt",
                  "type": "string"
                 },
                 "id": {
                  "title": "Id",
                  "type": "string"
                 },
                 "internal_csp_struct": {
                  "default": {
                   "z": 12
                  },
                  "properties": {
                   "z": {
                    "default": 12,
                    "title": "Z",
                    "type": "integer"
                   }
                  },
                  "title": "Internal Csp Struct",
                  "type": "object"
                 },
                 "mapping": {
                  "additionalProperties": {
                   "type": "integer"
                  },
                  "default": {},
                  "title": "Mapping",
                  "type": "object"
                 },
                 "timestamp": {
                  "format": "date-time",
                  "title": "Timestamp",
                  "type": "string"
                 },
                 "x": {
                  "title": "X",
                  "type": "integer"
                 },
                 "y": {
                  "default": "",
                  "title": "Y",
                  "type": "string"
                 }
                },
                "type": "object"
               },
               "title": "Response Get Last Basket By Key Api V1 Last Basket  Key  Get",
               "type": "array"
              }
             }
            },
            "description": "Successful Response"
           },
           "404": {
            "content": {
             "application/json": {
              "schema": [
               "properties",
               "type",
               "title"
              ]
             }
            },
            "description": "Not Found"
           },
           "422": {
            "content": {
             "application/json": {
              "schema": [
               "properties",
               "type",
               "title"
              ]
             }
            },
            "description": "Validation Error"
           }
          },
          "summary": "Get Last Basket By Key",
          "tags": [
           "Last"
          ]
         }
        },
        "/api/v1/last/controls": {
         "get": {
          "description": "Get last ticked value on a non-basket channel.\nThis endpoint will always return a list of elements.\n\nWhen the underlying channel only handles individual elements, the returned list will only ever contain a single element.\n\nWhen the underlying channel handles lists of elements, the returned list will contain `N>=1` elements.",
          "operationId": "Get_Last_controls_api_v1_last_controls_get",
          "responses": {
           "200": {
            "content": {
             "application/json": {
              "schema": {
               "items": {
                "properties": {
                 "data": {
                  "default": {},
                  "title": "Data",
                  "type": "object"
                 },
                 "data_str": {
                  "default": "",
                  "title": "Data Str",
                  "type": "string"
                 },
                 "id": {
                  "title": "Id",
                  "type": "string"
                 },
                 "name": {
                  "default": "none",
                  "title": "Name",
                  "type": "string"
                 },
                 "status": {
                  "default": "none",
                  "title": "Status",
                  "type": "string"
                 },
                 "timestamp": {
                  "format": "date-time",
                  "title": "Timestamp",
                  "type": "string"
                 }
                },
                "type": "object"
               },
               "title": "Response Get Last Controls Api V1 Last Controls Get",
               "type": "array"
              }
             }
            },
            "description": "Successful Response"
           },
           "404": {
            "content": {
             "application/json": {
              "schema": [
               "properties",
               "type",
               "title"
              ]
             }
            },
            "description": "Not Found"
           }
          },
          "summary": "Get Last Controls",
          "tags": [
           "Last"
          ]
         }
        },
        "/api/v1/last/example": {
         "get": {
          "description": "Get last ticked value on a non-basket channel.\nThis endpoint will always return a list of elements.\n\nWhen the underlying channel only handles individual elements, the returned list will only ever contain a single element.\n\nWhen the underlying channel handles lists of elements, the returned list will contain `N>=1` elements.",
          "operationId": "Get_Last_example_api_v1_last_example_get",
          "responses": {
           "200": {
            "content": {
             "application/json": {
              "schema": {
               "items": {
                "properties": {
                 "d": {
                  "default": "2025-03-14",
                  "format": "date",
                  "title": "D",
                  "type": "string"
                 },
                 "data": {
                  "items": {},
                  "title": "Data",
                  "type": "array"
                 },
                 "dt": {
                  "default": "2025-03-14T01:59:42.200557",
                  "format": "date-time",
                  "title": "Dt",
                  "type": "string"
                 },
                 "id": {
                  "title": "Id",
                  "type": "string"
                 },
                 "internal_csp_struct": {
                  "default": {
                   "z": 12
                  },
                  "properties": {
                   "z": {
                    "default": 12,
                    "title": "Z",
                    "type": "integer"
                   }
                  },
                  "title": "Internal Csp Struct",
                  "type": "object"
                 },
                 "mapping": {
                  "additionalProperties": {
                   "type": "integer"
                  },
                  "default": {},
                  "title": "Mapping",
                  "type": "object"
                 },
                 "timestamp": {
                  "format": "date-time",
                  "title": "Timestamp",
                  "type": "string"
                 },
                 "x": {
                  "title": "X",
                  "type": "integer"
                 },
                 "y": {
                  "default": "",
                  "title": "Y",
                  "type": "string"
                 }
                },
                "type": "object"
               },
               "title": "Response Get Last Example Api V1 Last Example Get",
               "type": "array"
              }
             }
            },
            "description": "Successful Response"
           },
           "404": {
            "content": {
             "application/json": {
              "schema": [
               "properties",
               "type",
               "title"
              ]
             }
            },
            "description": "Not Found"
           }
          },
          "summary": "Get Last Example",
          "tags": [
           "Last"
          ]
         }
        },
        "/api/v1/last/example_list": {
         "get": {
          "description": "Get last ticked value on a non-basket channel.\nThis endpoint will always return a list of elements.\n\nWhen the underlying channel only handles individual elements, the returned list will only ever contain a single element.\n\nWhen the underlying channel handles lists of elements, the returned list will contain `N>=1` elements.",
          "operationId": "Get_Last_example_list_api_v1_last_example_list_get",
          "responses": {
           "200": {
            "content": {
             "application/json": {
              "schema": {
               "items": {
                "properties": {
                 "d": {
                  "default": "2025-03-14",
                  "format": "date",
                  "title": "D",
                  "type": "string"
                 },
                 "data": {
                  "items": {},
                  "title": "Data",
                  "type": "array"
                 },
                 "dt": {
                  "default": "2025-03-14T01:59:42.200557",
                  "format": "date-time",
                  "title": "Dt",
                  "type": "string"
                 },
                 "id": {
                  "title": "Id",
                  "type": "string"
                 },
                 "internal_csp_struct": {
                  "default": {
                   "z": 12
                  },
                  "properties": {
                   "z": {
                    "default": 12,
                    "title": "Z",
                    "type": "integer"
                   }
                  },
                  "title": "Internal Csp Struct",
                  "type": "object"
                 },
                 "mapping": {
                  "additionalProperties": {
                   "type": "integer"
                  },
                  "default": {},
                  "title": "Mapping",
                  "type": "object"
                 },
                 "timestamp": {
                  "format": "date-time",
                  "title": "Timestamp",
                  "type": "string"
                 },
                 "x": {
                  "title": "X",
                  "type": "integer"
                 },
                 "y": {
                  "default": "",
                  "title": "Y",
                  "type": "string"
                 }
                },
                "type": "object"
               },
               "title": "Response Get Last Example List Api V1 Last Example List Get",
               "type": "array"
              }
             }
            },
            "description": "Successful Response"
           },
           "404": {
            "content": {
             "application/json": {
              "schema": [
               "properties",
               "type",
               "title"
              ]
             }
            },
            "description": "Not Found"
           }
          },
          "summary": "Get Last Example List",
          "tags": [
           "Last"
          ]
         }
        },
        "/api/v1/last/never_ticks": {
         "get": {
          "description": "Get last ticked value on a non-basket channel.\nThis endpoint will always return a list of elements.\n\nWhen the underlying channel only handles individual elements, the returned list will only ever contain a single element.\n\nWhen the underlying channel handles lists of elements, the returned list will contain `N>=1` elements.",
          "operationId": "Get_Last_never_ticks_api_v1_last_never_ticks_get",
          "responses": {
           "200": {
            "content": {
             "application/json": {
              "schema": {
               "items": {
                "properties": {
                 "d": {
                  "default": "2025-03-14",
                  "format": "date",
                  "title": "D",
                  "type": "string"
                 },
                 "data": {
                  "items": {},
                  "title": "Data",
                  "type": "array"
                 },
                 "dt": {
                  "default": "2025-03-14T01:59:42.200557",
                  "format": "date-time",
                  "title": "Dt",
                  "type": "string"
                 },
                 "id": {
                  "title": "Id",
                  "type": "string"
                 },
                 "internal_csp_struct": {
                  "default": {
                   "z": 12
                  },
                  "properties": {
                   "z": {
                    "default": 12,
                    "title": "Z",
                    "type": "integer"
                   }
                  },
                  "title": "Internal Csp Struct",
                  "type": "object"
                 },
                 "mapping": {
                  "additionalProperties": {
                   "type": "integer"
                  },
                  "default": {},
                  "title": "Mapping",
                  "type": "object"
                 },
                 "timestamp": {
                  "format": "date-time",
                  "title": "Timestamp",
                  "type": "string"
                 },
                 "x": {
                  "title": "X",
                  "type": "integer"
                 },
                 "y": {
                  "default": "",
                  "title": "Y",
                  "type": "string"
                 }
                },
                "type": "object"
               },
               "title": "Response Get Last Never Ticks Api V1 Last Never Ticks Get",
               "type": "array"
              }
             }
            },
            "description": "Successful Response"
           },
           "404": {
            "content": {
             "application/json": {
              "schema": [
               "properties",
               "type",
               "title"
              ]
             }
            },
            "description": "Not Found"
           }
          },
          "summary": "Get Last Never Ticks",
          "tags": [
           "Last"
          ]
         }
        },
        "/api/v1/last/str_basket": {
         "get": {
          "description": "Get last ticked value on a dictionary basket channel. This endpoint will return the entire basket",
          "operationId": "Get_Last_str_basket_api_v1_last_str_basket_get",
          "responses": {
           "200": {
            "content": {
             "application/json": {
              "schema": {
               "items": {
                "properties": {
                 "d": {
                  "default": "2025-03-14",
                  "format": "date",
                  "title": "D",
                  "type": "string"
                 },
                 "data": {
                  "items": {},
                  "title": "Data",
                  "type": "array"
                 },
                 "dt": {
                  "default": "2025-03-14T01:59:42.200557",
                  "format": "date-time",
                  "title": "Dt",
                  "type": "string"
                 },
                 "id": {
                  "title": "Id",
                  "type": "string"
                 },
                 "internal_csp_struct": {
                  "default": {
                   "z": 12
                  },
                  "properties": {
                   "z": {
                    "default": 12,
                    "title": "Z",
                    "type": "integer"
                   }
                  },
                  "title": "Internal Csp Struct",
                  "type": "object"
                 },
                 "mapping": {
                  "additionalProperties": {
                   "type": "integer"
                  },
                  "default": {},
                  "title": "Mapping",
                  "type": "object"
                 },
                 "timestamp": {
                  "format": "date-time",
                  "title": "Timestamp",
                  "type": "string"
                 },
                 "x": {
                  "title": "X",
                  "type": "integer"
                 },
                 "y": {
                  "default": "",
                  "title": "Y",
                  "type": "string"
                 }
                },
                "type": "object"
               },
               "title": "Response Get Last Str Basket Api V1 Last Str Basket Get",
               "type": "array"
              }
             }
            },
            "description": "Successful Response"
           },
           "404": {
            "content": {
             "application/json": {
              "schema": [
               "properties",
               "type",
               "title"
              ]
             }
            },
            "description": "Not Found"
           }
          },
          "summary": "Get Last Str Basket",
          "tags": [
           "Last"
          ]
         }
        },
        "/api/v1/last/str_basket/{key}": {
         "get": {
          "description": "Get last ticked value on a dictionary basket channel, where `key` is the key of the dictionary basket.\nIf such a key does not exist or is not mounted, this endpoint will raise a `404` error.",
          "operationId": "Get_Last_str_basket_by_key_api_v1_last_str_basket__key__get",
          "parameters": [
           {
            "in": "path",
            "name": "key",
            "required": true,
            "schema": {
             "title": "Key",
             "type": "string"
            }
           }
          ],
          "responses": {
           "200": {
            "content": {
             "application/json": {
              "schema": {
               "items": {
                "properties": {
                 "d": {
                  "default": "2025-03-14",
                  "format": "date",
                  "title": "D",
                  "type": "string"
                 },
                 "data": {
                  "items": {},
                  "title": "Data",
                  "type": "array"
                 },
                 "dt": {
                  "default": "2025-03-14T01:59:42.200557",
                  "format": "date-time",
                  "title": "Dt",
                  "type": "string"
                 },
                 "id": {
                  "title": "Id",
                  "type": "string"
                 },
                 "internal_csp_struct": {
                  "default": {
                   "z": 12
                  },
                  "properties": {
                   "z": {
                    "default": 12,
                    "title": "Z",
                    "type": "integer"
                   }
                  },
                  "title": "Internal Csp Struct",
                  "type": "object"
                 },
                 "mapping": {
                  "additionalProperties": {
                   "type": "integer"
                  },
                  "default": {},
                  "title": "Mapping",
                  "type": "object"
                 },
                 "timestamp": {
                  "format": "date-time",
                  "title": "Timestamp",
                  "type": "string"
                 },
                 "x": {
                  "title": "X",
                  "type": "integer"
                 },
                 "y": {
                  "default": "",
                  "title": "Y",
                  "type": "string"
                 }
                },
                "type": "object"
               },
               "title": "Response Get Last Str Basket By Key Api V1 Last Str Basket  Key  Get",
               "type": "array"
              }
             }
            },
            "description": "Successful Response"
           },
           "404": {
            "content": {
             "application/json": {
              "schema": [
               "properties",
               "type",
               "title"
              ]
             }
            },
            "description": "Not Found"
           },
           "422": {
            "content": {
             "application/json": {
              "schema": [
               "properties",
               "type",
               "title"
              ]
             }
            },
            "description": "Validation Error"
           }
          },
          "summary": "Get Last Str Basket By Key",
          "tags": [
           "Last"
          ]
         }
        },
        "/api/v1/lookup/basket/{id}": {
         "get": {
          "description": "This endpoint lets you lookup any GatewayStruct by its uniquely generated `id`.",
          "operationId": "Lookup_basket_api_v1_lookup_basket__id__get",
          "parameters": [
           {
            "in": "path",
            "name": "id",
            "required": true,
            "schema": {
             "title": "Id",
             "type": "string"
            }
           }
          ],
          "responses": {
           "200": {
            "content": {
             "application/json": {
              "schema": {
               "items": {
                "properties": {
                 "d": {
                  "default": "2025-03-14",
                  "format": "date",
                  "title": "D",
                  "type": "string"
                 },
                 "data": {
                  "items": {},
                  "title": "Data",
                  "type": "array"
                 },
                 "dt": {
                  "default": "2025-03-14T01:59:42.200557",
                  "format": "date-time",
                  "title": "Dt",
                  "type": "string"
                 },
                 "id": {
                  "title": "Id",
                  "type": "string"
                 },
                 "internal_csp_struct": {
                  "default": {
                   "z": 12
                  },
                  "properties": {
                   "z": {
                    "default": 12,
                    "title": "Z",
                    "type": "integer"
                   }
                  },
                  "title": "Internal Csp Struct",
                  "type": "object"
                 },
                 "mapping": {
                  "additionalProperties": {
                   "type": "integer"
                  },
                  "default": {},
                  "title": "Mapping",
                  "type": "object"
                 },
                 "timestamp": {
                  "format": "date-time",
                  "title": "Timestamp",
                  "type": "string"
                 },
                 "x": {
                  "title": "X",
                  "type": "integer"
                 },
                 "y": {
                  "default": "",
                  "title": "Y",
                  "type": "string"
                 }
                },
                "type": "object"
               },
               "title": "Response Lookup Basket Api V1 Lookup Basket  Id  Get",
               "type": "array"
              }
             }
            },
            "description": "Successful Response"
           },
           "404": {
            "content": {
             "application/json": {
              "schema": [
               "properties",
               "type",
               "title"
              ]
             }
            },
            "description": "Not Found"
           },
           "422": {
            "content": {
             "application/json": {
              "schema": [
               "properties",
               "type",
               "title"
              ]
             }
            },
            "description": "Validation Error"
           }
          },
          "summary": "Lookup Basket",
          "tags": [
           "Lookup"
          ]
         }
        },
        "/api/v1/lookup/controls/{id}": {
         "get": {
          "description": "This endpoint lets you lookup any GatewayStruct by its uniquely generated `id`.",
          "operationId": "Lookup_controls_api_v1_lookup_controls__id__get",
          "parameters": [
           {
            "in": "path",
            "name": "id",
            "required": true,
            "schema": {
             "title": "Id",
             "type": "string"
            }
           }
          ],
          "responses": {
           "200": {
            "content": {
             "application/json": {
              "schema": {
               "items": {
                "properties": {
                 "data": {
                  "default": {},
                  "title": "Data",
                  "type": "object"
                 },
                 "data_str": {
                  "default": "",
                  "title": "Data Str",
                  "type": "string"
                 },
                 "id": {
                  "title": "Id",
                  "type": "string"
                 },
                 "name": {
                  "default": "none",
                  "title": "Name",
                  "type": "string"
                 },
                 "status": {
                  "default": "none",
                  "title": "Status",
                  "type": "string"
                 },
                 "timestamp": {
                  "format": "date-time",
                  "title": "Timestamp",
                  "type": "string"
                 }
                },
                "type": "object"
               },
               "title": "Response Lookup Controls Api V1 Lookup Controls  Id  Get",
               "type": "array"
              }
             }
            },
            "description": "Successful Response"
           },
           "404": {
            "content": {
             "application/json": {
              "schema": [
               "properties",
               "type",
               "title"
              ]
             }
            },
            "description": "Not Found"
           },
           "422": {
            "content": {
             "application/json": {
              "schema": [
               "properties",
               "type",
               "title"
              ]
             }
            },
            "description": "Validation Error"
           }
          },
          "summary": "Lookup Controls",
          "tags": [
           "Lookup"
          ]
         }
        },
        "/api/v1/lookup/example/{id}": {
         "get": {
          "description": "This endpoint lets you lookup any GatewayStruct by its uniquely generated `id`.",
          "operationId": "Lookup_example_api_v1_lookup_example__id__get",
          "parameters": [
           {
            "in": "path",
            "name": "id",
            "required": true,
            "schema": {
             "title": "Id",
             "type": "string"
            }
           }
          ],
          "responses": {
           "200": {
            "content": {
             "application/json": {
              "schema": {
               "items": {
                "properties": {
                 "d": {
                  "default": "2025-03-14",
                  "format": "date",
                  "title": "D",
                  "type": "string"
                 },
                 "data": {
                  "items": {},
                  "title": "Data",
                  "type": "array"
                 },
                 "dt": {
                  "default": "2025-03-14T01:59:42.200557",
                  "format": "date-time",
                  "title": "Dt",
                  "type": "string"
                 },
                 "id": {
                  "title": "Id",
                  "type": "string"
                 },
                 "internal_csp_struct": {
                  "default": {
                   "z": 12
                  },
                  "properties": {
                   "z": {
                    "default": 12,
                    "title": "Z",
                    "type": "integer"
                   }
                  },
                  "title": "Internal Csp Struct",
                  "type": "object"
                 },
                 "mapping": {
                  "additionalProperties": {
                   "type": "integer"
                  },
                  "default": {},
                  "title": "Mapping",
                  "type": "object"
                 },
                 "timestamp": {
                  "format": "date-time",
                  "title": "Timestamp",
                  "type": "string"
                 },
                 "x": {
                  "title": "X",
                  "type": "integer"
                 },
                 "y": {
                  "default": "",
                  "title": "Y",
                  "type": "string"
                 }
                },
                "type": "object"
               },
               "title": "Response Lookup Example Api V1 Lookup Example  Id  Get",
               "type": "array"
              }
             }
            },
            "description": "Successful Response"
           },
           "404": {
            "content": {
             "application/json": {
              "schema": [
               "properties",
               "type",
               "title"
              ]
             }
            },
            "description": "Not Found"
           },
           "422": {
            "content": {
             "application/json": {
              "schema": [
               "properties",
               "type",
               "title"
              ]
             }
            },
            "description": "Validation Error"
           }
          },
          "summary": "Lookup Example",
          "tags": [
           "Lookup"
          ]
         }
        },
        "/api/v1/lookup/example_list/{id}": {
         "get": {
          "description": "This endpoint lets you lookup any GatewayStruct by its uniquely generated `id`.",
          "operationId": "Lookup_example_list_api_v1_lookup_example_list__id__get",
          "parameters": [
           {
            "in": "path",
            "name": "id",
            "required": true,
            "schema": {
             "title": "Id",
             "type": "string"
            }
           }
          ],
          "responses": {
           "200": {
            "content": {
             "application/json": {
              "schema": {
               "items": {
                "properties": {
                 "d": {
                  "default": "2025-03-14",
                  "format": "date",
                  "title": "D",
                  "type": "string"
                 },
                 "data": {
                  "items": {},
                  "title": "Data",
                  "type": "array"
                 },
                 "dt": {
                  "default": "2025-03-14T01:59:42.200557",
                  "format": "date-time",
                  "title": "Dt",
                  "type": "string"
                 },
                 "id": {
                  "title": "Id",
                  "type": "string"
                 },
                 "internal_csp_struct": {
                  "default": {
                   "z": 12
                  },
                  "properties": {
                   "z": {
                    "default": 12,
                    "title": "Z",
                    "type": "integer"
                   }
                  },
                  "title": "Internal Csp Struct",
                  "type": "object"
                 },
                 "mapping": {
                  "additionalProperties": {
                   "type": "integer"
                  },
                  "default": {},
                  "title": "Mapping",
                  "type": "object"
                 },
                 "timestamp": {
                  "format": "date-time",
                  "title": "Timestamp",
                  "type": "string"
                 },
                 "x": {
                  "title": "X",
                  "type": "integer"
                 },
                 "y": {
                  "default": "",
                  "title": "Y",
                  "type": "string"
                 }
                },
                "type": "object"
               },
               "title": "Response Lookup Example List Api V1 Lookup Example List  Id  Get",
               "type": "array"
              }
             }
            },
            "description": "Successful Response"
           },
           "404": {
            "content": {
             "application/json": {
              "schema": [
               "properties",
               "type",
               "title"
              ]
             }
            },
            "description": "Not Found"
           },
           "422": {
            "content": {
             "application/json": {
              "schema": [
               "properties",
               "type",
               "title"
              ]
             }
            },
            "description": "Validation Error"
           }
          },
          "summary": "Lookup Example List",
          "tags": [
           "Lookup"
          ]
         }
        },
        "/api/v1/lookup/never_ticks/{id}": {
         "get": {
          "description": "This endpoint lets you lookup any GatewayStruct by its uniquely generated `id`.",
          "operationId": "Lookup_never_ticks_api_v1_lookup_never_ticks__id__get",
          "parameters": [
           {
            "in": "path",
            "name": "id",
            "required": true,
            "schema": {
             "title": "Id",
             "type": "string"
            }
           }
          ],
          "responses": {
           "200": {
            "content": {
             "application/json": {
              "schema": {
               "items": {
                "properties": {
                 "d": {
                  "default": "2025-03-14",
                  "format": "date",
                  "title": "D",
                  "type": "string"
                 },
                 "data": {
                  "items": {},
                  "title": "Data",
                  "type": "array"
                 },
                 "dt": {
                  "default": "2025-03-14T01:59:42.200557",
                  "format": "date-time",
                  "title": "Dt",
                  "type": "string"
                 },
                 "id": {
                  "title": "Id",
                  "type": "string"
                 },
                 "internal_csp_struct": {
                  "default": {
                   "z": 12
                  },
                  "properties": {
                   "z": {
                    "default": 12,
                    "title": "Z",
                    "type": "integer"
                   }
                  },
                  "title": "Internal Csp Struct",
                  "type": "object"
                 },
                 "mapping": {
                  "additionalProperties": {
                   "type": "integer"
                  },
                  "default": {},
                  "title": "Mapping",
                  "type": "object"
                 },
                 "timestamp": {
                  "format": "date-time",
                  "title": "Timestamp",
                  "type": "string"
                 },
                 "x": {
                  "title": "X",
                  "type": "integer"
                 },
                 "y": {
                  "default": "",
                  "title": "Y",
                  "type": "string"
                 }
                },
                "type": "object"
               },
               "title": "Response Lookup Never Ticks Api V1 Lookup Never Ticks  Id  Get",
               "type": "array"
              }
             }
            },
            "description": "Successful Response"
           },
           "404": {
            "content": {
             "application/json": {
              "schema": [
               "properties",
               "type",
               "title"
              ]
             }
            },
            "description": "Not Found"
           },
           "422": {
            "content": {
             "application/json": {
              "schema": [
               "properties",
               "type",
               "title"
              ]
             }
            },
            "description": "Validation Error"
           }
          },
          "summary": "Lookup Never Ticks",
          "tags": [
           "Lookup"
          ]
         }
        },
        "/api/v1/lookup/str_basket/{id}": {
         "get": {
          "description": "This endpoint lets you lookup any GatewayStruct by its uniquely generated `id`.",
          "operationId": "Lookup_str_basket_api_v1_lookup_str_basket__id__get",
          "parameters": [
           {
            "in": "path",
            "name": "id",
            "required": true,
            "schema": {
             "title": "Id",
             "type": "string"
            }
           }
          ],
          "responses": {
           "200": {
            "content": {
             "application/json": {
              "schema": {
               "items": {
                "properties": {
                 "d": {
                  "default": "2025-03-14",
                  "format": "date",
                  "title": "D",
                  "type": "string"
                 },
                 "data": {
                  "items": {},
                  "title": "Data",
                  "type": "array"
                 },
                 "dt": {
                  "default": "2025-03-14T01:59:42.200557",
                  "format": "date-time",
                  "title": "Dt",
                  "type": "string"
                 },
                 "id": {
                  "title": "Id",
                  "type": "string"
                 },
                 "internal_csp_struct": {
                  "default": {
                   "z": 12
                  },
                  "properties": {
                   "z": {
                    "default": 12,
                    "title": "Z",
                    "type": "integer"
                   }
                  },
                  "title": "Internal Csp Struct",
                  "type": "object"
                 },
                 "mapping": {
                  "additionalProperties": {
                   "type": "integer"
                  },
                  "default": {},
                  "title": "Mapping",
                  "type": "object"
                 },
                 "timestamp": {
                  "format": "date-time",
                  "title": "Timestamp",
                  "type": "string"
                 },
                 "x": {
                  "title": "X",
                  "type": "integer"
                 },
                 "y": {
                  "default": "",
                  "title": "Y",
                  "type": "string"
                 }
                },
                "type": "object"
               },
               "title": "Response Lookup Str Basket Api V1 Lookup Str Basket  Id  Get",
               "type": "array"
              }
             }
            },
            "description": "Successful Response"
           },
           "404": {
            "content": {
             "application/json": {
              "schema": [
               "properties",
               "type",
               "title"
              ]
             }
            },
            "description": "Not Found"
           },
           "422": {
            "content": {
             "application/json": {
              "schema": [
               "properties",
               "type",
               "title"
              ]
             }
            },
            "description": "Validation Error"
           }
          },
          "summary": "Lookup Str Basket",
          "tags": [
           "Lookup"
          ]
         }
        },
        "/api/v1/next/": {
         "get": {
          "description": "This endpoint will return a list of string values of all available channels under the `/next` route.",
          "operationId": "get_next_api_v1_next__get",
          "responses": {
           "200": {
            "content": {
             "application/json": {
              "schema": {
               "items": {
                "type": "string"
               },
               "title": "Response Get Next Api V1 Next  Get",
               "type": "array"
              }
             }
            },
            "description": "Successful Response"
           },
           "404": {
            "content": {
             "application/json": {
              "schema": [
               "properties",
               "type",
               "title"
              ]
             }
            },
            "description": "Not Found"
           }
          },
          "summary": "Get Next",
          "tags": [
           "Next"
          ]
         }
        },
        "/api/v1/next/basket": {
         "get": {
          "description": "Get next ticked value on a dictionary basket channel. This endpoint will return the entire basket",
          "operationId": "Get_Next_basket_api_v1_next_basket_get",
          "responses": {
           "200": {
            "content": {
             "application/json": {
              "schema": {
               "items": {
                "properties": {
                 "d": {
                  "default": "2025-03-14",
                  "format": "date",
                  "title": "D",
                  "type": "string"
                 },
                 "data": {
                  "items": {},
                  "title": "Data",
                  "type": "array"
                 },
                 "dt": {
                  "default": "2025-03-14T01:59:42.200557",
                  "format": "date-time",
                  "title": "Dt",
                  "type": "string"
                 },
                 "id": {
                  "title": "Id",
                  "type": "string"
                 },
                 "internal_csp_struct": {
                  "default": {
                   "z": 12
                  },
                  "properties": {
                   "z": {
                    "default": 12,
                    "title": "Z",
                    "type": "integer"
                   }
                  },
                  "title": "Internal Csp Struct",
                  "type": "object"
                 },
                 "mapping": {
                  "additionalProperties": {
                   "type": "integer"
                  },
                  "default": {},
                  "title": "Mapping",
                  "type": "object"
                 },
                 "timestamp": {
                  "format": "date-time",
                  "title": "Timestamp",
                  "type": "string"
                 },
                 "x": {
                  "title": "X",
                  "type": "integer"
                 },
                 "y": {
                  "default": "",
                  "title": "Y",
                  "type": "string"
                 }
                },
                "type": "object"
               },
               "title": "Response Get Next Basket Api V1 Next Basket Get",
               "type": "array"
              }
             }
            },
            "description": "Successful Response"
           },
           "404": {
            "content": {
             "application/json": {
              "schema": [
               "properties",
               "type",
               "title"
              ]
             }
            },
            "description": "Not Found"
           }
          },
          "summary": "Get Next Basket",
          "tags": [
           "Next"
          ]
         }
        },
        "/api/v1/next/basket/{key}": {
         "get": {
          "description": "Get next ticked value on a dictionary basket channel, where `key` is the key of the dictionary basket.\nIf such a key does not exist or is not mounted, this endpoint will raise a `404` error.",
          "operationId": "Get_Next_basket_by_key_api_v1_next_basket__key__get",
          "parameters": [
           {
            "in": "path",
            "name": "key",
            "required": true,
            "schema": {
             "title": "Key",
             "type": "string"
            }
           }
          ],
          "responses": {
           "200": {
            "content": {
             "application/json": {
              "schema": {
               "items": {
                "properties": {
                 "d": {
                  "default": "2025-03-14",
                  "format": "date",
                  "title": "D",
                  "type": "string"
                 },
                 "data": {
                  "items": {},
                  "title": "Data",
                  "type": "array"
                 },
                 "dt": {
                  "default": "2025-03-14T01:59:42.200557",
                  "format": "date-time",
                  "title": "Dt",
                  "type": "string"
                 },
                 "id": {
                  "title": "Id",
                  "type": "string"
                 },
                 "internal_csp_struct": {
                  "default": {
                   "z": 12
                  },
                  "properties": {
                   "z": {
                    "default": 12,
                    "title": "Z",
                    "type": "integer"
                   }
                  },
                  "title": "Internal Csp Struct",
                  "type": "object"
                 },
                 "mapping": {
                  "additionalProperties": {
                   "type": "integer"
                  },
                  "default": {},
                  "title": "Mapping",
                  "type": "object"
                 },
                 "timestamp": {
                  "format": "date-time",
                  "title": "Timestamp",
                  "type": "string"
                 },
                 "x": {
                  "title": "X",
                  "type": "integer"
                 },
                 "y": {
                  "default": "",
                  "title": "Y",
                  "type": "string"
                 }
                },
                "type": "object"
               },
               "title": "Response Get Next Basket By Key Api V1 Next Basket  Key  Get",
               "type": "array"
              }
             }
            },
            "description": "Successful Response"
           },
           "404": {
            "content": {
             "application/json": {
              "schema": [
               "properties",
               "type",
               "title"
              ]
             }
            },
            "description": "Not Found"
           },
           "422": {
            "content": {
             "application/json": {
              "schema": [
               "properties",
               "type",
               "title"
              ]
             }
            },
            "description": "Validation Error"
           }
          },
          "summary": "Get Next Basket By Key",
          "tags": [
           "Next"
          ]
         }
        },
        "/api/v1/next/controls": {
         "get": {
          "description": "Get next ticked value on a non-basket channel.\nThis endpoint will always return a list of elements.\n\nWhen the underlying channel only handles individual elements, the returned list will only ever contain a single element.\n\nWhen the underlying channel handles lists of elements, the returned list will contain `N>=1` elements.",
          "operationId": "Get_Next_controls_api_v1_next_controls_get",
          "responses": {
           "200": {
            "content": {
             "application/json": {
              "schema": {
               "items": {
                "properties": {
                 "data": {
                  "default": {},
                  "title": "Data",
                  "type": "object"
                 },
                 "data_str": {
                  "default": "",
                  "title": "Data Str",
                  "type": "string"
                 },
                 "id": {
                  "title": "Id",
                  "type": "string"
                 },
                 "name": {
                  "default": "none",
                  "title": "Name",
                  "type": "string"
                 },
                 "status": {
                  "default": "none",
                  "title": "Status",
                  "type": "string"
                 },
                 "timestamp": {
                  "format": "date-time",
                  "title": "Timestamp",
                  "type": "string"
                 }
                },
                "type": "object"
               },
               "title": "Response Get Next Controls Api V1 Next Controls Get",
               "type": "array"
              }
             }
            },
            "description": "Successful Response"
           },
           "404": {
            "content": {
             "application/json": {
              "schema": [
               "properties",
               "type",
               "title"
              ]
             }
            },
            "description": "Not Found"
           }
          },
          "summary": "Get Next Controls",
          "tags": [
           "Next"
          ]
         }
        },
        "/api/v1/next/example": {
         "get": {
          "description": "Get next ticked value on a non-basket channel.\nThis endpoint will always return a list of elements.\n\nWhen the underlying channel only handles individual elements, the returned list will only ever contain a single element.\n\nWhen the underlying channel handles lists of elements, the returned list will contain `N>=1` elements.",
          "operationId": "Get_Next_example_api_v1_next_example_get",
          "responses": {
           "200": {
            "content": {
             "application/json": {
              "schema": {
               "items": {
                "properties": {
                 "d": {
                  "default": "2025-03-14",
                  "format": "date",
                  "title": "D",
                  "type": "string"
                 },
                 "data": {
                  "items": {},
                  "title": "Data",
                  "type": "array"
                 },
                 "dt": {
                  "default": "2025-03-14T01:59:42.200557",
                  "format": "date-time",
                  "title": "Dt",
                  "type": "string"
                 },
                 "id": {
                  "title": "Id",
                  "type": "string"
                 },
                 "internal_csp_struct": {
                  "default": {
                   "z": 12
                  },
                  "properties": {
                   "z": {
                    "default": 12,
                    "title": "Z",
                    "type": "integer"
                   }
                  },
                  "title": "Internal Csp Struct",
                  "type": "object"
                 },
                 "mapping": {
                  "additionalProperties": {
                   "type": "integer"
                  },
                  "default": {},
                  "title": "Mapping",
                  "type": "object"
                 },
                 "timestamp": {
                  "format": "date-time",
                  "title": "Timestamp",
                  "type": "string"
                 },
                 "x": {
                  "title": "X",
                  "type": "integer"
                 },
                 "y": {
                  "default": "",
                  "title": "Y",
                  "type": "string"
                 }
                },
                "type": "object"
               },
               "title": "Response Get Next Example Api V1 Next Example Get",
               "type": "array"
              }
             }
            },
            "description": "Successful Response"
           },
           "404": {
            "content": {
             "application/json": {
              "schema": [
               "properties",
               "type",
               "title"
              ]
             }
            },
            "description": "Not Found"
           }
          },
          "summary": "Get Next Example",
          "tags": [
           "Next"
          ]
         }
        },
        "/api/v1/next/example_list": {
         "get": {
          "description": "Get next ticked value on a non-basket channel.\nThis endpoint will always return a list of elements.\n\nWhen the underlying channel only handles individual elements, the returned list will only ever contain a single element.\n\nWhen the underlying channel handles lists of elements, the returned list will contain `N>=1` elements.",
          "operationId": "Get_Next_example_list_api_v1_next_example_list_get",
          "responses": {
           "200": {
            "content": {
             "application/json": {
              "schema": {
               "items": {
                "properties": {
                 "d": {
                  "default": "2025-03-14",
                  "format": "date",
                  "title": "D",
                  "type": "string"
                 },
                 "data": {
                  "items": {},
                  "title": "Data",
                  "type": "array"
                 },
                 "dt": {
                  "default": "2025-03-14T01:59:42.200557",
                  "format": "date-time",
                  "title": "Dt",
                  "type": "string"
                 },
                 "id": {
                  "title": "Id",
                  "type": "string"
                 },
                 "internal_csp_struct": {
                  "default": {
                   "z": 12
                  },
                  "properties": {
                   "z": {
                    "default": 12,
                    "title": "Z",
                    "type": "integer"
                   }
                  },
                  "title": "Internal Csp Struct",
                  "type": "object"
                 },
                 "mapping": {
                  "additionalProperties": {
                   "type": "integer"
                  },
                  "default": {},
                  "title": "Mapping",
                  "type": "object"
                 },
                 "timestamp": {
                  "format": "date-time",
                  "title": "Timestamp",
                  "type": "string"
                 },
                 "x": {
                  "title": "X",
                  "type": "integer"
                 },
                 "y": {
                  "default": "",
                  "title": "Y",
                  "type": "string"
                 }
                },
                "type": "object"
               },
               "title": "Response Get Next Example List Api V1 Next Example List Get",
               "type": "array"
              }
             }
            },
            "description": "Successful Response"
           },
           "404": {
            "content": {
             "application/json": {
              "schema": [
               "properties",
               "type",
               "title"
              ]
             }
            },
            "description": "Not Found"
           }
          },
          "summary": "Get Next Example List",
          "tags": [
           "Next"
          ]
         }
        },
        "/api/v1/next/never_ticks": {
         "get": {
          "description": "Get next ticked value on a non-basket channel.\nThis endpoint will always return a list of elements.\n\nWhen the underlying channel only handles individual elements, the returned list will only ever contain a single element.\n\nWhen the underlying channel handles lists of elements, the returned list will contain `N>=1` elements.",
          "operationId": "Get_Next_never_ticks_api_v1_next_never_ticks_get",
          "responses": {
           "200": {
            "content": {
             "application/json": {
              "schema": {
               "items": {
                "properties": {
                 "d": {
                  "default": "2025-03-14",
                  "format": "date",
                  "title": "D",
                  "type": "string"
                 },
                 "data": {
                  "items": {},
                  "title": "Data",
                  "type": "array"
                 },
                 "dt": {
                  "default": "2025-03-14T01:59:42.200557",
                  "format": "date-time",
                  "title": "Dt",
                  "type": "string"
                 },
                 "id": {
                  "title": "Id",
                  "type": "string"
                 },
                 "internal_csp_struct": {
                  "default": {
                   "z": 12
                  },
                  "properties": {
                   "z": {
                    "default": 12,
                    "title": "Z",
                    "type": "integer"
                   }
                  },
                  "title": "Internal Csp Struct",
                  "type": "object"
                 },
                 "mapping": {
                  "additionalProperties": {
                   "type": "integer"
                  },
                  "default": {},
                  "title": "Mapping",
                  "type": "object"
                 },
                 "timestamp": {
                  "format": "date-time",
                  "title": "Timestamp",
                  "type": "string"
                 },
                 "x": {
                  "title": "X",
                  "type": "integer"
                 },
                 "y": {
                  "default": "",
                  "title": "Y",
                  "type": "string"
                 }
                },
                "type": "object"
               },
               "title": "Response Get Next Never Ticks Api V1 Next Never Ticks Get",
               "type": "array"
              }
             }
            },
            "description": "Successful Response"
           },
           "404": {
            "content": {
             "application/json": {
              "schema": [
               "properties",
               "type",
               "title"
              ]
             }
            },
            "description": "Not Found"
           }
          },
          "summary": "Get Next Never Ticks",
          "tags": [
           "Next"
          ]
         }
        },
        "/api/v1/next/str_basket": {
         "get": {
          "description": "Get next ticked value on a dictionary basket channel. This endpoint will return the entire basket",
          "operationId": "Get_Next_str_basket_api_v1_next_str_basket_get",
          "responses": {
           "200": {
            "content": {
             "application/json": {
              "schema": {
               "items": {
                "properties": {
                 "d": {
                  "default": "2025-03-14",
                  "format": "date",
                  "title": "D",
                  "type": "string"
                 },
                 "data": {
                  "items": {},
                  "title": "Data",
                  "type": "array"
                 },
                 "dt": {
                  "default": "2025-03-14T01:59:42.200557",
                  "format": "date-time",
                  "title": "Dt",
                  "type": "string"
                 },
                 "id": {
                  "title": "Id",
                  "type": "string"
                 },
                 "internal_csp_struct": {
                  "default": {
                   "z": 12
                  },
                  "properties": {
                   "z": {
                    "default": 12,
                    "title": "Z",
                    "type": "integer"
                   }
                  },
                  "title": "Internal Csp Struct",
                  "type": "object"
                 },
                 "mapping": {
                  "additionalProperties": {
                   "type": "integer"
                  },
                  "default": {},
                  "title": "Mapping",
                  "type": "object"
                 },
                 "timestamp": {
                  "format": "date-time",
                  "title": "Timestamp",
                  "type": "string"
                 },
                 "x": {
                  "title": "X",
                  "type": "integer"
                 },
                 "y": {
                  "default": "",
                  "title": "Y",
                  "type": "string"
                 }
                },
                "type": "object"
               },
               "title": "Response Get Next Str Basket Api V1 Next Str Basket Get",
               "type": "array"
              }
             }
            },
            "description": "Successful Response"
           },
           "404": {
            "content": {
             "application/json": {
              "schema": [
               "properties",
               "type",
               "title"
              ]
             }
            },
            "description": "Not Found"
           }
          },
          "summary": "Get Next Str Basket",
          "tags": [
           "Next"
          ]
         }
        },
        "/api/v1/next/str_basket/{key}": {
         "get": {
          "description": "Get next ticked value on a dictionary basket channel, where `key` is the key of the dictionary basket.\nIf such a key does not exist or is not mounted, this endpoint will raise a `404` error.",
          "operationId": "Get_Next_str_basket_by_key_api_v1_next_str_basket__key__get",
          "parameters": [
           {
            "in": "path",
            "name": "key",
            "required": true,
            "schema": {
             "title": "Key",
             "type": "string"
            }
           }
          ],
          "responses": {
           "200": {
            "content": {
             "application/json": {
              "schema": {
               "items": {
                "properties": {
                 "d": {
                  "default": "2025-03-14",
                  "format": "date",
                  "title": "D",
                  "type": "string"
                 },
                 "data": {
                  "items": {},
                  "title": "Data",
                  "type": "array"
                 },
                 "dt": {
                  "default": "2025-03-14T01:59:42.200557",
                  "format": "date-time",
                  "title": "Dt",
                  "type": "string"
                 },
                 "id": {
                  "title": "Id",
                  "type": "string"
                 },
                 "internal_csp_struct": {
                  "default": {
                   "z": 12
                  },
                  "properties": {
                   "z": {
                    "default": 12,
                    "title": "Z",
                    "type": "integer"
                   }
                  },
                  "title": "Internal Csp Struct",
                  "type": "object"
                 },
                 "mapping": {
                  "additionalProperties": {
                   "type": "integer"
                  },
                  "default": {},
                  "title": "Mapping",
                  "type": "object"
                 },
                 "timestamp": {
                  "format": "date-time",
                  "title": "Timestamp",
                  "type": "string"
                 },
                 "x": {
                  "title": "X",
                  "type": "integer"
                 },
                 "y": {
                  "default": "",
                  "title": "Y",
                  "type": "string"
                 }
                },
                "type": "object"
               },
               "title": "Response Get Next Str Basket By Key Api V1 Next Str Basket  Key  Get",
               "type": "array"
              }
             }
            },
            "description": "Successful Response"
           },
           "404": {
            "content": {
             "application/json": {
              "schema": [
               "properties",
               "type",
               "title"
              ]
             }
            },
            "description": "Not Found"
           },
           "422": {
            "content": {
             "application/json": {
              "schema": [
               "properties",
               "type",
               "title"
              ]
             }
            },
            "description": "Validation Error"
           }
          },
          "summary": "Get Next Str Basket By Key",
          "tags": [
           "Next"
          ]
         }
        },
        "/api/v1/perspective/layouts": {
         "get": {
          "description": "This endpoint exposes saved [perspective](https://github.com/finos/perspective) workspace layouts.\nThese layouts can be configured server side to be provided to all clients.",
          "operationId": "get_perspective_layouts_api_v1_perspective_layouts_get",
          "responses": {
           "200": {
            "content": {
             "application/json": {
              "schema": {
               "additionalProperties": {
                "type": "string"
               },
               "title": "Response Get Perspective Layouts Api V1 Perspective Layouts Get",
               "type": "object"
              }
             }
            },
            "description": "Successful Response"
           },
           "404": {
            "content": {
             "application/json": {
              "schema": [
               "properties",
               "type",
               "title"
              ]
             }
            },
            "description": "Not Found"
           }
          },
          "summary": "Get Perspective Layouts",
          "tags": [
           "Utility"
          ]
         }
        },
        "/api/v1/perspective/tables": {
         "get": {
          "description": "This endpoint exposes the served [perspective](https://github.com/finos/perspective) table names and schemas.\n\nIt can be used for `perspective`-based dashboards to build interactive visualization,\nsuch as the one provided as an example for the `csp-gateway` project.\nDepending on your server's configuration, this might be available at [`/`](/)",
          "operationId": "get_perspective_table_names_api_v1_perspective_tables_get",
          "responses": {
           "200": {
            "content": {
             "application/json": {
              "schema": {
               "additionalProperties": {
                "additionalProperties": {
                 "type": "string"
                },
                "type": "object"
               },
               "title": "Response Get Perspective Table Names Api V1 Perspective Tables Get",
               "type": "object"
              }
             }
            },
            "description": "Successful Response"
           },
           "404": {
            "content": {
             "application/json": {
              "schema": [
               "properties",
               "type",
               "title"
              ]
             }
            },
            "description": "Not Found"
           }
          },
          "summary": "Get Perspective Table Names",
          "tags": [
           "Utility"
          ]
         }
        },
        "/api/v1/send/": {
         "get": {
          "description": "This endpoint will return a list of string values of all available channels under the `/send` route.",
          "operationId": "get_send_api_v1_send__get",
          "responses": {
           "200": {
            "content": {
             "application/json": {
              "schema": {
               "items": {
                "type": "string"
               },
               "title": "Response Get Send Api V1 Send  Get",
               "type": "array"
              }
             }
            },
            "description": "Successful Response"
           },
           "404": {
            "content": {
             "application/json": {
              "schema": [
               "properties",
               "type",
               "title"
              ]
             }
            },
            "description": "Not Found"
           }
          },
          "summary": "Get Send",
          "tags": [
           "Requests"
          ]
         }
        },
        "/api/v1/send/basket": {
         "post": {
          "operationId": "Send_basket_api_v1_send_basket_post",
          "requestBody": {
           "content": {
            "application/json": {
             "schema": {
              "additionalProperties": {
               "properties": {
                "d": {
                 "default": "2025-03-14",
                 "format": "date",
                 "title": "D",
                 "type": "string"
                },
                "data": {
                 "title": "Data"
                },
                "dt": {
                 "default": "2025-03-14T01:59:42.200557",
                 "format": "date-time",
                 "title": "Dt",
                 "type": "string"
                },
                "id": {
                 "title": "Id",
                 "type": "string"
                },
                "internal_csp_struct": {
                 "default": {
                  "z": 12
                 },
                 "properties": {
                  "z": {
                   "default": 12,
                   "title": "Z",
                   "type": "integer"
                  }
                 },
                 "title": "Internal Csp Struct",
                 "type": "object"
                },
                "mapping": {
                 "additionalProperties": {
                  "type": "integer"
                 },
                 "default": {},
                 "title": "Mapping",
                 "type": "object"
                },
                "timestamp": {
                 "format": "date-time",
                 "title": "Timestamp",
                 "type": "string"
                },
                "x": {
                 "title": "X",
                 "type": "integer"
                },
                "y": {
                 "default": "",
                 "title": "Y",
                 "type": "string"
                }
               },
               "type": "object"
              },
              "propertyNames": {
               "description": "An enumeration of ExampleEnum",
               "enum": [
                "A",
                "B",
                "C"
               ]
              },
              "title": "Data",
              "type": "object"
             }
            }
           },
           "required": true
          },
          "responses": {
           "200": {
            "content": {
             "application/json": {
              "schema": {
               "additionalProperties": {
                "properties": {
                 "d": {
                  "default": "2025-03-14",
                  "format": "date",
                  "title": "D",
                  "type": "string"
                 },
                 "data": {
                  "items": {},
                  "title": "Data",
                  "type": "array"
                 },
                 "dt": {
                  "default": "2025-03-14T01:59:42.200557",
                  "format": "date-time",
                  "title": "Dt",
                  "type": "string"
                 },
                 "id": {
                  "title": "Id",
                  "type": "string"
                 },
                 "internal_csp_struct": {
                  "default": {
                   "z": 12
                  },
                  "properties": {
                   "z": {
                    "default": 12,
                    "title": "Z",
                    "type": "integer"
                   }
                  },
                  "title": "Internal Csp Struct",
                  "type": "object"
                 },
                 "mapping": {
                  "additionalProperties": {
                   "type": "integer"
                  },
                  "default": {},
                  "title": "Mapping",
                  "type": "object"
                 },
                 "timestamp": {
                  "format": "date-time",
                  "title": "Timestamp",
                  "type": "string"
                 },
                 "x": {
                  "title": "X",
                  "type": "integer"
                 },
                 "y": {
                  "default": "",
                  "title": "Y",
                  "type": "string"
                 }
                },
                "type": "object"
               },
               "propertyNames": {
                "description": "An enumeration of ExampleEnum",
                "enum": [
                 "A",
                 "B",
                 "C"
                ]
               },
               "title": "Response Send Basket Api V1 Send Basket Post",
               "type": "object"
              }
             }
            },
            "description": "Successful Response"
           },
           "404": {
            "content": {
             "application/json": {
              "schema": [
               "properties",
               "type",
               "title"
              ]
             }
            },
            "description": "Not Found"
           },
           "422": {
            "content": {
             "application/json": {
              "schema": [
               "properties",
               "type",
               "title"
              ]
             }
            },
            "description": "Validation Error"
           }
          },
          "summary": "Send Basket",
          "tags": [
           "Requests"
          ]
         }
        },
        "/api/v1/send/basket/{key}": {
         "post": {
          "description": "Send data to a dictionary basket channel, where `key` is the key of the dictionary basket.\nIf such a key does not exist or is not mounted, this endpoint will raise a `404` error.",
          "operationId": "Send_basket_by_key_api_v1_send_basket__key__post",
          "parameters": [
           {
            "in": "path",
            "name": "key",
            "required": true,
            "schema": {
             "description": "An enumeration of ExampleEnum",
             "enum": [
              "A",
              "B",
              "C"
             ],
             "title": "Key",
             "type": "string"
            }
           }
          ],
          "requestBody": {
           "content": {
            "application/json": {
             "schema": {
              "anyOf": [
               {
                "items": {
                 "properties": {
                  "d": {
                   "default": "2025-03-14",
                   "format": "date",
                   "title": "D",
                   "type": "string"
                  },
                  "data": {
                   "title": "Data"
                  },
                  "dt": {
                   "default": "2025-03-14T01:59:42.200557",
                   "format": "date-time",
                   "title": "Dt",
                   "type": "string"
                  },
                  "id": {
                   "title": "Id",
                   "type": "string"
                  },
                  "internal_csp_struct": {
                   "default": {
                    "z": 12
                   },
                   "properties": {
                    "z": {
                     "default": 12,
                     "title": "Z",
                     "type": "integer"
                    }
                   },
                   "title": "Internal Csp Struct",
                   "type": "object"
                  },
                  "mapping": {
                   "additionalProperties": {
                    "type": "integer"
                   },
                   "default": {},
                   "title": "Mapping",
                   "type": "object"
                  },
                  "timestamp": {
                   "format": "date-time",
                   "title": "Timestamp",
                   "type": "string"
                  },
                  "x": {
                   "title": "X",
                   "type": "integer"
                  },
                  "y": {
                   "default": "",
                   "title": "Y",
                   "type": "string"
                  }
                 },
                 "type": "object"
                },
                "type": "array"
               },
               {
                "properties": {
                 "d": {
                  "default": "2025-03-14",
                  "format": "date",
                  "title": "D",
                  "type": "string"
                 },
                 "data": {
                  "title": "Data"
                 },
                 "dt": {
                  "default": "2025-03-14T01:59:42.200557",
                  "format": "date-time",
                  "title": "Dt",
                  "type": "string"
                 },
                 "id": {
                  "title": "Id",
                  "type": "string"
                 },
                 "internal_csp_struct": {
                  "default": {
                   "z": 12
                  },
                  "properties": {
                   "z": {
                    "default": 12,
                    "title": "Z",
                    "type": "integer"
                   }
                  },
                  "title": "Internal Csp Struct",
                  "type": "object"
                 },
                 "mapping": {
                  "additionalProperties": {
                   "type": "integer"
                  },
                  "default": {},
                  "title": "Mapping",
                  "type": "object"
                 },
                 "timestamp": {
                  "format": "date-time",
                  "title": "Timestamp",
                  "type": "string"
                 },
                 "x": {
                  "title": "X",
                  "type": "integer"
                 },
                 "y": {
                  "default": "",
                  "title": "Y",
                  "type": "string"
                 }
                },
                "type": "object"
               }
              ],
              "title": "Data"
             }
            }
           },
           "required": true
          },
          "responses": {
           "200": {
            "content": {
             "application/json": {
              "schema": {
               "items": {
                "properties": {
                 "d": {
                  "default": "2025-03-14",
                  "format": "date",
                  "title": "D",
                  "type": "string"
                 },
                 "data": {
                  "items": {},
                  "title": "Data",
                  "type": "array"
                 },
                 "dt": {
                  "default": "2025-03-14T01:59:42.200557",
                  "format": "date-time",
                  "title": "Dt",
                  "type": "string"
                 },
                 "id": {
                  "title": "Id",
                  "type": "string"
                 },
                 "internal_csp_struct": {
                  "default": {
                   "z": 12
                  },
                  "properties": {
                   "z": {
                    "default": 12,
                    "title": "Z",
                    "type": "integer"
                   }
                  },
                  "title": "Internal Csp Struct",
                  "type": "object"
                 },
                 "mapping": {
                  "additionalProperties": {
                   "type": "integer"
                  },
                  "default": {},
                  "title": "Mapping",
                  "type": "object"
                 },
                 "timestamp": {
                  "format": "date-time",
                  "title": "Timestamp",
                  "type": "string"
                 },
                 "x": {
                  "title": "X",
                  "type": "integer"
                 },
                 "y": {
                  "default": "",
                  "title": "Y",
                  "type": "string"
                 }
                },
                "type": "object"
               },
               "title": "Response Send Basket By Key Api V1 Send Basket  Key  Post",
               "type": "array"
              }
             }
            },
            "description": "Successful Response"
           },
           "404": {
            "content": {
             "application/json": {
              "schema": [
               "properties",
               "type",
               "title"
              ]
             }
            },
            "description": "Not Found"
           },
           "422": {
            "content": {
             "application/json": {
              "schema": [
               "properties",
               "type",
               "title"
              ]
             }
            },
            "description": "Validation Error"
           }
          },
          "summary": "Send Basket By Key",
          "tags": [
           "Requests"
          ]
         }
        },
        "/api/v1/send/controls": {
         "post": {
          "description": "Send data to a non-basket channel. This endpoint can accept either a single element, or a list of elements.\nA list of elements will be returned with `id` and `timestamp` fields assigned.\nUsers should not provide `id` or `timestamp` fields as these will be ignored.",
          "operationId": "Send_controls_api_v1_send_controls_post",
          "requestBody": {
           "content": {
            "application/json": {
             "schema": {
              "anyOf": [
               {
                "items": {
                 "properties": {
                  "data": {
                   "default": {},
                   "title": "Data",
                   "type": "object"
                  },
                  "data_str": {
                   "default": "",
                   "title": "Data Str",
                   "type": "string"
                  },
                  "id": {
                   "title": "Id",
                   "type": "string"
                  },
                  "name": {
                   "default": "none",
                   "title": "Name",
                   "type": "string"
                  },
                  "status": {
                   "default": "none",
                   "title": "Status",
                   "type": "string"
                  },
                  "timestamp": {
                   "format": "date-time",
                   "title": "Timestamp",
                   "type": "string"
                  }
                 },
                 "type": "object"
                },
                "type": "array"
               },
               {
                "properties": {
                 "data": {
                  "default": {},
                  "title": "Data",
                  "type": "object"
                 },
                 "data_str": {
                  "default": "",
                  "title": "Data Str",
                  "type": "string"
                 },
                 "id": {
                  "title": "Id",
                  "type": "string"
                 },
                 "name": {
                  "default": "none",
                  "title": "Name",
                  "type": "string"
                 },
                 "status": {
                  "default": "none",
                  "title": "Status",
                  "type": "string"
                 },
                 "timestamp": {
                  "format": "date-time",
                  "title": "Timestamp",
                  "type": "string"
                 }
                },
                "type": "object"
               }
              ],
              "title": "Data"
             }
            }
           },
           "required": true
          },
          "responses": {
           "200": {
            "content": {
             "application/json": {
              "schema": {
               "items": {
                "properties": {
                 "data": {
                  "default": {},
                  "title": "Data",
                  "type": "object"
                 },
                 "data_str": {
                  "default": "",
                  "title": "Data Str",
                  "type": "string"
                 },
                 "id": {
                  "title": "Id",
                  "type": "string"
                 },
                 "name": {
                  "default": "none",
                  "title": "Name",
                  "type": "string"
                 },
                 "status": {
                  "default": "none",
                  "title": "Status",
                  "type": "string"
                 },
                 "timestamp": {
                  "format": "date-time",
                  "title": "Timestamp",
                  "type": "string"
                 }
                },
                "type": "object"
               },
               "title": "Response Send Controls Api V1 Send Controls Post",
               "type": "array"
              }
             }
            },
            "description": "Successful Response"
           },
           "404": {
            "content": {
             "application/json": {
              "schema": [
               "properties",
               "type",
               "title"
              ]
             }
            },
            "description": "Not Found"
           },
           "422": {
            "content": {
             "application/json": {
              "schema": [
               "properties",
               "type",
               "title"
              ]
             }
            },
            "description": "Validation Error"
           }
          },
          "summary": "Send Controls",
          "tags": [
           "Requests"
          ]
         }
        },
        "/api/v1/send/example": {
         "post": {
          "description": "Send data to a non-basket channel. This endpoint can accept either a single element, or a list of elements.\nA list of elements will be returned with `id` and `timestamp` fields assigned.\nUsers should not provide `id` or `timestamp` fields as these will be ignored.",
          "operationId": "Send_example_api_v1_send_example_post",
          "requestBody": {
           "content": {
            "application/json": {
             "schema": {
              "anyOf": [
               {
                "items": {
                 "properties": {
                  "d": {
                   "default": "2025-03-14",
                   "format": "date",
                   "title": "D",
                   "type": "string"
                  },
                  "data": {
                   "title": "Data"
                  },
                  "dt": {
                   "default": "2025-03-14T01:59:42.200557",
                   "format": "date-time",
                   "title": "Dt",
                   "type": "string"
                  },
                  "id": {
                   "title": "Id",
                   "type": "string"
                  },
                  "internal_csp_struct": {
                   "default": {
                    "z": 12
                   },
                   "properties": {
                    "z": {
                     "default": 12,
                     "title": "Z",
                     "type": "integer"
                    }
                   },
                   "title": "Internal Csp Struct",
                   "type": "object"
                  },
                  "mapping": {
                   "additionalProperties": {
                    "type": "integer"
                   },
                   "default": {},
                   "title": "Mapping",
                   "type": "object"
                  },
                  "timestamp": {
                   "format": "date-time",
                   "title": "Timestamp",
                   "type": "string"
                  },
                  "x": {
                   "title": "X",
                   "type": "integer"
                  },
                  "y": {
                   "default": "",
                   "title": "Y",
                   "type": "string"
                  }
                 },
                 "type": "object"
                },
                "type": "array"
               },
               {
                "properties": {
                 "d": {
                  "default": "2025-03-14",
                  "format": "date",
                  "title": "D",
                  "type": "string"
                 },
                 "data": {
                  "title": "Data"
                 },
                 "dt": {
                  "default": "2025-03-14T01:59:42.200557",
                  "format": "date-time",
                  "title": "Dt",
                  "type": "string"
                 },
                 "id": {
                  "title": "Id",
                  "type": "string"
                 },
                 "internal_csp_struct": {
                  "default": {
                   "z": 12
                  },
                  "properties": {
                   "z": {
                    "default": 12,
                    "title": "Z",
                    "type": "integer"
                   }
                  },
                  "title": "Internal Csp Struct",
                  "type": "object"
                 },
                 "mapping": {
                  "additionalProperties": {
                   "type": "integer"
                  },
                  "default": {},
                  "title": "Mapping",
                  "type": "object"
                 },
                 "timestamp": {
                  "format": "date-time",
                  "title": "Timestamp",
                  "type": "string"
                 },
                 "x": {
                  "title": "X",
                  "type": "integer"
                 },
                 "y": {
                  "default": "",
                  "title": "Y",
                  "type": "string"
                 }
                },
                "type": "object"
               }
              ],
              "title": "Data"
             }
            }
           },
           "required": true
          },
          "responses": {
           "200": {
            "content": {
             "application/json": {
              "schema": {
               "items": {
                "properties": {
                 "d": {
                  "default": "2025-03-14",
                  "format": "date",
                  "title": "D",
                  "type": "string"
                 },
                 "data": {
                  "items": {},
                  "title": "Data",
                  "type": "array"
                 },
                 "dt": {
                  "default": "2025-03-14T01:59:42.200557",
                  "format": "date-time",
                  "title": "Dt",
                  "type": "string"
                 },
                 "id": {
                  "title": "Id",
                  "type": "string"
                 },
                 "internal_csp_struct": {
                  "default": {
                   "z": 12
                  },
                  "properties": {
                   "z": {
                    "default": 12,
                    "title": "Z",
                    "type": "integer"
                   }
                  },
                  "title": "Internal Csp Struct",
                  "type": "object"
                 },
                 "mapping": {
                  "additionalProperties": {
                   "type": "integer"
                  },
                  "default": {},
                  "title": "Mapping",
                  "type": "object"
                 },
                 "timestamp": {
                  "format": "date-time",
                  "title": "Timestamp",
                  "type": "string"
                 },
                 "x": {
                  "title": "X",
                  "type": "integer"
                 },
                 "y": {
                  "default": "",
                  "title": "Y",
                  "type": "string"
                 }
                },
                "type": "object"
               },
               "title": "Response Send Example Api V1 Send Example Post",
               "type": "array"
              }
             }
            },
            "description": "Successful Response"
           },
           "404": {
            "content": {
             "application/json": {
              "schema": [
               "properties",
               "type",
               "title"
              ]
             }
            },
            "description": "Not Found"
           },
           "422": {
            "content": {
             "application/json": {
              "schema": [
               "properties",
               "type",
               "title"
              ]
             }
            },
            "description": "Validation Error"
           }
          },
          "summary": "Send Example",
          "tags": [
           "Requests"
          ]
         }
        },
        "/api/v1/send/example_list": {
         "post": {
          "description": "Send data to a non-basket channel. This endpoint can accept either a single element, or a list of elements.\nA list of elements will be returned with `id` and `timestamp` fields assigned.\nUsers should not provide `id` or `timestamp` fields as these will be ignored.",
          "operationId": "Send_example_list_api_v1_send_example_list_post",
          "requestBody": {
           "content": {
            "application/json": {
             "schema": {
              "anyOf": [
               {
                "items": {
                 "properties": {
                  "d": {
                   "default": "2025-03-14",
                   "format": "date",
                   "title": "D",
                   "type": "string"
                  },
                  "data": {
                   "title": "Data"
                  },
                  "dt": {
                   "default": "2025-03-14T01:59:42.200557",
                   "format": "date-time",
                   "title": "Dt",
                   "type": "string"
                  },
                  "id": {
                   "title": "Id",
                   "type": "string"
                  },
                  "internal_csp_struct": {
                   "default": {
                    "z": 12
                   },
                   "properties": {
                    "z": {
                     "default": 12,
                     "title": "Z",
                     "type": "integer"
                    }
                   },
                   "title": "Internal Csp Struct",
                   "type": "object"
                  },
                  "mapping": {
                   "additionalProperties": {
                    "type": "integer"
                   },
                   "default": {},
                   "title": "Mapping",
                   "type": "object"
                  },
                  "timestamp": {
                   "format": "date-time",
                   "title": "Timestamp",
                   "type": "string"
                  },
                  "x": {
                   "title": "X",
                   "type": "integer"
                  },
                  "y": {
                   "default": "",
                   "title": "Y",
                   "type": "string"
                  }
                 },
                 "type": "object"
                },
                "type": "array"
               },
               {
                "properties": {
                 "d": {
                  "default": "2025-03-14",
                  "format": "date",
                  "title": "D",
                  "type": "string"
                 },
                 "data": {
                  "title": "Data"
                 },
                 "dt": {
                  "default": "2025-03-14T01:59:42.200557",
                  "format": "date-time",
                  "title": "Dt",
                  "type": "string"
                 },
                 "id": {
                  "title": "Id",
                  "type": "string"
                 },
                 "internal_csp_struct": {
                  "default": {
                   "z": 12
                  },
                  "properties": {
                   "z": {
                    "default": 12,
                    "title": "Z",
                    "type": "integer"
                   }
                  },
                  "title": "Internal Csp Struct",
                  "type": "object"
                 },
                 "mapping": {
                  "additionalProperties": {
                   "type": "integer"
                  },
                  "default": {},
                  "title": "Mapping",
                  "type": "object"
                 },
                 "timestamp": {
                  "format": "date-time",
                  "title": "Timestamp",
                  "type": "string"
                 },
                 "x": {
                  "title": "X",
                  "type": "integer"
                 },
                 "y": {
                  "default": "",
                  "title": "Y",
                  "type": "string"
                 }
                },
                "type": "object"
               }
              ],
              "title": "Data"
             }
            }
           },
           "required": true
          },
          "responses": {
           "200": {
            "content": {
             "application/json": {
              "schema": {
               "items": {
                "properties": {
                 "d": {
                  "default": "2025-03-14",
                  "format": "date",
                  "title": "D",
                  "type": "string"
                 },
                 "data": {
                  "items": {},
                  "title": "Data",
                  "type": "array"
                 },
                 "dt": {
                  "default": "2025-03-14T01:59:42.200557",
                  "format": "date-time",
                  "title": "Dt",
                  "type": "string"
                 },
                 "id": {
                  "title": "Id",
                  "type": "string"
                 },
                 "internal_csp_struct": {
                  "default": {
                   "z": 12
                  },
                  "properties": {
                   "z": {
                    "default": 12,
                    "title": "Z",
                    "type": "integer"
                   }
                  },
                  "title": "Internal Csp Struct",
                  "type": "object"
                 },
                 "mapping": {
                  "additionalProperties": {
                   "type": "integer"
                  },
                  "default": {},
                  "title": "Mapping",
                  "type": "object"
                 },
                 "timestamp": {
                  "format": "date-time",
                  "title": "Timestamp",
                  "type": "string"
                 },
                 "x": {
                  "title": "X",
                  "type": "integer"
                 },
                 "y": {
                  "default": "",
                  "title": "Y",
                  "type": "string"
                 }
                },
                "type": "object"
               },
               "title": "Response Send Example List Api V1 Send Example List Post",
               "type": "array"
              }
             }
            },
            "description": "Successful Response"
           },
           "404": {
            "content": {
             "application/json": {
              "schema": [
               "properties",
               "type",
               "title"
              ]
             }
            },
            "description": "Not Found"
           },
           "422": {
            "content": {
             "application/json": {
              "schema": [
               "properties",
               "type",
               "title"
              ]
             }
            },
            "description": "Validation Error"
           }
          },
          "summary": "Send Example List",
          "tags": [
           "Requests"
          ]
         }
        },
        "/api/v1/send/never_ticks": {
         "post": {
          "description": "Send data to a non-basket channel. This endpoint can accept either a single element, or a list of elements.\nA list of elements will be returned with `id` and `timestamp` fields assigned.\nUsers should not provide `id` or `timestamp` fields as these will be ignored.",
          "operationId": "Send_never_ticks_api_v1_send_never_ticks_post",
          "requestBody": {
           "content": {
            "application/json": {
             "schema": {
              "anyOf": [
               {
                "items": {
                 "properties": {
                  "d": {
                   "default": "2025-03-14",
                   "format": "date",
                   "title": "D",
                   "type": "string"
                  },
                  "data": {
                   "title": "Data"
                  },
                  "dt": {
                   "default": "2025-03-14T01:59:42.200557",
                   "format": "date-time",
                   "title": "Dt",
                   "type": "string"
                  },
                  "id": {
                   "title": "Id",
                   "type": "string"
                  },
                  "internal_csp_struct": {
                   "default": {
                    "z": 12
                   },
                   "properties": {
                    "z": {
                     "default": 12,
                     "title": "Z",
                     "type": "integer"
                    }
                   },
                   "title": "Internal Csp Struct",
                   "type": "object"
                  },
                  "mapping": {
                   "additionalProperties": {
                    "type": "integer"
                   },
                   "default": {},
                   "title": "Mapping",
                   "type": "object"
                  },
                  "timestamp": {
                   "format": "date-time",
                   "title": "Timestamp",
                   "type": "string"
                  },
                  "x": {
                   "title": "X",
                   "type": "integer"
                  },
                  "y": {
                   "default": "",
                   "title": "Y",
                   "type": "string"
                  }
                 },
                 "type": "object"
                },
                "type": "array"
               },
               {
                "properties": {
                 "d": {
                  "default": "2025-03-14",
                  "format": "date",
                  "title": "D",
                  "type": "string"
                 },
                 "data": {
                  "title": "Data"
                 },
                 "dt": {
                  "default": "2025-03-14T01:59:42.200557",
                  "format": "date-time",
                  "title": "Dt",
                  "type": "string"
                 },
                 "id": {
                  "title": "Id",
                  "type": "string"
                 },
                 "internal_csp_struct": {
                  "default": {
                   "z": 12
                  },
                  "properties": {
                   "z": {
                    "default": 12,
                    "title": "Z",
                    "type": "integer"
                   }
                  },
                  "title": "Internal Csp Struct",
                  "type": "object"
                 },
                 "mapping": {
                  "additionalProperties": {
                   "type": "integer"
                  },
                  "default": {},
                  "title": "Mapping",
                  "type": "object"
                 },
                 "timestamp": {
                  "format": "date-time",
                  "title": "Timestamp",
                  "type": "string"
                 },
                 "x": {
                  "title": "X",
                  "type": "integer"
                 },
                 "y": {
                  "default": "",
                  "title": "Y",
                  "type": "string"
                 }
                },
                "type": "object"
               }
              ],
              "title": "Data"
             }
            }
           },
           "required": true
          },
          "responses": {
           "200": {
            "content": {
             "application/json": {
              "schema": {
               "items": {
                "properties": {
                 "d": {
                  "default": "2025-03-14",
                  "format": "date",
                  "title": "D",
                  "type": "string"
                 },
                 "data": {
                  "items": {},
                  "title": "Data",
                  "type": "array"
                 },
                 "dt": {
                  "default": "2025-03-14T01:59:42.200557",
                  "format": "date-time",
                  "title": "Dt",
                  "type": "string"
                 },
                 "id": {
                  "title": "Id",
                  "type": "string"
                 },
                 "internal_csp_struct": {
                  "default": {
                   "z": 12
                  },
                  "properties": {
                   "z": {
                    "default": 12,
                    "title": "Z",
                    "type": "integer"
                   }
                  },
                  "title": "Internal Csp Struct",
                  "type": "object"
                 },
                 "mapping": {
                  "additionalProperties": {
                   "type": "integer"
                  },
                  "default": {},
                  "title": "Mapping",
                  "type": "object"
                 },
                 "timestamp": {
                  "format": "date-time",
                  "title": "Timestamp",
                  "type": "string"
                 },
                 "x": {
                  "title": "X",
                  "type": "integer"
                 },
                 "y": {
                  "default": "",
                  "title": "Y",
                  "type": "string"
                 }
                },
                "type": "object"
               },
               "title": "Response Send Never Ticks Api V1 Send Never Ticks Post",
               "type": "array"
              }
             }
            },
            "description": "Successful Response"
           },
           "404": {
            "content": {
             "application/json": {
              "schema": [
               "properties",
               "type",
               "title"
              ]
             }
            },
            "description": "Not Found"
           },
           "422": {
            "content": {
             "application/json": {
              "schema": [
               "properties",
               "type",
               "title"
              ]
             }
            },
            "description": "Validation Error"
           }
          },
          "summary": "Send Never Ticks",
          "tags": [
           "Requests"
          ]
         }
        },
        "/api/v1/send/str_basket": {
         "post": {
          "operationId": "Send_str_basket_api_v1_send_str_basket_post",
          "requestBody": {
           "content": {
            "application/json": {
             "schema": {
              "additionalProperties": {
               "properties": {
                "d": {
                 "default": "2025-03-14",
                 "format": "date",
                 "title": "D",
                 "type": "string"
                },
                "data": {
                 "title": "Data"
                },
                "dt": {
                 "default": "2025-03-14T01:59:42.200557",
                 "format": "date-time",
                 "title": "Dt",
                 "type": "string"
                },
                "id": {
                 "title": "Id",
                 "type": "string"
                },
                "internal_csp_struct": {
                 "default": {
                  "z": 12
                 },
                 "properties": {
                  "z": {
                   "default": 12,
                   "title": "Z",
                   "type": "integer"
                  }
                 },
                 "title": "Internal Csp Struct",
                 "type": "object"
                },
                "mapping": {
                 "additionalProperties": {
                  "type": "integer"
                 },
                 "default": {},
                 "title": "Mapping",
                 "type": "object"
                },
                "timestamp": {
                 "format": "date-time",
                 "title": "Timestamp",
                 "type": "string"
                },
                "x": {
                 "title": "X",
                 "type": "integer"
                },
                "y": {
                 "default": "",
                 "title": "Y",
                 "type": "string"
                }
               },
               "type": "object"
              },
              "title": "Data",
              "type": "object"
             }
            }
           },
           "required": true
          },
          "responses": {
           "200": {
            "content": {
             "application/json": {
              "schema": {
               "additionalProperties": {
                "properties": {
                 "d": {
                  "default": "2025-03-14",
                  "format": "date",
                  "title": "D",
                  "type": "string"
                 },
                 "data": {
                  "items": {},
                  "title": "Data",
                  "type": "array"
                 },
                 "dt": {
                  "default": "2025-03-14T01:59:42.200557",
                  "format": "date-time",
                  "title": "Dt",
                  "type": "string"
                 },
                 "id": {
                  "title": "Id",
                  "type": "string"
                 },
                 "internal_csp_struct": {
                  "default": {
                   "z": 12
                  },
                  "properties": {
                   "z": {
                    "default": 12,
                    "title": "Z",
                    "type": "integer"
                   }
                  },
                  "title": "Internal Csp Struct",
                  "type": "object"
                 },
                 "mapping": {
                  "additionalProperties": {
                   "type": "integer"
                  },
                  "default": {},
                  "title": "Mapping",
                  "type": "object"
                 },
                 "timestamp": {
                  "format": "date-time",
                  "title": "Timestamp",
                  "type": "string"
                 },
                 "x": {
                  "title": "X",
                  "type": "integer"
                 },
                 "y": {
                  "default": "",
                  "title": "Y",
                  "type": "string"
                 }
                },
                "type": "object"
               },
               "title": "Response Send Str Basket Api V1 Send Str Basket Post",
               "type": "object"
              }
             }
            },
            "description": "Successful Response"
           },
           "404": {
            "content": {
             "application/json": {
              "schema": [
               "properties",
               "type",
               "title"
              ]
             }
            },
            "description": "Not Found"
           },
           "422": {
            "content": {
             "application/json": {
              "schema": [
               "properties",
               "type",
               "title"
              ]
             }
            },
            "description": "Validation Error"
           }
          },
          "summary": "Send Str Basket",
          "tags": [
           "Requests"
          ]
         }
        },
        "/api/v1/send/str_basket/{key}": {
         "post": {
          "description": "Send data to a dictionary basket channel, where `key` is the key of the dictionary basket.\nIf such a key does not exist or is not mounted, this endpoint will raise a `404` error.",
          "operationId": "Send_str_basket_by_key_api_v1_send_str_basket__key__post",
          "parameters": [
           {
            "in": "path",
            "name": "key",
            "required": true,
            "schema": {
             "title": "Key",
             "type": "string"
            }
           }
          ],
          "requestBody": {
           "content": {
            "application/json": {
             "schema": {
              "anyOf": [
               {
                "items": {
                 "properties": {
                  "d": {
                   "default": "2025-03-14",
                   "format": "date",
                   "title": "D",
                   "type": "string"
                  },
                  "data": {
                   "title": "Data"
                  },
                  "dt": {
                   "default": "2025-03-14T01:59:42.200557",
                   "format": "date-time",
                   "title": "Dt",
                   "type": "string"
                  },
                  "id": {
                   "title": "Id",
                   "type": "string"
                  },
                  "internal_csp_struct": {
                   "default": {
                    "z": 12
                   },
                   "properties": {
                    "z": {
                     "default": 12,
                     "title": "Z",
                     "type": "integer"
                    }
                   },
                   "title": "Internal Csp Struct",
                   "type": "object"
                  },
                  "mapping": {
                   "additionalProperties": {
                    "type": "integer"
                   },
                   "default": {},
                   "title": "Mapping",
                   "type": "object"
                  },
                  "timestamp": {
                   "format": "date-time",
                   "title": "Timestamp",
                   "type": "string"
                  },
                  "x": {
                   "title": "X",
                   "type": "integer"
                  },
                  "y": {
                   "default": "",
                   "title": "Y",
                   "type": "string"
                  }
                 },
                 "type": "object"
                },
                "type": "array"
               },
               {
                "properties": {
                 "d": {
                  "default": "2025-03-14",
                  "format": "date",
                  "title": "D",
                  "type": "string"
                 },
                 "data": {
                  "title": "Data"
                 },
                 "dt": {
                  "default": "2025-03-14T01:59:42.200557",
                  "format": "date-time",
                  "title": "Dt",
                  "type": "string"
                 },
                 "id": {
                  "title": "Id",
                  "type": "string"
                 },
                 "internal_csp_struct": {
                  "default": {
                   "z": 12
                  },
                  "properties": {
                   "z": {
                    "default": 12,
                    "title": "Z",
                    "type": "integer"
                   }
                  },
                  "title": "Internal Csp Struct",
                  "type": "object"
                 },
                 "mapping": {
                  "additionalProperties": {
                   "type": "integer"
                  },
                  "default": {},
                  "title": "Mapping",
                  "type": "object"
                 },
                 "timestamp": {
                  "format": "date-time",
                  "title": "Timestamp",
                  "type": "string"
                 },
                 "x": {
                  "title": "X",
                  "type": "integer"
                 },
                 "y": {
                  "default": "",
                  "title": "Y",
                  "type": "string"
                 }
                },
                "type": "object"
               }
              ],
              "title": "Data"
             }
            }
           },
           "required": true
          },
          "responses": {
           "200": {
            "content": {
             "application/json": {
              "schema": {
               "items": {
                "properties": {
                 "d": {
                  "default": "2025-03-14",
                  "format": "date",
                  "title": "D",
                  "type": "string"
                 },
                 "data": {
                  "items": {},
                  "title": "Data",
                  "type": "array"
                 },
                 "dt": {
                  "default": "2025-03-14T01:59:42.200557",
                  "format": "date-time",
                  "title": "Dt",
                  "type": "string"
                 },
                 "id": {
                  "title": "Id",
                  "type": "string"
                 },
                 "internal_csp_struct": {
                  "default": {
                   "z": 12
                  },
                  "properties": {
                   "z": {
                    "default": 12,
                    "title": "Z",
                    "type": "integer"
                   }
                  },
                  "title": "Internal Csp Struct",
                  "type": "object"
                 },
                 "mapping": {
                  "additionalProperties": {
                   "type": "integer"
                  },
                  "default": {},
                  "title": "Mapping",
                  "type": "object"
                 },
                 "timestamp": {
                  "format": "date-time",
                  "title": "Timestamp",
                  "type": "string"
                 },
                 "x": {
                  "title": "X",
                  "type": "integer"
                 },
                 "y": {
                  "default": "",
                  "title": "Y",
                  "type": "string"
                 }
                },
                "type": "object"
               },
               "title": "Response Send Str Basket By Key Api V1 Send Str Basket  Key  Post",
               "type": "array"
              }
             }
            },
            "description": "Successful Response"
           },
           "404": {
            "content": {
             "application/json": {
              "schema": [
               "properties",
               "type",
               "title"
              ]
             }
            },
            "description": "Not Found"
           },
           "422": {
            "content": {
             "application/json": {
              "schema": [
               "properties",
               "type",
               "title"
              ]
             }
            },
            "description": "Validation Error"
           }
          },
          "summary": "Send Str Basket By Key",
          "tags": [
           "Requests"
          ]
         }
        },
        "/api/v1/state/": {
         "get": {
          "description": "This endpoint will return a list of string values of all available state channels under the `/state` route.\n\nNote: This endpoint does not support filtering",
          "operationId": "get_state_api_v1_state__get",
          "responses": {
           "200": {
            "content": {
             "application/json": {
              "schema": {
               "items": {
                "type": "string"
               },
               "title": "Response Get State Api V1 State  Get",
               "type": "array"
              }
             }
            },
            "description": "Successful Response"
           },
           "404": {
            "content": {
             "application/json": {
              "schema": [
               "properties",
               "type",
               "title"
              ]
             }
            },
            "description": "Not Found"
           }
          },
          "summary": "Get State",
          "tags": [
           "State"
          ]
         }
        },
        "/api/v1/state/example": {
         "get": {
          "description": "Get state value on a non-dict basket channel. This endpoint will flatten the state structure and return a list of the elements.\nQuery parameters may be provided to perform server-side filtering and other functionality on the state object.\n\nStates may be queried by certain conditions. Currently only filtering is supported. Filters can be used to evaluate\nobjects in state and compare them to either scalar values or other attributes on the object. Here are some simple examples\nusing the demo application provided with `csp-gateway`:\n\n```\n# Filter only records where `record.x` == 5\napi/v1/state/example?query={\"filters\":[{\"attr\":\"x\",\"by\":{\"value\":5,\"where\":\"==\"}}]}\n\n# Filter only records where `record.x` < 10\n/api/v1/state/example?query={\"filters\":[{\"attr\":\"x\",\"by\":{\"value\":10,\"where\":\"<\"}}]}\n\n# Filter only records where `record.timestamp` < \"2023-03-30T14:45:26.394000\"\n/api/v1/state/example?query={\"filters\":[{\"attr\":\"timestamp\",\"by\":{\"when\":\"2023-03-30T14:45:26.394000\",\"where\":\"<\"}}]}\n\n# Filter only records where `record.id` < `record.y`\n/api/v1/state/example?query={\"filters\":[{\"attr\":\"id\",\"by\":{\"attr\":\"y\",\"where\":\"<\"}}]}\n\n# Filter only records where `record.x` < 50 and `record.x` >= 30\n/api/v1/state/example?query={\"filters\":[{\"attr\":\"x\",\"by\":{\"value\":50,\"where\":\"<\"}},{\"attr\":\"x\",\"by\":{\"value\":30,\"where\":\">=\"}}]}\n```",
          "operationId": "Get_State_example_api_v1_state_example_get",
          "parameters": [
           {
            "description": "Query Parameters",
            "in": "query",
            "name": "query",
            "required": false,
            "schema": {
             "anyOf": [
              {
               "contentMediaType": "application/json",
               "contentSchema": {},
               "type": "string"
              },
              {
               "type": "null"
              }
             ],
             "description": "Query Parameters",
             "title": "Query"
            }
           }
          ],
          "responses": {
           "200": {
            "content": {
             "application/json": {
              "schema": {
               "items": {
                "properties": {
                 "d": {
                  "default": "2025-03-14",
                  "format": "date",
                  "title": "D",
                  "type": "string"
                 },
                 "data": {
                  "items": {},
                  "title": "Data",
                  "type": "array"
                 },
                 "dt": {
                  "default": "2025-03-14T01:59:42.200557",
                  "format": "date-time",
                  "title": "Dt",
                  "type": "string"
                 },
                 "id": {
                  "title": "Id",
                  "type": "string"
                 },
                 "internal_csp_struct": {
                  "default": {
                   "z": 12
                  },
                  "properties": {
                   "z": {
                    "default": 12,
                    "title": "Z",
                    "type": "integer"
                   }
                  },
                  "title": "Internal Csp Struct",
                  "type": "object"
                 },
                 "mapping": {
                  "additionalProperties": {
                   "type": "integer"
                  },
                  "default": {},
                  "title": "Mapping",
                  "type": "object"
                 },
                 "timestamp": {
                  "format": "date-time",
                  "title": "Timestamp",
                  "type": "string"
                 },
                 "x": {
                  "title": "X",
                  "type": "integer"
                 },
                 "y": {
                  "default": "",
                  "title": "Y",
                  "type": "string"
                 }
                },
                "type": "object"
               },
               "title": "Response Get State Example Api V1 State Example Get",
               "type": "array"
              }
             }
            },
            "description": "Successful Response"
           },
           "404": {
            "content": {
             "application/json": {
              "schema": [
               "properties",
               "type",
               "title"
              ]
             }
            },
            "description": "Not Found"
           },
           "422": {
            "content": {
             "application/json": {
              "schema": [
               "properties",
               "type",
               "title"
              ]
             }
            },
            "description": "Validation Error"
           }
          },
          "summary": "Get State Example",
          "tags": [
           "State"
          ]
         }
        },
        "/api/v1/stream": {
         "get": {
          "description": "This endpoint returns all of the available mounted websocket streams.\n\nThe websocket stream is available on the same route.\nData is bidirectional, any channel available as a `send` or `last` route is also available under the websocket connection.\n\nTo subscribe to channels, send a JSON message of the form:\n```\n{\n    \"action\": \"subscribe\",\n    \"channel\": \"<channel name>\",\n    \"key\": \"<optional dict basket key>\"\n}\n```\n\nFor dict basket channels, omitting the \"key\" will subscribe to all available keys in that basket.\n\nTo unsubscribe to channels, send a JSON message of the form:\n```\n{\n    \"action\": \"unsubscribe\",\n    \"channel\": \"<channel name>\",\n    \"key\": \"<optional dict basket key>\"\n}\n```\n\nFor dict basket channels, omitting the \"key\" will unsubscribe from all keys in that basket.\n\nData will be sent across the websocket for all subscribed channels. It has the form:\n\n```\n{\n    \"channel\": \"<channel name>\",\n    \"key\": \"<only included for dict basket channels>\",\n    \"data\": <the same data that would be transmitted over e.g. the `last` endpoint>\n}\n```",
          "operationId": "stream_api_v1_stream_get",
          "responses": {
           "200": {
            "content": {
             "application/json": {
              "schema": {
               "items": {
                "type": "string"
               },
               "title": "Response Stream Api V1 Stream Get",
               "type": "array"
              }
             }
            },
            "description": "Successful Response"
           },
           "404": {
            "content": {
             "application/json": {
              "schema": [
               "properties",
               "type",
               "title"
              ]
             }
            },
            "description": "Not Found"
           }
          },
          "summary": "Stream",
          "tags": [
           "Streaming"
          ]
         }
        },
        "/channels_graph": {
         "get": {
          "description": "This endpoint is a small webpage that shows the dependency relationship of the GatewayChannels graph powering this API.",
          "operationId": "browse_channels_graph_channels_graph_get",
          "responses": {
           "200": {
            "content": {
             "text/html": {
              "schema": {
               "type": "string"
              }
             }
            },
            "description": "Successful Response"
           }
          },
          "summary": "Browse Channels Graph",
          "tags": [
           "Utility"
          ]
         }
        },
        "/outputs/{full_path}": {
         "get": {
          "description": "This endpoint is a small webpage for browsing the [hydra](https://github.com/facebookresearch/hydra)\noutput logs and configuration settings of the running application.",
          "operationId": "browse_logs_outputs__full_path__get",
          "parameters": [
           {
            "in": "path",
            "name": "full_path",
            "required": true,
            "schema": {
             "title": "Full Path",
             "type": "string"
            }
           }
          ],
          "responses": {
           "200": {
            "content": {
             "text/html": {
              "schema": {
               "type": "string"
              }
             }
            },
            "description": "Successful Response"
           },
           "422": {
            "content": {
             "application/json": {
              "schema": [
               "properties",
               "type",
               "title"
              ]
             }
            },
            "description": "Validation Error"
           }
          },
          "summary": "Browse Logs",
          "tags": [
           "Utility"
          ]
         }
        }
       }
      },
      "text/plain": [
       "<IPython.core.display.JSON object>"
      ]
     },
     "execution_count": 5,
     "metadata": {
      "application/json": {
       "expanded": false,
       "root": "root"
      }
     },
     "output_type": "execute_result"
    }
   ],
   "source": [
    "# openapi spec\n",
    "from IPython.display import JSON\n",
    "\n",
    "JSON(client.openapi_spec)"
   ]
  },
  {
   "cell_type": "code",
   "execution_count": 6,
   "id": "39aee763-c398-41ff-80f2-22f638c5f741",
   "metadata": {},
   "outputs": [
    {
     "data": {
      "text/plain": [
       "[{'id': '7180742829516',\n",
       "  'timestamp': '2025-03-14T06:00:12.562785',\n",
       "  'name': 'stats',\n",
       "  'status': 'ok',\n",
       "  'data': {'cpu': 0.0,\n",
       "   'memory': 63.7,\n",
       "   'memory-total': 36.28,\n",
       "   'pid': 1750281,\n",
       "   'active_threads': 4,\n",
       "   'max_threads': 'unlimited',\n",
       "   'now': '2025-03-14T06:00:12.564110',\n",
       "   'csp-now': '2025-03-14T06:00:12.563004',\n",
       "   'host': 'devqtccrt06',\n",
       "   'user': 'nk12433'},\n",
       "  'data_str': '{\"cpu\":0.0,\"memory\":63.7,\"memory-total\":36.28,\"pid\":1750281,\"active_threads\":4,\"max_threads\":\"unlimited\",\"now\":\"2025-03-14T06:00:12.564110\",\"csp-now\":\"2025-03-14T06:00:12.563004\",\"host\":\"devqtccrt06\",\"user\":\"nk12433\"}'}]"
      ]
     },
     "execution_count": 6,
     "metadata": {},
     "output_type": "execute_result"
    }
   ],
   "source": [
    "# machine stats\n",
    "client.controls(\"stats\").as_json()"
   ]
  },
  {
   "cell_type": "markdown",
   "id": "dce19f67-d949-42c4-9454-6d3ffa501742",
   "metadata": {},
   "source": [
    "## Last, State, Lookup, Send\n",
    "Let's look at what channels we have available for `last`:"
   ]
  },
  {
   "cell_type": "code",
   "execution_count": 7,
   "id": "8581c372-095a-4e93-8f70-7cbb6d94d43d",
   "metadata": {},
   "outputs": [
    {
     "data": {
      "text/plain": [
       "['controls', 'basket', 'never_ticks', 'example', 'example_list', 'str_basket']"
      ]
     },
     "execution_count": 7,
     "metadata": {},
     "output_type": "execute_result"
    }
   ],
   "source": [
    "client.last().as_json()"
   ]
  },
  {
   "cell_type": "code",
   "execution_count": 8,
   "id": "7259d6a0-b9ad-440d-b2eb-9c2e5063d05a",
   "metadata": {},
   "outputs": [
    {
     "data": {
      "text/plain": [
       "[{'id': '7182204802295',\n",
       "  'timestamp': '2025-03-14T06:00:12.274734',\n",
       "  'x': 31,\n",
       "  'y': '303030',\n",
       "  'internal_csp_struct': {'z': 12},\n",
       "  'data': [],\n",
       "  'mapping': {},\n",
       "  'dt': '2025-03-14T01:59:42.200557',\n",
       "  'd': '2025-03-14'}]"
      ]
     },
     "execution_count": 8,
     "metadata": {},
     "output_type": "execute_result"
    }
   ],
   "source": [
    "client.last(\"example\").as_json()"
   ]
  },
  {
   "cell_type": "code",
   "execution_count": 9,
   "id": "79547b8b-a97f-4cc4-9096-1537d3b66213",
   "metadata": {},
   "outputs": [
    {
     "data": {
      "text/plain": [
       "[{'id': '7182204802295',\n",
       "  'timestamp': '2025-03-14T06:00:12.274734',\n",
       "  'x': 31,\n",
       "  'y': '303030',\n",
       "  'internal_csp_struct': {'z': 12},\n",
       "  'data': [],\n",
       "  'mapping': {},\n",
       "  'dt': '2025-03-14T01:59:42.200557',\n",
       "  'd': '2025-03-14'},\n",
       " {'id': '7182204802292',\n",
       "  'timestamp': '2025-03-14T06:00:12.269265',\n",
       "  'x': 30,\n",
       "  'y': '3030',\n",
       "  'internal_csp_struct': {'z': 12},\n",
       "  'data': [0.918037522903988,\n",
       "   0.3399226261577962,\n",
       "   0.7909028689829906,\n",
       "   0.7039079146913827,\n",
       "   0.8210556057950636,\n",
       "   0.07325613777603324,\n",
       "   0.36257073731882594,\n",
       "   0.3946540193539001,\n",
       "   0.5774311632755368,\n",
       "   0.20316200054623546],\n",
       "  'mapping': {'30': 30},\n",
       "  'dt': '2025-03-14T01:59:42.200557',\n",
       "  'd': '2025-03-14'},\n",
       " {'id': '7182204802293',\n",
       "  'timestamp': '2025-03-14T06:00:12.274455',\n",
       "  'x': 30,\n",
       "  'y': '303030',\n",
       "  'internal_csp_struct': {'z': 12},\n",
       "  'data': [0.4562437422860882,\n",
       "   0.9004249706550138,\n",
       "   0.6477939153762935,\n",
       "   0.3803206666410205,\n",
       "   0.775542818358652,\n",
       "   0.021906915016978834,\n",
       "   0.8893453580688346,\n",
       "   0.8277048024826046,\n",
       "   0.46538738841821836,\n",
       "   0.456588879024889],\n",
       "  'mapping': {'30': 30},\n",
       "  'dt': '2025-03-14T01:59:42.200557',\n",
       "  'd': '2025-03-14'}]"
      ]
     },
     "execution_count": 9,
     "metadata": {},
     "output_type": "execute_result"
    }
   ],
   "source": [
    "client.last(\"basket\").as_json()"
   ]
  },
  {
   "cell_type": "code",
   "execution_count": 10,
   "id": "c7c9baaa-2315-49f1-b544-d38bec758ee3",
   "metadata": {},
   "outputs": [
    {
     "data": {
      "application/vnd.microsoft.datawrangler.viewer.v0+json": {
       "columns": [
        {
         "name": "index",
         "rawType": "int64",
         "type": "integer"
        },
        {
         "name": "id",
         "rawType": "string",
         "type": "string"
        },
        {
         "name": "timestamp",
         "rawType": "string",
         "type": "string"
        },
        {
         "name": "x",
         "rawType": "int64",
         "type": "integer"
        },
        {
         "name": "y",
         "rawType": "string",
         "type": "string"
        },
        {
         "name": "data",
         "rawType": "object",
         "type": "unknown"
        },
        {
         "name": "dt",
         "rawType": "string",
         "type": "string"
        },
        {
         "name": "d",
         "rawType": "string",
         "type": "string"
        },
        {
         "name": "internal_csp_struct.z",
         "rawType": "int64",
         "type": "integer"
        },
        {
         "name": "mapping.30",
         "rawType": "float64",
         "type": "float"
        },
        {
         "name": "mapping",
         "rawType": "object",
         "type": "unknown"
        }
       ],
       "conversionMethod": "pd.DataFrame",
       "ref": "74f451a9-14ff-4d96-a7a1-31875ab1301a",
       "rows": [
        [
         "0",
         "7182204802295",
         "2025-03-14T06:00:12.274734",
         "31",
         "303030",
         "[]",
         "2025-03-14T01:59:42.200557",
         "2025-03-14",
         "12",
         null,
         null
        ],
        [
         "1",
         "7182204802292",
         "2025-03-14T06:00:12.269265",
         "30",
         "3030",
         "[0.918037522903988, 0.3399226261577962, 0.7909028689829906, 0.7039079146913827, 0.8210556057950636, 0.07325613777603324, 0.36257073731882594, 0.3946540193539001, 0.5774311632755368, 0.20316200054623546]",
         "2025-03-14T01:59:42.200557",
         "2025-03-14",
         "12",
         "30.0",
         null
        ],
        [
         "2",
         "7182204802293",
         "2025-03-14T06:00:12.274455",
         "30",
         "303030",
         "[0.4562437422860882, 0.9004249706550138, 0.6477939153762935, 0.3803206666410205, 0.775542818358652, 0.021906915016978834, 0.8893453580688346, 0.8277048024826046, 0.46538738841821836, 0.456588879024889]",
         "2025-03-14T01:59:42.200557",
         "2025-03-14",
         "12",
         "30.0",
         null
        ]
       ],
       "shape": {
        "columns": 10,
        "rows": 3
       }
      },
      "text/html": [
       "<div>\n",
       "<table border=\"1\" class=\"dataframe\">\n",
       "  <thead>\n",
       "    <tr style=\"text-align: right;\">\n",
       "      <th></th>\n",
       "      <th>id</th>\n",
       "      <th>timestamp</th>\n",
       "      <th>x</th>\n",
       "      <th>y</th>\n",
       "      <th>data</th>\n",
       "      <th>dt</th>\n",
       "      <th>d</th>\n",
       "      <th>internal_csp_struct.z</th>\n",
       "      <th>mapping.30</th>\n",
       "      <th>mapping</th>\n",
       "    </tr>\n",
       "  </thead>\n",
       "  <tbody>\n",
       "    <tr>\n",
       "      <th>0</th>\n",
       "      <td>7182204802295</td>\n",
       "      <td>2025-03-14T06:00:12.274734</td>\n",
       "      <td>31</td>\n",
       "      <td>303030</td>\n",
       "      <td>[]</td>\n",
       "      <td>2025-03-14T01:59:42.200557</td>\n",
       "      <td>2025-03-14</td>\n",
       "      <td>12</td>\n",
       "      <td>NaN</td>\n",
       "      <td>NaN</td>\n",
       "    </tr>\n",
       "    <tr>\n",
       "      <th>1</th>\n",
       "      <td>7182204802292</td>\n",
       "      <td>2025-03-14T06:00:12.269265</td>\n",
       "      <td>30</td>\n",
       "      <td>3030</td>\n",
       "      <td>[0.918037522903988, 0.3399226261577962, 0.7909...</td>\n",
       "      <td>2025-03-14T01:59:42.200557</td>\n",
       "      <td>2025-03-14</td>\n",
       "      <td>12</td>\n",
       "      <td>30.0</td>\n",
       "      <td>NaN</td>\n",
       "    </tr>\n",
       "    <tr>\n",
       "      <th>2</th>\n",
       "      <td>7182204802293</td>\n",
       "      <td>2025-03-14T06:00:12.274455</td>\n",
       "      <td>30</td>\n",
       "      <td>303030</td>\n",
       "      <td>[0.4562437422860882, 0.9004249706550138, 0.647...</td>\n",
       "      <td>2025-03-14T01:59:42.200557</td>\n",
       "      <td>2025-03-14</td>\n",
       "      <td>12</td>\n",
       "      <td>30.0</td>\n",
       "      <td>NaN</td>\n",
       "    </tr>\n",
       "  </tbody>\n",
       "</table>\n",
       "</div>"
      ],
      "text/plain": [
       "              id                   timestamp   x       y  \\\n",
       "0  7182204802295  2025-03-14T06:00:12.274734  31  303030   \n",
       "1  7182204802292  2025-03-14T06:00:12.269265  30    3030   \n",
       "2  7182204802293  2025-03-14T06:00:12.274455  30  303030   \n",
       "\n",
       "                                                data  \\\n",
       "0                                                 []   \n",
       "1  [0.918037522903988, 0.3399226261577962, 0.7909...   \n",
       "2  [0.4562437422860882, 0.9004249706550138, 0.647...   \n",
       "\n",
       "                           dt           d  internal_csp_struct.z  mapping.30  \\\n",
       "0  2025-03-14T01:59:42.200557  2025-03-14                     12         NaN   \n",
       "1  2025-03-14T01:59:42.200557  2025-03-14                     12        30.0   \n",
       "2  2025-03-14T01:59:42.200557  2025-03-14                     12        30.0   \n",
       "\n",
       "  mapping  \n",
       "0     NaN  \n",
       "1     NaN  \n",
       "2     NaN  "
      ]
     },
     "execution_count": 10,
     "metadata": {},
     "output_type": "execute_result"
    }
   ],
   "source": [
    "client.last(\"basket\").as_pandas_df()"
   ]
  },
  {
   "cell_type": "markdown",
   "id": "a4ea1736-16b6-4c07-bc92-adccb8fa0228",
   "metadata": {},
   "source": [
    "State channels are used to perform state accumulation over a number of ticks. The example server doesn't do anything too interesting, but we can access these channels nevertheless."
   ]
  },
  {
   "cell_type": "code",
   "execution_count": 11,
   "id": "f1207c68-a04d-4faa-b56b-fd38bc4b9c88",
   "metadata": {},
   "outputs": [
    {
     "data": {
      "text/plain": [
       "['example']"
      ]
     },
     "execution_count": 11,
     "metadata": {},
     "output_type": "execute_result"
    }
   ],
   "source": [
    "client.state().as_json()"
   ]
  },
  {
   "cell_type": "code",
   "execution_count": 12,
   "id": "76688232-587a-4cf1-a0fb-b08a741f005d",
   "metadata": {},
   "outputs": [
    {
     "data": {
      "application/vnd.microsoft.datawrangler.viewer.v0+json": {
       "columns": [
        {
         "name": "index",
         "rawType": "int64",
         "type": "integer"
        },
        {
         "name": "id",
         "rawType": "string",
         "type": "string"
        },
        {
         "name": "timestamp",
         "rawType": "string",
         "type": "string"
        },
        {
         "name": "x",
         "rawType": "int64",
         "type": "integer"
        },
        {
         "name": "y",
         "rawType": "string",
         "type": "string"
        },
        {
         "name": "data",
         "rawType": "object",
         "type": "unknown"
        },
        {
         "name": "dt",
         "rawType": "string",
         "type": "string"
        },
        {
         "name": "d",
         "rawType": "string",
         "type": "string"
        },
        {
         "name": "internal_csp_struct.z",
         "rawType": "int64",
         "type": "integer"
        },
        {
         "name": "mapping.1",
         "rawType": "float64",
         "type": "float"
        },
        {
         "name": "mapping.2",
         "rawType": "float64",
         "type": "float"
        },
        {
         "name": "mapping.3",
         "rawType": "float64",
         "type": "float"
        },
        {
         "name": "mapping.4",
         "rawType": "float64",
         "type": "float"
        },
        {
         "name": "mapping.5",
         "rawType": "float64",
         "type": "float"
        },
        {
         "name": "mapping.6",
         "rawType": "float64",
         "type": "float"
        },
        {
         "name": "mapping.7",
         "rawType": "float64",
         "type": "float"
        },
        {
         "name": "mapping.8",
         "rawType": "float64",
         "type": "float"
        },
        {
         "name": "mapping.9",
         "rawType": "float64",
         "type": "float"
        },
        {
         "name": "mapping.10",
         "rawType": "float64",
         "type": "float"
        },
        {
         "name": "mapping.11",
         "rawType": "float64",
         "type": "float"
        },
        {
         "name": "mapping.12",
         "rawType": "float64",
         "type": "float"
        },
        {
         "name": "mapping.13",
         "rawType": "float64",
         "type": "float"
        },
        {
         "name": "mapping.14",
         "rawType": "float64",
         "type": "float"
        },
        {
         "name": "mapping.15",
         "rawType": "float64",
         "type": "float"
        },
        {
         "name": "mapping.16",
         "rawType": "float64",
         "type": "float"
        },
        {
         "name": "mapping.17",
         "rawType": "float64",
         "type": "float"
        },
        {
         "name": "mapping.18",
         "rawType": "float64",
         "type": "float"
        },
        {
         "name": "mapping.19",
         "rawType": "float64",
         "type": "float"
        },
        {
         "name": "mapping.20",
         "rawType": "float64",
         "type": "float"
        },
        {
         "name": "mapping.21",
         "rawType": "float64",
         "type": "float"
        },
        {
         "name": "mapping.22",
         "rawType": "float64",
         "type": "float"
        },
        {
         "name": "mapping.23",
         "rawType": "float64",
         "type": "float"
        },
        {
         "name": "mapping.24",
         "rawType": "float64",
         "type": "float"
        },
        {
         "name": "mapping.25",
         "rawType": "float64",
         "type": "float"
        },
        {
         "name": "mapping.26",
         "rawType": "float64",
         "type": "float"
        },
        {
         "name": "mapping.27",
         "rawType": "float64",
         "type": "float"
        },
        {
         "name": "mapping.28",
         "rawType": "float64",
         "type": "float"
        },
        {
         "name": "mapping.29",
         "rawType": "float64",
         "type": "float"
        },
        {
         "name": "mapping.30",
         "rawType": "float64",
         "type": "float"
        },
        {
         "name": "mapping",
         "rawType": "object",
         "type": "unknown"
        }
       ],
       "conversionMethod": "pd.DataFrame",
       "ref": "065e4a75-7ec9-4165-831f-a9d83c25a2c6",
       "rows": [
        [
         "40",
         "7182204802285",
         "2025-03-14T06:00:10.264122",
         "28",
         "282828",
         "[0.5303914536525036, 0.0010628925807091294, 0.3994973962493562, 0.032249195306035316, 0.6569819635151618, 0.7691686586913454, 0.33242459191238816, 0.1803533739648725, 0.8768193696489117, 0.8534963732226433]",
         "2025-03-14T01:59:42.200557",
         "2025-03-14",
         "12",
         null,
         null,
         null,
         null,
         null,
         null,
         null,
         null,
         null,
         null,
         null,
         null,
         null,
         null,
         null,
         null,
         null,
         null,
         null,
         null,
         null,
         null,
         null,
         null,
         null,
         null,
         null,
         "28.0",
         null,
         null,
         null
        ],
        [
         "41",
         "7182204802286",
         "2025-03-14T06:00:10.264259",
         "29",
         "282828",
         "[]",
         "2025-03-14T01:59:42.200557",
         "2025-03-14",
         "12",
         null,
         null,
         null,
         null,
         null,
         null,
         null,
         null,
         null,
         null,
         null,
         null,
         null,
         null,
         null,
         null,
         null,
         null,
         null,
         null,
         null,
         null,
         null,
         null,
         null,
         null,
         null,
         null,
         null,
         null,
         null
        ],
        [
         "42",
         "7182204802290",
         "2025-03-14T06:00:11.264179",
         "29",
         "292929",
         "[0.7784380063762434, 0.7909368694127872, 0.6476257030703526, 0.092975378629508, 0.8183028169183046, 0.004657730498821233, 0.7819976035660909, 0.09171170059445244, 0.9551607511668747, 0.7702164103852666]",
         "2025-03-14T01:59:42.200557",
         "2025-03-14",
         "12",
         null,
         null,
         null,
         null,
         null,
         null,
         null,
         null,
         null,
         null,
         null,
         null,
         null,
         null,
         null,
         null,
         null,
         null,
         null,
         null,
         null,
         null,
         null,
         null,
         null,
         null,
         null,
         null,
         "29.0",
         null,
         null
        ],
        [
         "43",
         "7182204802294",
         "2025-03-14T06:00:12.274565",
         "30",
         "303030",
         "[0.847968392664959, 0.34935942519328944, 0.2652540636704106, 0.005831076731205531, 0.10498595712511027, 0.4265251292441947, 0.04610526140311977, 0.6726172986293794, 0.3113769399451971, 0.17381614535534484]",
         "2025-03-14T01:59:42.200557",
         "2025-03-14",
         "12",
         null,
         null,
         null,
         null,
         null,
         null,
         null,
         null,
         null,
         null,
         null,
         null,
         null,
         null,
         null,
         null,
         null,
         null,
         null,
         null,
         null,
         null,
         null,
         null,
         null,
         null,
         null,
         null,
         null,
         "30.0",
         null
        ],
        [
         "44",
         "7182204802295",
         "2025-03-14T06:00:12.274734",
         "31",
         "303030",
         "[]",
         "2025-03-14T01:59:42.200557",
         "2025-03-14",
         "12",
         null,
         null,
         null,
         null,
         null,
         null,
         null,
         null,
         null,
         null,
         null,
         null,
         null,
         null,
         null,
         null,
         null,
         null,
         null,
         null,
         null,
         null,
         null,
         null,
         null,
         null,
         null,
         null,
         null,
         null,
         null
        ]
       ],
       "shape": {
        "columns": 39,
        "rows": 5
       }
      },
      "text/html": [
       "<div>\n",
       "<table border=\"1\" class=\"dataframe\">\n",
       "  <thead>\n",
       "    <tr style=\"text-align: right;\">\n",
       "      <th></th>\n",
       "      <th>id</th>\n",
       "      <th>timestamp</th>\n",
       "      <th>x</th>\n",
       "      <th>y</th>\n",
       "      <th>data</th>\n",
       "      <th>dt</th>\n",
       "      <th>d</th>\n",
       "      <th>internal_csp_struct.z</th>\n",
       "      <th>mapping.1</th>\n",
       "      <th>mapping.2</th>\n",
       "      <th>...</th>\n",
       "      <th>mapping.22</th>\n",
       "      <th>mapping.23</th>\n",
       "      <th>mapping.24</th>\n",
       "      <th>mapping.25</th>\n",
       "      <th>mapping.26</th>\n",
       "      <th>mapping.27</th>\n",
       "      <th>mapping.28</th>\n",
       "      <th>mapping.29</th>\n",
       "      <th>mapping.30</th>\n",
       "      <th>mapping</th>\n",
       "    </tr>\n",
       "  </thead>\n",
       "  <tbody>\n",
       "    <tr>\n",
       "      <th>40</th>\n",
       "      <td>7182204802285</td>\n",
       "      <td>2025-03-14T06:00:10.264122</td>\n",
       "      <td>28</td>\n",
       "      <td>282828</td>\n",
       "      <td>[0.5303914536525036, 0.0010628925807091294, 0....</td>\n",
       "      <td>2025-03-14T01:59:42.200557</td>\n",
       "      <td>2025-03-14</td>\n",
       "      <td>12</td>\n",
       "      <td>NaN</td>\n",
       "      <td>NaN</td>\n",
       "      <td>...</td>\n",
       "      <td>NaN</td>\n",
       "      <td>NaN</td>\n",
       "      <td>NaN</td>\n",
       "      <td>NaN</td>\n",
       "      <td>NaN</td>\n",
       "      <td>NaN</td>\n",
       "      <td>28.0</td>\n",
       "      <td>NaN</td>\n",
       "      <td>NaN</td>\n",
       "      <td>NaN</td>\n",
       "    </tr>\n",
       "    <tr>\n",
       "      <th>41</th>\n",
       "      <td>7182204802286</td>\n",
       "      <td>2025-03-14T06:00:10.264259</td>\n",
       "      <td>29</td>\n",
       "      <td>282828</td>\n",
       "      <td>[]</td>\n",
       "      <td>2025-03-14T01:59:42.200557</td>\n",
       "      <td>2025-03-14</td>\n",
       "      <td>12</td>\n",
       "      <td>NaN</td>\n",
       "      <td>NaN</td>\n",
       "      <td>...</td>\n",
       "      <td>NaN</td>\n",
       "      <td>NaN</td>\n",
       "      <td>NaN</td>\n",
       "      <td>NaN</td>\n",
       "      <td>NaN</td>\n",
       "      <td>NaN</td>\n",
       "      <td>NaN</td>\n",
       "      <td>NaN</td>\n",
       "      <td>NaN</td>\n",
       "      <td>NaN</td>\n",
       "    </tr>\n",
       "    <tr>\n",
       "      <th>42</th>\n",
       "      <td>7182204802290</td>\n",
       "      <td>2025-03-14T06:00:11.264179</td>\n",
       "      <td>29</td>\n",
       "      <td>292929</td>\n",
       "      <td>[0.7784380063762434, 0.7909368694127872, 0.647...</td>\n",
       "      <td>2025-03-14T01:59:42.200557</td>\n",
       "      <td>2025-03-14</td>\n",
       "      <td>12</td>\n",
       "      <td>NaN</td>\n",
       "      <td>NaN</td>\n",
       "      <td>...</td>\n",
       "      <td>NaN</td>\n",
       "      <td>NaN</td>\n",
       "      <td>NaN</td>\n",
       "      <td>NaN</td>\n",
       "      <td>NaN</td>\n",
       "      <td>NaN</td>\n",
       "      <td>NaN</td>\n",
       "      <td>29.0</td>\n",
       "      <td>NaN</td>\n",
       "      <td>NaN</td>\n",
       "    </tr>\n",
       "    <tr>\n",
       "      <th>43</th>\n",
       "      <td>7182204802294</td>\n",
       "      <td>2025-03-14T06:00:12.274565</td>\n",
       "      <td>30</td>\n",
       "      <td>303030</td>\n",
       "      <td>[0.847968392664959, 0.34935942519328944, 0.265...</td>\n",
       "      <td>2025-03-14T01:59:42.200557</td>\n",
       "      <td>2025-03-14</td>\n",
       "      <td>12</td>\n",
       "      <td>NaN</td>\n",
       "      <td>NaN</td>\n",
       "      <td>...</td>\n",
       "      <td>NaN</td>\n",
       "      <td>NaN</td>\n",
       "      <td>NaN</td>\n",
       "      <td>NaN</td>\n",
       "      <td>NaN</td>\n",
       "      <td>NaN</td>\n",
       "      <td>NaN</td>\n",
       "      <td>NaN</td>\n",
       "      <td>30.0</td>\n",
       "      <td>NaN</td>\n",
       "    </tr>\n",
       "    <tr>\n",
       "      <th>44</th>\n",
       "      <td>7182204802295</td>\n",
       "      <td>2025-03-14T06:00:12.274734</td>\n",
       "      <td>31</td>\n",
       "      <td>303030</td>\n",
       "      <td>[]</td>\n",
       "      <td>2025-03-14T01:59:42.200557</td>\n",
       "      <td>2025-03-14</td>\n",
       "      <td>12</td>\n",
       "      <td>NaN</td>\n",
       "      <td>NaN</td>\n",
       "      <td>...</td>\n",
       "      <td>NaN</td>\n",
       "      <td>NaN</td>\n",
       "      <td>NaN</td>\n",
       "      <td>NaN</td>\n",
       "      <td>NaN</td>\n",
       "      <td>NaN</td>\n",
       "      <td>NaN</td>\n",
       "      <td>NaN</td>\n",
       "      <td>NaN</td>\n",
       "      <td>NaN</td>\n",
       "    </tr>\n",
       "  </tbody>\n",
       "</table>\n",
       "<p>5 rows × 39 columns</p>\n",
       "</div>"
      ],
      "text/plain": [
       "               id                   timestamp   x       y  \\\n",
       "40  7182204802285  2025-03-14T06:00:10.264122  28  282828   \n",
       "41  7182204802286  2025-03-14T06:00:10.264259  29  282828   \n",
       "42  7182204802290  2025-03-14T06:00:11.264179  29  292929   \n",
       "43  7182204802294  2025-03-14T06:00:12.274565  30  303030   \n",
       "44  7182204802295  2025-03-14T06:00:12.274734  31  303030   \n",
       "\n",
       "                                                 data  \\\n",
       "40  [0.5303914536525036, 0.0010628925807091294, 0....   \n",
       "41                                                 []   \n",
       "42  [0.7784380063762434, 0.7909368694127872, 0.647...   \n",
       "43  [0.847968392664959, 0.34935942519328944, 0.265...   \n",
       "44                                                 []   \n",
       "\n",
       "                            dt           d  internal_csp_struct.z  mapping.1  \\\n",
       "40  2025-03-14T01:59:42.200557  2025-03-14                     12        NaN   \n",
       "41  2025-03-14T01:59:42.200557  2025-03-14                     12        NaN   \n",
       "42  2025-03-14T01:59:42.200557  2025-03-14                     12        NaN   \n",
       "43  2025-03-14T01:59:42.200557  2025-03-14                     12        NaN   \n",
       "44  2025-03-14T01:59:42.200557  2025-03-14                     12        NaN   \n",
       "\n",
       "    mapping.2  ...  mapping.22  mapping.23  mapping.24  mapping.25  \\\n",
       "40        NaN  ...         NaN         NaN         NaN         NaN   \n",
       "41        NaN  ...         NaN         NaN         NaN         NaN   \n",
       "42        NaN  ...         NaN         NaN         NaN         NaN   \n",
       "43        NaN  ...         NaN         NaN         NaN         NaN   \n",
       "44        NaN  ...         NaN         NaN         NaN         NaN   \n",
       "\n",
       "    mapping.26  mapping.27  mapping.28  mapping.29  mapping.30  mapping  \n",
       "40         NaN         NaN        28.0         NaN         NaN      NaN  \n",
       "41         NaN         NaN         NaN         NaN         NaN      NaN  \n",
       "42         NaN         NaN         NaN        29.0         NaN      NaN  \n",
       "43         NaN         NaN         NaN         NaN        30.0      NaN  \n",
       "44         NaN         NaN         NaN         NaN         NaN      NaN  \n",
       "\n",
       "[5 rows x 39 columns]"
      ]
     },
     "execution_count": 12,
     "metadata": {},
     "output_type": "execute_result"
    }
   ],
   "source": [
    "client.state(\"example\").as_pandas_df().tail()\n",
    "\n",
    "# We note that there are a large number of columns in the above dataframe.\n",
    "# This is because `mapping` is a dict with different keys for eery row.\n",
    "# To accomodate all of them, the returned pandas dataframe has a column for any key present in the `mapping` attribute of any `ExampleData` Struct"
   ]
  },
  {
   "cell_type": "markdown",
   "id": "41b0917c-3e20-4240-8317-7ed8875e101c",
   "metadata": {},
   "source": [
    "We can lookup individual data points using `lookup`. This is a bit of a silly example when we're just looking at a single channel, but can be valuable when you have lots of interconnected channels."
   ]
  },
  {
   "cell_type": "code",
   "execution_count": 13,
   "id": "6669b93a-2475-4b38-9bfd-be7fdb95d3d0",
   "metadata": {},
   "outputs": [
    {
     "data": {
      "text/plain": [
       "[{'id': '7182204802295',\n",
       "  'timestamp': '2025-03-14T06:00:12.274734',\n",
       "  'x': 31,\n",
       "  'y': '303030',\n",
       "  'internal_csp_struct': {'z': 12},\n",
       "  'data': [],\n",
       "  'mapping': {},\n",
       "  'dt': '2025-03-14T01:59:42.200557',\n",
       "  'd': '2025-03-14'}]"
      ]
     },
     "execution_count": 13,
     "metadata": {},
     "output_type": "execute_result"
    }
   ],
   "source": [
    "# get the last tick, then lookup by id\n",
    "last = client.last(\"example\").as_json()[0]\n",
    "last_id = last[\"id\"]\n",
    "client.lookup(\"example\", last_id).as_json()"
   ]
  },
  {
   "cell_type": "markdown",
   "id": "52ce707a-e762-4293-a59c-882dea0e310d",
   "metadata": {},
   "source": [
    "Finally, we can send our own data into the API using `send`."
   ]
  },
  {
   "cell_type": "code",
   "execution_count": 14,
   "id": "b745e96c-8921-4dba-9339-346f3c49b4f9",
   "metadata": {},
   "outputs": [
    {
     "data": {
      "application/vnd.microsoft.datawrangler.viewer.v0+json": {
       "columns": [
        {
         "name": "index",
         "rawType": "int64",
         "type": "integer"
        },
        {
         "name": "id",
         "rawType": "string",
         "type": "string"
        },
        {
         "name": "timestamp",
         "rawType": "string",
         "type": "string"
        },
        {
         "name": "x",
         "rawType": "int64",
         "type": "integer"
        },
        {
         "name": "y",
         "rawType": "string",
         "type": "string"
        },
        {
         "name": "data",
         "rawType": "object",
         "type": "unknown"
        },
        {
         "name": "dt",
         "rawType": "string",
         "type": "string"
        },
        {
         "name": "d",
         "rawType": "string",
         "type": "string"
        },
        {
         "name": "internal_csp_struct.z",
         "rawType": "int64",
         "type": "integer"
        },
        {
         "name": "mapping.1",
         "rawType": "float64",
         "type": "float"
        },
        {
         "name": "mapping.2",
         "rawType": "float64",
         "type": "float"
        },
        {
         "name": "mapping.3",
         "rawType": "float64",
         "type": "float"
        },
        {
         "name": "mapping.4",
         "rawType": "float64",
         "type": "float"
        },
        {
         "name": "mapping.5",
         "rawType": "float64",
         "type": "float"
        },
        {
         "name": "mapping.6",
         "rawType": "float64",
         "type": "float"
        },
        {
         "name": "mapping.7",
         "rawType": "float64",
         "type": "float"
        },
        {
         "name": "mapping.8",
         "rawType": "float64",
         "type": "float"
        },
        {
         "name": "mapping.9",
         "rawType": "float64",
         "type": "float"
        },
        {
         "name": "mapping.10",
         "rawType": "float64",
         "type": "float"
        },
        {
         "name": "mapping.11",
         "rawType": "float64",
         "type": "float"
        },
        {
         "name": "mapping.12",
         "rawType": "float64",
         "type": "float"
        },
        {
         "name": "mapping.13",
         "rawType": "float64",
         "type": "float"
        },
        {
         "name": "mapping.14",
         "rawType": "float64",
         "type": "float"
        },
        {
         "name": "mapping.15",
         "rawType": "float64",
         "type": "float"
        },
        {
         "name": "mapping.16",
         "rawType": "float64",
         "type": "float"
        },
        {
         "name": "mapping.17",
         "rawType": "float64",
         "type": "float"
        },
        {
         "name": "mapping.18",
         "rawType": "float64",
         "type": "float"
        },
        {
         "name": "mapping.19",
         "rawType": "float64",
         "type": "float"
        },
        {
         "name": "mapping.20",
         "rawType": "float64",
         "type": "float"
        },
        {
         "name": "mapping.21",
         "rawType": "float64",
         "type": "float"
        },
        {
         "name": "mapping.22",
         "rawType": "float64",
         "type": "float"
        },
        {
         "name": "mapping.23",
         "rawType": "float64",
         "type": "float"
        },
        {
         "name": "mapping.24",
         "rawType": "float64",
         "type": "float"
        },
        {
         "name": "mapping.25",
         "rawType": "float64",
         "type": "float"
        },
        {
         "name": "mapping.26",
         "rawType": "float64",
         "type": "float"
        },
        {
         "name": "mapping.27",
         "rawType": "float64",
         "type": "float"
        },
        {
         "name": "mapping.28",
         "rawType": "float64",
         "type": "float"
        },
        {
         "name": "mapping.29",
         "rawType": "float64",
         "type": "float"
        },
        {
         "name": "mapping.30",
         "rawType": "float64",
         "type": "float"
        },
        {
         "name": "mapping",
         "rawType": "object",
         "type": "unknown"
        }
       ],
       "conversionMethod": "pd.DataFrame",
       "ref": "9efd67fd-8aff-4a5d-99ec-de318e67e3e4",
       "rows": [
        [
         "42",
         "7182204802290",
         "2025-03-14T06:00:11.264179",
         "29",
         "292929",
         "[0.7784380063762434, 0.7909368694127872, 0.6476257030703526, 0.092975378629508, 0.8183028169183046, 0.004657730498821233, 0.7819976035660909, 0.09171170059445244, 0.9551607511668747, 0.7702164103852666]",
         "2025-03-14T01:59:42.200557",
         "2025-03-14",
         "12",
         null,
         null,
         null,
         null,
         null,
         null,
         null,
         null,
         null,
         null,
         null,
         null,
         null,
         null,
         null,
         null,
         null,
         null,
         null,
         null,
         null,
         null,
         null,
         null,
         null,
         null,
         null,
         null,
         "29.0",
         null,
         null
        ],
        [
         "43",
         "7182204802294",
         "2025-03-14T06:00:12.274565",
         "30",
         "303030",
         "[0.847968392664959, 0.34935942519328944, 0.2652540636704106, 0.005831076731205531, 0.10498595712511027, 0.4265251292441947, 0.04610526140311977, 0.6726172986293794, 0.3113769399451971, 0.17381614535534484]",
         "2025-03-14T01:59:42.200557",
         "2025-03-14",
         "12",
         null,
         null,
         null,
         null,
         null,
         null,
         null,
         null,
         null,
         null,
         null,
         null,
         null,
         null,
         null,
         null,
         null,
         null,
         null,
         null,
         null,
         null,
         null,
         null,
         null,
         null,
         null,
         null,
         null,
         "30.0",
         null
        ],
        [
         "44",
         "7182204802295",
         "2025-03-14T06:00:12.274734",
         "31",
         "303030",
         "[]",
         "2025-03-14T01:59:42.200557",
         "2025-03-14",
         "12",
         null,
         null,
         null,
         null,
         null,
         null,
         null,
         null,
         null,
         null,
         null,
         null,
         null,
         null,
         null,
         null,
         null,
         null,
         null,
         null,
         null,
         null,
         null,
         null,
         null,
         null,
         null,
         null,
         null,
         null,
         null
        ],
        [
         "45",
         "7182204802296",
         "2025-03-14T06:00:13.034311",
         "12",
         "HEY!",
         "[]",
         "2025-03-14T01:59:42.200557",
         "2025-03-14",
         "13",
         null,
         null,
         null,
         null,
         null,
         null,
         null,
         null,
         null,
         null,
         null,
         null,
         null,
         null,
         null,
         null,
         null,
         null,
         null,
         null,
         null,
         null,
         null,
         null,
         null,
         null,
         null,
         null,
         null,
         null,
         null
        ],
        [
         "46",
         "7182204802297",
         "2025-03-14T06:00:13.035209",
         "13",
         "HEY!",
         "[]",
         "2025-03-14T01:59:42.200557",
         "2025-03-14",
         "12",
         null,
         null,
         null,
         null,
         null,
         null,
         null,
         null,
         null,
         null,
         null,
         null,
         null,
         null,
         null,
         null,
         null,
         null,
         null,
         null,
         null,
         null,
         null,
         null,
         null,
         null,
         null,
         null,
         null,
         null,
         null
        ]
       ],
       "shape": {
        "columns": 39,
        "rows": 5
       }
      },
      "text/html": [
       "<div>\n",
       "<table border=\"1\" class=\"dataframe\">\n",
       "  <thead>\n",
       "    <tr style=\"text-align: right;\">\n",
       "      <th></th>\n",
       "      <th>id</th>\n",
       "      <th>timestamp</th>\n",
       "      <th>x</th>\n",
       "      <th>y</th>\n",
       "      <th>data</th>\n",
       "      <th>dt</th>\n",
       "      <th>d</th>\n",
       "      <th>internal_csp_struct.z</th>\n",
       "      <th>mapping.1</th>\n",
       "      <th>mapping.2</th>\n",
       "      <th>...</th>\n",
       "      <th>mapping.22</th>\n",
       "      <th>mapping.23</th>\n",
       "      <th>mapping.24</th>\n",
       "      <th>mapping.25</th>\n",
       "      <th>mapping.26</th>\n",
       "      <th>mapping.27</th>\n",
       "      <th>mapping.28</th>\n",
       "      <th>mapping.29</th>\n",
       "      <th>mapping.30</th>\n",
       "      <th>mapping</th>\n",
       "    </tr>\n",
       "  </thead>\n",
       "  <tbody>\n",
       "    <tr>\n",
       "      <th>42</th>\n",
       "      <td>7182204802290</td>\n",
       "      <td>2025-03-14T06:00:11.264179</td>\n",
       "      <td>29</td>\n",
       "      <td>292929</td>\n",
       "      <td>[0.7784380063762434, 0.7909368694127872, 0.647...</td>\n",
       "      <td>2025-03-14T01:59:42.200557</td>\n",
       "      <td>2025-03-14</td>\n",
       "      <td>12</td>\n",
       "      <td>NaN</td>\n",
       "      <td>NaN</td>\n",
       "      <td>...</td>\n",
       "      <td>NaN</td>\n",
       "      <td>NaN</td>\n",
       "      <td>NaN</td>\n",
       "      <td>NaN</td>\n",
       "      <td>NaN</td>\n",
       "      <td>NaN</td>\n",
       "      <td>NaN</td>\n",
       "      <td>29.0</td>\n",
       "      <td>NaN</td>\n",
       "      <td>NaN</td>\n",
       "    </tr>\n",
       "    <tr>\n",
       "      <th>43</th>\n",
       "      <td>7182204802294</td>\n",
       "      <td>2025-03-14T06:00:12.274565</td>\n",
       "      <td>30</td>\n",
       "      <td>303030</td>\n",
       "      <td>[0.847968392664959, 0.34935942519328944, 0.265...</td>\n",
       "      <td>2025-03-14T01:59:42.200557</td>\n",
       "      <td>2025-03-14</td>\n",
       "      <td>12</td>\n",
       "      <td>NaN</td>\n",
       "      <td>NaN</td>\n",
       "      <td>...</td>\n",
       "      <td>NaN</td>\n",
       "      <td>NaN</td>\n",
       "      <td>NaN</td>\n",
       "      <td>NaN</td>\n",
       "      <td>NaN</td>\n",
       "      <td>NaN</td>\n",
       "      <td>NaN</td>\n",
       "      <td>NaN</td>\n",
       "      <td>30.0</td>\n",
       "      <td>NaN</td>\n",
       "    </tr>\n",
       "    <tr>\n",
       "      <th>44</th>\n",
       "      <td>7182204802295</td>\n",
       "      <td>2025-03-14T06:00:12.274734</td>\n",
       "      <td>31</td>\n",
       "      <td>303030</td>\n",
       "      <td>[]</td>\n",
       "      <td>2025-03-14T01:59:42.200557</td>\n",
       "      <td>2025-03-14</td>\n",
       "      <td>12</td>\n",
       "      <td>NaN</td>\n",
       "      <td>NaN</td>\n",
       "      <td>...</td>\n",
       "      <td>NaN</td>\n",
       "      <td>NaN</td>\n",
       "      <td>NaN</td>\n",
       "      <td>NaN</td>\n",
       "      <td>NaN</td>\n",
       "      <td>NaN</td>\n",
       "      <td>NaN</td>\n",
       "      <td>NaN</td>\n",
       "      <td>NaN</td>\n",
       "      <td>NaN</td>\n",
       "    </tr>\n",
       "    <tr>\n",
       "      <th>45</th>\n",
       "      <td>7182204802296</td>\n",
       "      <td>2025-03-14T06:00:13.034311</td>\n",
       "      <td>12</td>\n",
       "      <td>HEY!</td>\n",
       "      <td>[]</td>\n",
       "      <td>2025-03-14T01:59:42.200557</td>\n",
       "      <td>2025-03-14</td>\n",
       "      <td>13</td>\n",
       "      <td>NaN</td>\n",
       "      <td>NaN</td>\n",
       "      <td>...</td>\n",
       "      <td>NaN</td>\n",
       "      <td>NaN</td>\n",
       "      <td>NaN</td>\n",
       "      <td>NaN</td>\n",
       "      <td>NaN</td>\n",
       "      <td>NaN</td>\n",
       "      <td>NaN</td>\n",
       "      <td>NaN</td>\n",
       "      <td>NaN</td>\n",
       "      <td>NaN</td>\n",
       "    </tr>\n",
       "    <tr>\n",
       "      <th>46</th>\n",
       "      <td>7182204802297</td>\n",
       "      <td>2025-03-14T06:00:13.035209</td>\n",
       "      <td>13</td>\n",
       "      <td>HEY!</td>\n",
       "      <td>[]</td>\n",
       "      <td>2025-03-14T01:59:42.200557</td>\n",
       "      <td>2025-03-14</td>\n",
       "      <td>12</td>\n",
       "      <td>NaN</td>\n",
       "      <td>NaN</td>\n",
       "      <td>...</td>\n",
       "      <td>NaN</td>\n",
       "      <td>NaN</td>\n",
       "      <td>NaN</td>\n",
       "      <td>NaN</td>\n",
       "      <td>NaN</td>\n",
       "      <td>NaN</td>\n",
       "      <td>NaN</td>\n",
       "      <td>NaN</td>\n",
       "      <td>NaN</td>\n",
       "      <td>NaN</td>\n",
       "    </tr>\n",
       "  </tbody>\n",
       "</table>\n",
       "<p>5 rows × 39 columns</p>\n",
       "</div>"
      ],
      "text/plain": [
       "               id                   timestamp   x       y  \\\n",
       "42  7182204802290  2025-03-14T06:00:11.264179  29  292929   \n",
       "43  7182204802294  2025-03-14T06:00:12.274565  30  303030   \n",
       "44  7182204802295  2025-03-14T06:00:12.274734  31  303030   \n",
       "45  7182204802296  2025-03-14T06:00:13.034311  12    HEY!   \n",
       "46  7182204802297  2025-03-14T06:00:13.035209  13    HEY!   \n",
       "\n",
       "                                                 data  \\\n",
       "42  [0.7784380063762434, 0.7909368694127872, 0.647...   \n",
       "43  [0.847968392664959, 0.34935942519328944, 0.265...   \n",
       "44                                                 []   \n",
       "45                                                 []   \n",
       "46                                                 []   \n",
       "\n",
       "                            dt           d  internal_csp_struct.z  mapping.1  \\\n",
       "42  2025-03-14T01:59:42.200557  2025-03-14                     12        NaN   \n",
       "43  2025-03-14T01:59:42.200557  2025-03-14                     12        NaN   \n",
       "44  2025-03-14T01:59:42.200557  2025-03-14                     12        NaN   \n",
       "45  2025-03-14T01:59:42.200557  2025-03-14                     13        NaN   \n",
       "46  2025-03-14T01:59:42.200557  2025-03-14                     12        NaN   \n",
       "\n",
       "    mapping.2  ...  mapping.22  mapping.23  mapping.24  mapping.25  \\\n",
       "42        NaN  ...         NaN         NaN         NaN         NaN   \n",
       "43        NaN  ...         NaN         NaN         NaN         NaN   \n",
       "44        NaN  ...         NaN         NaN         NaN         NaN   \n",
       "45        NaN  ...         NaN         NaN         NaN         NaN   \n",
       "46        NaN  ...         NaN         NaN         NaN         NaN   \n",
       "\n",
       "    mapping.26  mapping.27  mapping.28  mapping.29  mapping.30  mapping  \n",
       "42         NaN         NaN         NaN        29.0         NaN      NaN  \n",
       "43         NaN         NaN         NaN         NaN        30.0      NaN  \n",
       "44         NaN         NaN         NaN         NaN         NaN      NaN  \n",
       "45         NaN         NaN         NaN         NaN         NaN      NaN  \n",
       "46         NaN         NaN         NaN         NaN         NaN      NaN  \n",
       "\n",
       "[5 rows x 39 columns]"
      ]
     },
     "execution_count": 14,
     "metadata": {},
     "output_type": "execute_result"
    }
   ],
   "source": [
    "client.send(\"example\", {\"x\": 12, \"y\": \"HEY!\", \"internal_csp_struct\": {\"z\": 13}})\n",
    "\n",
    "client.state(\"example\").as_pandas_df().tail()"
   ]
  },
  {
   "cell_type": "markdown",
   "id": "a7230b67",
   "metadata": {},
   "source": [
    "The REST API uses pydantic validation for `send` requests. Since `ExampleData` has a `__validators__` attribute defined, the pydantic version of the GatewayStruct has those functions ran for validation before propagating the sent value through the graph. `ExampleData` has validation performed that asserts the value of `x` is not negative. When we try to pass a negative value in, we get an error on the send, but the graph does not crash. The details of the error are provided in the response."
   ]
  },
  {
   "cell_type": "code",
   "execution_count": 15,
   "id": "6aa635e3",
   "metadata": {},
   "outputs": [
    {
     "ename": "ServerUnprocessableException",
     "evalue": "[{'type': 'list_type', 'loc': ['body', 'list[function-wrap[create_instance()]]'], 'msg': 'Input should be a valid list', 'input': {'x': -12, 'y': 'HEY!'}}, {'type': 'value_error', 'loc': ['body', 'function-wrap[create_instance()]', 'x'], 'msg': 'Value error, value must be non-negative.', 'input': -12, 'ctx': {'error': {}}}]",
     "output_type": "error",
     "traceback": [
      "\u001b[31mServerUnprocessableException\u001b[39m\u001b[31m:\u001b[39m [{'type': 'list_type', 'loc': ['body', 'list[function-wrap[create_instance()]]'], 'msg': 'Input should be a valid list', 'input': {'x': -12, 'y': 'HEY!'}}, {'type': 'value_error', 'loc': ['body', 'function-wrap[create_instance()]', 'x'], 'msg': 'Value error, value must be non-negative.', 'input': -12, 'ctx': {'error': {}}}]\n"
     ]
    }
   ],
   "source": [
    "client.send(\"example\", {\"x\": -12, \"y\": \"HEY!\"})"
   ]
  },
  {
   "cell_type": "markdown",
   "id": "07946799-08f5-4ed9-b7a1-de5d9eaac09d",
   "metadata": {},
   "source": [
    "## Next\n",
    "The running `GatewayServer` is a synchronous system, and we're interacting it via asynchronous `REST` requests. However, we can still perform actions like \"wait for the next tick\". This can be dangerous and lead to race conditions, but it can still be useful in certain circumstances."
   ]
  },
  {
   "cell_type": "code",
   "execution_count": 16,
   "id": "45b744b1-8d30-41ad-9641-98fd30c7b4a8",
   "metadata": {},
   "outputs": [
    {
     "data": {
      "text/plain": [
       "[{'id': '7182204802346',\n",
       "  'timestamp': '2025-03-14T06:00:23.264154',\n",
       "  'x': 41,\n",
       "  'y': '414141',\n",
       "  'internal_csp_struct': {'z': 12},\n",
       "  'data': [0.8434439910392343,\n",
       "   0.16425120769202894,\n",
       "   0.4614001200974842,\n",
       "   0.5296539732016515,\n",
       "   0.7793370635405895,\n",
       "   0.8968921920130971,\n",
       "   0.16515287895221997,\n",
       "   0.9002092496268692,\n",
       "   0.15540237095341358,\n",
       "   0.5879171201018687],\n",
       "  'mapping': {'41': 41},\n",
       "  'dt': '2025-03-14T01:59:42.200557',\n",
       "  'd': '2025-03-14'}]"
      ]
     },
     "execution_count": 16,
     "metadata": {},
     "output_type": "execute_result"
    }
   ],
   "source": [
    "client.next(\"example\").as_json()"
   ]
  },
  {
   "cell_type": "markdown",
   "id": "978aa203-18c3-4302-9d9b-a2996580a81c",
   "metadata": {},
   "source": [
    "Note that this call will **block** until the next value ticks."
   ]
  },
  {
   "cell_type": "markdown",
   "id": "195c8371-b8e6-4a29-bb09-7729119e0c17",
   "metadata": {},
   "source": [
    "## Streaming\n",
    "If our webserver is configured with websockets, we can also stream data out of channels. A simple example that prints out channel data is provided."
   ]
  },
  {
   "cell_type": "code",
   "execution_count": 17,
   "id": "6a6bffa9-f735-4f5d-9bab-26d89a1e9e90",
   "metadata": {},
   "outputs": [
    {
     "name": "stdout",
     "output_type": "stream",
     "text": [
      "{'channel': 'example', 'data': [{'id': '7182204802364', 'timestamp': '2025-03-14T06:00:27.264171', 'x': 45, 'y': '454545', 'internal_csp_struct': {'z': 12}, 'data': [0.6512409372233339, 0.07206425449741505, 0.5459898400764014, 0.9069291031159893, 0.5632205038815109, 0.6358680416497396, 0.4031860150585428, 0.18951576663682146, 0.13029048524663422, 0.6537721971743142], 'mapping': {'45': 45}, 'dt': '2025-03-14T01:59:42.200557', 'd': '2025-03-14'}]}\n",
      "{'channel': 'example', 'data': [{'id': '7182204802368', 'timestamp': '2025-03-14T06:00:28.264253', 'x': 46, 'y': '464646', 'internal_csp_struct': {'z': 12}, 'data': [0.13347377162286045, 0.14766463082192083, 0.890098581009976, 0.5762928909003212, 0.9784598838743355, 0.9093206966012796, 0.4421107198172203, 0.6351323300210804, 0.8580132723903817, 0.8155427123499257], 'mapping': {'46': 46}, 'dt': '2025-03-14T01:59:42.200557', 'd': '2025-03-14'}]}\n",
      "{'channel': 'example', 'data': [{'id': '7182204802369', 'timestamp': '2025-03-14T06:00:28.264459', 'x': 47, 'y': '464646', 'internal_csp_struct': {'z': 12}, 'data': [], 'mapping': {}, 'dt': '2025-03-14T01:59:42.200557', 'd': '2025-03-14'}]}\n",
      "{'channel': 'example', 'data': [{'id': '7182204802373', 'timestamp': '2025-03-14T06:00:29.264267', 'x': 47, 'y': '474747', 'internal_csp_struct': {'z': 12}, 'data': [0.9770241512799153, 0.9637667972653557, 0.9594704907592322, 0.13620074749494915, 0.02682378617576875, 0.21212555291360513, 0.22007092181222787, 0.38504292634018655, 0.9342337231196015, 0.4290203133079068], 'mapping': {'47': 47}, 'dt': '2025-03-14T01:59:42.200557', 'd': '2025-03-14'}]}\n",
      "{'channel': 'example', 'data': [{'id': '7182204802377', 'timestamp': '2025-03-14T06:00:30.264338', 'x': 48, 'y': '484848', 'internal_csp_struct': {'z': 12}, 'data': [0.892430583670491, 0.12591388868359998, 0.9224444538829644, 0.0029365846224427283, 0.8455103482206909, 0.6064336013949906, 0.7146470440362958, 0.7172194103168975, 0.5344556625030702, 0.12551306544964813], 'mapping': {'48': 48}, 'dt': '2025-03-14T01:59:42.200557', 'd': '2025-03-14'}]}\n",
      "{'channel': 'example', 'data': [{'id': '7182204802378', 'timestamp': '2025-03-14T06:00:30.264578', 'x': 49, 'y': '484848', 'internal_csp_struct': {'z': 12}, 'data': [], 'mapping': {}, 'dt': '2025-03-14T01:59:42.200557', 'd': '2025-03-14'}]}\n",
      "{'channel': 'example', 'data': [{'id': '7182204802382', 'timestamp': '2025-03-14T06:00:31.264269', 'x': 49, 'y': '494949', 'internal_csp_struct': {'z': 12}, 'data': [0.7954525130520012, 0.16105077513514243, 0.6697700523760823, 0.18214767845076874, 0.031965065384497615, 0.3704517634058897, 0.8063898928948885, 0.9372302738066902, 0.12448951223205629, 0.3723664774669405], 'mapping': {'49': 49}, 'dt': '2025-03-14T01:59:42.200557', 'd': '2025-03-14'}]}\n"
     ]
    },
    {
     "ename": "KeyboardInterrupt",
     "evalue": "",
     "output_type": "error",
     "traceback": [
      "\u001b[31mKeyboardInterrupt\u001b[39m\n"
     ]
    }
   ],
   "source": [
    "client.stream(channels=[\"example\"], callback=print)"
   ]
  },
  {
   "cell_type": "markdown",
   "id": "67d0f6b6-1cde-4656-bf64-dfa3b44e6807",
   "metadata": {},
   "source": [
    "## Asynchronous client\n",
    "All of the above can also be used in an `async` fashion. Note that by default, the `GatewayClient` class is an alias for the `SyncGatewayClient` class. The only differences are:\n",
    "\n",
    "- all methods are `async` instead of synchronous\n",
    "- `stream` is an infinite generator, rather than callback-based (so takes no `callback` argument)"
   ]
  },
  {
   "cell_type": "code",
   "execution_count": 18,
   "id": "0351653c-8c98-4808-8a59-9d399d577b78",
   "metadata": {},
   "outputs": [],
   "source": [
    "from csp_gateway import AsyncGatewayClient"
   ]
  },
  {
   "cell_type": "code",
   "execution_count": 19,
   "id": "fbe3000b-36c0-47c0-a44f-7786b461b158",
   "metadata": {},
   "outputs": [],
   "source": [
    "async_client = AsyncGatewayClient(config)"
   ]
  },
  {
   "cell_type": "code",
   "execution_count": 20,
   "id": "32a66ffb-42e3-4de8-b10d-2ac38d3d3706",
   "metadata": {},
   "outputs": [],
   "source": [
    "# We can subscribe to multiple channels, including dict-baskets\n",
    "async def print_all():\n",
    "    async for datum in async_client.stream(channels=[\"example\", \"example_list\", (\"basket\", \"A\")]):\n",
    "        print(datum)"
   ]
  },
  {
   "cell_type": "code",
   "execution_count": 21,
   "id": "e8fbcc8a-6131-4d27-af62-c526369574e6",
   "metadata": {},
   "outputs": [
    {
     "name": "stdout",
     "output_type": "stream",
     "text": [
      "{'channel': 'example_list', 'data': [{'id': '7182204802436', 'timestamp': '2025-03-14T06:00:43.264033', 'x': 61, 'y': '616161', 'internal_csp_struct': {'z': 12}, 'data': [0.2012890963221904, 0.702376333618334, 0.361342696585941, 0.7383356341385855, 0.5439924770669536, 0.5348101969493174, 0.7261873522256002, 0.8653648126326041, 0.22990047589634643, 0.6788906270823372], 'mapping': {'61': 61}, 'dt': '2025-03-14T01:59:42.200557', 'd': '2025-03-14'}]}\n",
      "{'channel': 'example', 'data': [{'id': '7182204802436', 'timestamp': '2025-03-14T06:00:43.264033', 'x': 61, 'y': '616161', 'internal_csp_struct': {'z': 12}, 'data': [0.2012890963221904, 0.702376333618334, 0.361342696585941, 0.7383356341385855, 0.5439924770669536, 0.5348101969493174, 0.7261873522256002, 0.8653648126326041, 0.22990047589634643, 0.6788906270823372], 'mapping': {'61': 61}, 'dt': '2025-03-14T01:59:42.200557', 'd': '2025-03-14'}]}\n",
      "{'channel': 'basket', 'key': 'A', 'data': [{'id': '7182204802433', 'timestamp': '2025-03-14T06:00:43.263949', 'x': 61, 'y': '61', 'internal_csp_struct': {'z': 12}, 'data': [0.37515205241819904, 0.21653802732210348, 0.6023670041905677, 0.7020115328362944, 0.5672014845851433, 0.3315506604647509, 0.2835119310422646, 0.17365652828157507, 0.7197090506662692, 0.32070439406165585], 'mapping': {'61': 61}, 'dt': '2025-03-14T01:59:42.200557', 'd': '2025-03-14'}]}\n",
      "{'channel': 'example_list', 'data': [{'id': '7182204802440', 'timestamp': '2025-03-14T06:00:44.264059', 'x': 62, 'y': '626262', 'internal_csp_struct': {'z': 12}, 'data': [0.46296344196914896, 0.535262117154687, 0.8713255531129767, 0.15089077117115202, 0.9314969920967638, 0.49322856675566407, 0.5097354278193875, 0.36542150764786463, 0.0978733899463935, 0.6526308371221453], 'mapping': {'62': 62}, 'dt': '2025-03-14T01:59:42.200557', 'd': '2025-03-14'}]}\n",
      "{'channel': 'example', 'data': [{'id': '7182204802440', 'timestamp': '2025-03-14T06:00:44.264059', 'x': 62, 'y': '626262', 'internal_csp_struct': {'z': 12}, 'data': [0.46296344196914896, 0.535262117154687, 0.8713255531129767, 0.15089077117115202, 0.9314969920967638, 0.49322856675566407, 0.5097354278193875, 0.36542150764786463, 0.0978733899463935, 0.6526308371221453], 'mapping': {'62': 62}, 'dt': '2025-03-14T01:59:42.200557', 'd': '2025-03-14'}]}\n",
      "{'channel': 'basket', 'key': 'A', 'data': [{'id': '7182204802437', 'timestamp': '2025-03-14T06:00:44.263975', 'x': 62, 'y': '62', 'internal_csp_struct': {'z': 12}, 'data': [0.940523191216232, 0.14852620784066317, 0.08189176013369992, 0.9043729968792783, 0.05089580688345152, 0.7942753901732218, 0.25601515448071055, 0.708127323757491, 0.42466967147061263, 0.1237637046040877], 'mapping': {'62': 62}, 'dt': '2025-03-14T01:59:42.200557', 'd': '2025-03-14'}]}\n",
      "{'channel': 'example', 'data': [{'id': '7182204802441', 'timestamp': '2025-03-14T06:00:44.264377', 'x': 63, 'y': '626262', 'internal_csp_struct': {'z': 12}, 'data': [], 'mapping': {}, 'dt': '2025-03-14T01:59:42.200557', 'd': '2025-03-14'}]}\n",
      "{'channel': 'basket', 'key': 'A', 'data': [{'id': '7182204802441', 'timestamp': '2025-03-14T06:00:44.264377', 'x': 63, 'y': '626262', 'internal_csp_struct': {'z': 12}, 'data': [], 'mapping': {}, 'dt': '2025-03-14T01:59:42.200557', 'd': '2025-03-14'}]}\n",
      "{'channel': 'example_list', 'data': [{'id': '7182204802445', 'timestamp': '2025-03-14T06:00:45.264058', 'x': 63, 'y': '636363', 'internal_csp_struct': {'z': 12}, 'data': [0.31908694135855364, 0.3778381445552632, 0.7861888413413884, 0.9574250161776887, 0.5833248271672732, 0.308015510869482, 0.8170552095029715, 0.3533446051973852, 0.565398159234985, 0.9591750226310537], 'mapping': {'63': 63}, 'dt': '2025-03-14T01:59:42.200557', 'd': '2025-03-14'}]}\n",
      "{'channel': 'example', 'data': [{'id': '7182204802445', 'timestamp': '2025-03-14T06:00:45.264058', 'x': 63, 'y': '636363', 'internal_csp_struct': {'z': 12}, 'data': [0.31908694135855364, 0.3778381445552632, 0.7861888413413884, 0.9574250161776887, 0.5833248271672732, 0.308015510869482, 0.8170552095029715, 0.3533446051973852, 0.565398159234985, 0.9591750226310537], 'mapping': {'63': 63}, 'dt': '2025-03-14T01:59:42.200557', 'd': '2025-03-14'}]}\n",
      "{'channel': 'basket', 'key': 'A', 'data': [{'id': '7182204802442', 'timestamp': '2025-03-14T06:00:45.263969', 'x': 63, 'y': '63', 'internal_csp_struct': {'z': 12}, 'data': [0.26219215598319245, 0.7876415886108106, 0.46734385893262653, 0.5875585649183716, 0.6973450587166122, 0.19938357748148694, 0.5681164164813136, 0.08582575356430155, 0.5822429915710623, 0.032509795763884575], 'mapping': {'63': 63}, 'dt': '2025-03-14T01:59:42.200557', 'd': '2025-03-14'}]}\n",
      "{'channel': 'example_list', 'data': [{'id': '7182204802449', 'timestamp': '2025-03-14T06:00:46.264050', 'x': 64, 'y': '646464', 'internal_csp_struct': {'z': 12}, 'data': [0.8423317626185829, 0.20973759581109863, 0.5292314592966805, 0.8273340088284135, 0.16798011294997617, 0.3954567336148307, 0.4363356424438266, 0.15038572422882712, 0.30525781171354893, 0.2066455497558468], 'mapping': {'64': 64}, 'dt': '2025-03-14T01:59:42.200557', 'd': '2025-03-14'}]}\n",
      "{'channel': 'example', 'data': [{'id': '7182204802449', 'timestamp': '2025-03-14T06:00:46.264050', 'x': 64, 'y': '646464', 'internal_csp_struct': {'z': 12}, 'data': [0.8423317626185829, 0.20973759581109863, 0.5292314592966805, 0.8273340088284135, 0.16798011294997617, 0.3954567336148307, 0.4363356424438266, 0.15038572422882712, 0.30525781171354893, 0.2066455497558468], 'mapping': {'64': 64}, 'dt': '2025-03-14T01:59:42.200557', 'd': '2025-03-14'}]}\n",
      "{'channel': 'basket', 'key': 'A', 'data': [{'id': '7182204802446', 'timestamp': '2025-03-14T06:00:46.263966', 'x': 64, 'y': '64', 'internal_csp_struct': {'z': 12}, 'data': [0.5186648328191604, 0.20600018613504822, 0.2517255629965035, 0.2027172299603618, 0.6973958971974537, 0.018533961127689347, 0.8831800860672222, 0.15443494355861742, 0.7879460672351232, 0.5737498259238871], 'mapping': {'64': 64}, 'dt': '2025-03-14T01:59:42.200557', 'd': '2025-03-14'}]}\n",
      "{'channel': 'example', 'data': [{'id': '7182204802450', 'timestamp': '2025-03-14T06:00:46.264341', 'x': 65, 'y': '646464', 'internal_csp_struct': {'z': 12}, 'data': [], 'mapping': {}, 'dt': '2025-03-14T01:59:42.200557', 'd': '2025-03-14'}]}\n",
      "{'channel': 'basket', 'key': 'A', 'data': [{'id': '7182204802450', 'timestamp': '2025-03-14T06:00:46.264341', 'x': 65, 'y': '646464', 'internal_csp_struct': {'z': 12}, 'data': [], 'mapping': {}, 'dt': '2025-03-14T01:59:42.200557', 'd': '2025-03-14'}]}\n",
      "{'channel': 'example_list', 'data': [{'id': '7182204802454', 'timestamp': '2025-03-14T06:00:47.264053', 'x': 65, 'y': '656565', 'internal_csp_struct': {'z': 12}, 'data': [0.38361199716851, 0.4318530809990534, 0.3327373711769688, 0.19177499312477841, 0.8238340463975228, 0.3122577782035033, 0.26085183935102385, 0.12676280253692418, 0.27222241778232015, 0.8142830554492966], 'mapping': {'65': 65}, 'dt': '2025-03-14T01:59:42.200557', 'd': '2025-03-14'}]}\n",
      "{'channel': 'example', 'data': [{'id': '7182204802454', 'timestamp': '2025-03-14T06:00:47.264053', 'x': 65, 'y': '656565', 'internal_csp_struct': {'z': 12}, 'data': [0.38361199716851, 0.4318530809990534, 0.3327373711769688, 0.19177499312477841, 0.8238340463975228, 0.3122577782035033, 0.26085183935102385, 0.12676280253692418, 0.27222241778232015, 0.8142830554492966], 'mapping': {'65': 65}, 'dt': '2025-03-14T01:59:42.200557', 'd': '2025-03-14'}]}\n",
      "{'channel': 'basket', 'key': 'A', 'data': [{'id': '7182204802451', 'timestamp': '2025-03-14T06:00:47.263966', 'x': 65, 'y': '65', 'internal_csp_struct': {'z': 12}, 'data': [0.0892006794893967, 0.07876938817599266, 0.9480755640114016, 0.8956409788136256, 0.1765617680441619, 0.34959327017659225, 0.5691499047953102, 0.6197869710008492, 0.4247627740185159, 0.22229884776814335], 'mapping': {'65': 65}, 'dt': '2025-03-14T01:59:42.200557', 'd': '2025-03-14'}]}\n",
      "{'channel': 'example_list', 'data': [{'id': '7182204802458', 'timestamp': '2025-03-14T06:00:48.264056', 'x': 66, 'y': '666666', 'internal_csp_struct': {'z': 12}, 'data': [0.785907903315688, 0.20499171133424998, 0.1997585736271853, 0.8400504706317495, 0.5078353527827971, 0.17751926740421575, 0.240514889413168, 0.7795065353794545, 0.10821747119526537, 0.013346638048011616], 'mapping': {'66': 66}, 'dt': '2025-03-14T01:59:42.200557', 'd': '2025-03-14'}]}\n",
      "{'channel': 'example', 'data': [{'id': '7182204802458', 'timestamp': '2025-03-14T06:00:48.264056', 'x': 66, 'y': '666666', 'internal_csp_struct': {'z': 12}, 'data': [0.785907903315688, 0.20499171133424998, 0.1997585736271853, 0.8400504706317495, 0.5078353527827971, 0.17751926740421575, 0.240514889413168, 0.7795065353794545, 0.10821747119526537, 0.013346638048011616], 'mapping': {'66': 66}, 'dt': '2025-03-14T01:59:42.200557', 'd': '2025-03-14'}]}\n",
      "{'channel': 'basket', 'key': 'A', 'data': [{'id': '7182204802455', 'timestamp': '2025-03-14T06:00:48.263975', 'x': 66, 'y': '66', 'internal_csp_struct': {'z': 12}, 'data': [0.9441185853333258, 0.7659205422168367, 0.5186970325300565, 0.7140712043958034, 0.8653320532574393, 0.8233499006198564, 0.5896847424112025, 0.07401817792364396, 0.17173762100190504, 0.864687792136789], 'mapping': {'66': 66}, 'dt': '2025-03-14T01:59:42.200557', 'd': '2025-03-14'}]}\n",
      "{'channel': 'example', 'data': [{'id': '7182204802459', 'timestamp': '2025-03-14T06:00:48.264360', 'x': 67, 'y': '666666', 'internal_csp_struct': {'z': 12}, 'data': [], 'mapping': {}, 'dt': '2025-03-14T01:59:42.200557', 'd': '2025-03-14'}]}\n",
      "{'channel': 'basket', 'key': 'A', 'data': [{'id': '7182204802459', 'timestamp': '2025-03-14T06:00:48.264360', 'x': 67, 'y': '666666', 'internal_csp_struct': {'z': 12}, 'data': [], 'mapping': {}, 'dt': '2025-03-14T01:59:42.200557', 'd': '2025-03-14'}]}\n"
     ]
    },
    {
     "ename": "CancelledError",
     "evalue": "",
     "output_type": "error",
     "traceback": [
      "\u001b[31mCancelledError\u001b[39m\n"
     ]
    }
   ],
   "source": [
    "await print_all()"
   ]
  },
  {
   "cell_type": "code",
   "execution_count": 22,
   "id": "586b9365",
   "metadata": {},
   "outputs": [],
   "source": [
    "# We can susbscribe to every tick from a dict basket by just subscribing to the full basket\n",
    "async def print_all_basket():\n",
    "    async for datum in async_client.stream(channels=[\"str_basket\"]):\n",
    "        print(datum)"
   ]
  },
  {
   "cell_type": "code",
   "execution_count": 23,
   "id": "34c15225",
   "metadata": {},
   "outputs": [
    {
     "name": "stdout",
     "output_type": "stream",
     "text": [
      "{'channel': 'str_basket', 'key': 'a', 'data': [{'id': '7182204802482', 'timestamp': '2025-03-14T06:00:54.263974', 'x': 72, 'y': '72', 'internal_csp_struct': {'z': 12}, 'data': [0.0024343396429761244, 0.25557971088785525, 0.8830889612103591, 0.5248708862100656, 0.13301440206288329, 0.0613374033071844, 0.9533501115434322, 0.17519376229750483, 0.20826938545917772, 0.3154244464812893], 'mapping': {'72': 72}, 'dt': '2025-03-14T01:59:42.200557', 'd': '2025-03-14'}]}\n",
      "{'channel': 'str_basket', 'key': 'b', 'data': [{'id': '7182204802483', 'timestamp': '2025-03-14T06:00:54.264023', 'x': 72, 'y': '7272', 'internal_csp_struct': {'z': 12}, 'data': [0.8477714975000878, 0.8761447163517748, 0.4132611178713649, 0.035190170106964236, 0.6786254800475836, 0.9475667654798842, 0.5866246994077503, 0.26298570997111104, 0.31639906057837064, 0.3663114982586084], 'mapping': {'72': 72}, 'dt': '2025-03-14T01:59:42.200557', 'd': '2025-03-14'}]}\n",
      "{'channel': 'str_basket', 'key': 'c', 'data': [{'id': '7182204802484', 'timestamp': '2025-03-14T06:00:54.264041', 'x': 72, 'y': '727272', 'internal_csp_struct': {'z': 12}, 'data': [0.3332323138368375, 0.05696328615646484, 0.23548236793906674, 0.2820311457311522, 0.9589706357912199, 0.44038637040590844, 0.19630430868230497, 0.7453123881812489, 0.1878259296575574, 0.17223653057513189], 'mapping': {'72': 72}, 'dt': '2025-03-14T01:59:42.200557', 'd': '2025-03-14'}]}\n",
      "{'channel': 'str_basket', 'key': 'a', 'data': [{'id': '7182204802487', 'timestamp': '2025-03-14T06:00:55.263971', 'x': 73, 'y': '73', 'internal_csp_struct': {'z': 12}, 'data': [0.6919631440411455, 0.4728617807619395, 0.0003944547125812603, 0.011758757622944871, 0.09775418165142358, 0.9825827730540471, 0.869142195037153, 0.06360846203630244, 0.6391038358448057, 0.18918471862707165], 'mapping': {'73': 73}, 'dt': '2025-03-14T01:59:42.200557', 'd': '2025-03-14'}]}\n",
      "{'channel': 'str_basket', 'key': 'b', 'data': [{'id': '7182204802488', 'timestamp': '2025-03-14T06:00:55.264023', 'x': 73, 'y': '7373', 'internal_csp_struct': {'z': 12}, 'data': [0.23318761968678847, 0.7916938531654325, 0.16766945067832806, 0.30717503529152856, 0.7234609518781409, 0.6761783642820521, 0.012291838679474254, 0.3734093437402387, 0.25193367414091183, 0.4116290421307852], 'mapping': {'73': 73}, 'dt': '2025-03-14T01:59:42.200557', 'd': '2025-03-14'}]}\n",
      "{'channel': 'str_basket', 'key': 'c', 'data': [{'id': '7182204802489', 'timestamp': '2025-03-14T06:00:55.264041', 'x': 73, 'y': '737373', 'internal_csp_struct': {'z': 12}, 'data': [0.9995663904683157, 0.49037285862321134, 0.9360403966245218, 0.32907171896712595, 0.8706475080400187, 0.9358547470908197, 0.6094950522388487, 0.3187147239906233, 0.5146210935507332, 0.2468259549948888], 'mapping': {'73': 73}, 'dt': '2025-03-14T01:59:42.200557', 'd': '2025-03-14'}]}\n",
      "{'channel': 'str_basket', 'key': 'a', 'data': [{'id': '7182204802491', 'timestamp': '2025-03-14T06:00:56.263987', 'x': 74, 'y': '74', 'internal_csp_struct': {'z': 12}, 'data': [0.30780427957177736, 0.31783225533438253, 0.28974485377085746, 0.8056785399315933, 0.6550343960061931, 0.51147587370349, 0.22918318357951206, 0.27483544636782764, 0.1617784534805391, 0.12615374449682082], 'mapping': {'74': 74}, 'dt': '2025-03-14T01:59:42.200557', 'd': '2025-03-14'}]}\n",
      "{'channel': 'str_basket', 'key': 'b', 'data': [{'id': '7182204802492', 'timestamp': '2025-03-14T06:00:56.264040', 'x': 74, 'y': '7474', 'internal_csp_struct': {'z': 12}, 'data': [0.7597865185560577, 0.9542811639842493, 0.3548238255188084, 0.5497091911407666, 0.2103980379131476, 0.9282153309075862, 0.019933785131218018, 0.07818556433746526, 0.8906613298984217, 0.4142275174628044], 'mapping': {'74': 74}, 'dt': '2025-03-14T01:59:42.200557', 'd': '2025-03-14'}]}\n",
      "{'channel': 'str_basket', 'key': 'c', 'data': [{'id': '7182204802493', 'timestamp': '2025-03-14T06:00:56.264059', 'x': 74, 'y': '747474', 'internal_csp_struct': {'z': 12}, 'data': [0.5351854446981592, 0.7247690029219567, 0.8073854595040114, 0.7157206622262171, 0.4352917223246313, 0.4369240091155152, 0.16633677865466623, 0.39403050678439466, 0.5964420480684727, 0.4549142654097128], 'mapping': {'74': 74}, 'dt': '2025-03-14T01:59:42.200557', 'd': '2025-03-14'}]}\n",
      "{'channel': 'str_basket', 'key': 'a', 'data': [{'id': '7182204802496', 'timestamp': '2025-03-14T06:00:57.263968', 'x': 75, 'y': '75', 'internal_csp_struct': {'z': 12}, 'data': [0.5464599879444142, 0.721937878646433, 0.8743734166377515, 0.19869546159445028, 0.13465567320565885, 0.13731281812355312, 0.985981130222794, 0.7543303190330615, 0.17166394918759065, 0.7745127544725419], 'mapping': {'75': 75}, 'dt': '2025-03-14T01:59:42.200557', 'd': '2025-03-14'}]}\n",
      "{'channel': 'str_basket', 'key': 'b', 'data': [{'id': '7182204802497', 'timestamp': '2025-03-14T06:00:57.264016', 'x': 75, 'y': '7575', 'internal_csp_struct': {'z': 12}, 'data': [0.014886231617977641, 0.8035620841240536, 0.6303792158456698, 0.3810092650960091, 0.36235076847179437, 0.6273491033528601, 0.04515741170281928, 0.40411733708766073, 0.5610236907135676, 0.8084273295250559], 'mapping': {'75': 75}, 'dt': '2025-03-14T01:59:42.200557', 'd': '2025-03-14'}]}\n",
      "{'channel': 'str_basket', 'key': 'c', 'data': [{'id': '7182204802498', 'timestamp': '2025-03-14T06:00:57.264034', 'x': 75, 'y': '757575', 'internal_csp_struct': {'z': 12}, 'data': [0.14440123791521808, 0.41124092584685856, 0.558344424856301, 0.7197882892005704, 0.6791006750064388, 0.9625438604579102, 0.9079986744434172, 0.5810653358542905, 0.42340551567499196, 0.6309477160315278], 'mapping': {'75': 75}, 'dt': '2025-03-14T01:59:42.200557', 'd': '2025-03-14'}]}\n"
     ]
    },
    {
     "ename": "CancelledError",
     "evalue": "",
     "output_type": "error",
     "traceback": [
      "\u001b[31mCancelledError\u001b[39m\n"
     ]
    }
   ],
   "source": [
    "await print_all_basket()"
   ]
  }
 ],
 "metadata": {
  "kernelspec": {
   "display_name": "base",
   "language": "python",
   "name": "python3"
  },
  "language_info": {
   "codemirror_mode": {
    "name": "ipython",
    "version": 3
   },
   "file_extension": ".py",
   "mimetype": "text/x-python",
   "name": "python",
   "nbconvert_exporter": "python",
   "pygments_lexer": "ipython3",
   "version": "3.12.9"
  }
 },
 "nbformat": 4,
 "nbformat_minor": 5
}
