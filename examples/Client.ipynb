{
 "cells": [
  {
   "cell_type": "markdown",
   "id": "769b081b-0b7a-47c4-a355-f54e5699f4e3",
   "metadata": {},
   "source": [
    "# Gateway Client Example\n",
    "Here is a notebook demonstrating the fundamentals of the `GatewayClient` object.\n",
    "\n",
    "This class is a convenience wrapper around the various `HTTP` requests used to interact with a running `GatewayServer` (with `REST` endpoints enabled). It relies on the [httpx](https://www.python-httpx.org/) and [aiohttp](https://docs.aiohttp.org/en/stable/index.html) libraries, and derives most of its functionality from the [openapi](https://www.openapis.org/) specification provided on the running `GatewayServer` (usually available at `/openapi.json`).\n",
    "\n",
    "\n",
    "## Client Configuration\n",
    "A `GatewayClient` is configured via a `GatewayClientConfig`, a minimal [pydantic](https://docs.pydantic.dev/) model to specify details such as protocol (`http`/`https`), host, port, etc. By default, we should provide `host` and `port`. \n",
    "\n",
    "We can also specify in the config `return_raw_json`, which specifies whether we would like to return the raw json response, or a `ResponseWrapper` object for `REST` requests. The `ResponseWrapper` object can provide both the raw json message, as well as a pandas dataframe. The `ResponseWrapper` contains additional type information which will create column names and utilize the correct data type for the constructed pandas dataframe.\n",
    "\n",
    "\n",
    "## Client Methods\n",
    "\n",
    "A client as a small number of general-purpose methods. In alphabetical order:\n",
    "\n",
    "- `controls`: managment controls for monitoring/configurating the running server\n",
    "- `last`: get the last ticked data value on a channel\n",
    "- `lookup`: lookup a piece of data by `id`\n",
    "- `next`: get the next ticked data value on a channel\n",
    "- `send`: send some data onto a channel\n",
    "- `state`: get the value of a given channel's state accumulator\n",
    "\n",
    "\n",
    "Additionally, a client has some streaming methods available when websockets are configured:\n",
    "\n",
    "- `stream`: call a callback when a channel ticks\n",
    "- `subscribe`: subscribe to data on a channel\n",
    "- `unsubscribe`: unsubscribe to data on a channel\n",
    "\n",
    "Let's explore some of the functionality of the basic demo server. To start, we should run the demo server in another process:\n",
    "\n",
    "```bash\n",
    "python -m csp_gateway.server\n",
    "```\n",
    "\n",
    "By default, this will run the server on `localhost:8000`."
   ]
  },
  {
   "cell_type": "markdown",
   "id": "8fb453af-8578-4b93-b9c2-df6ebe582cfc",
   "metadata": {},
   "source": [
    "## Imports\n",
    "All the important objects are hoisted to the top level `csp_gateway`. Lets import and setup our client."
   ]
  },
  {
   "cell_type": "code",
   "execution_count": 1,
   "id": "746be276-c282-47cf-9650-4989b01d50df",
   "metadata": {},
   "outputs": [],
   "source": [
    "from csp_gateway import GatewayClient, GatewayClientConfig"
   ]
  },
  {
   "cell_type": "code",
   "execution_count": 2,
   "id": "790763ce-9e1c-4b6f-a82d-5814ecc89361",
   "metadata": {},
   "outputs": [],
   "source": [
    "config = GatewayClientConfig(host=\"localhost\", port=8000, return_raw_json=False)\n",
    "client = GatewayClient(config)"
   ]
  },
  {
   "cell_type": "markdown",
   "id": "e49308ba-4f10-4f7c-85a6-8f5cc28622dc",
   "metadata": {},
   "source": [
    "The first time we use our client, it will take a little longer than usual as it tries to interrogate the running server's `openapi` specification for available methods. Once done, our request will go through, and subsequent requests will leverage this specification. Let's start with some simple status checks. If we're curious about available endpoints, we can navigate to [http://localhost:8000/redoc](http://localhost:8000/redoc) (or generally `http://<hostname>:<port>/redoc` if we're running on a different host)"
   ]
  },
  {
   "cell_type": "code",
   "execution_count": 3,
   "id": "08735a00-df5e-4cd9-98f6-240a5cb9cf94",
   "metadata": {},
   "outputs": [
    {
     "data": {
      "text/plain": [
       "[{'id': '2319375449026723841',\n",
       "  'timestamp': '2024-02-08T15:42:24.529000+00:00',\n",
       "  'name': 'heartbeat',\n",
       "  'status': 'ok',\n",
       "  'data': {}}]"
      ]
     },
     "execution_count": 3,
     "metadata": {},
     "output_type": "execute_result"
    }
   ],
   "source": [
    "# heartbeat check\n",
    "client.controls(\"heartbeat\").as_json()"
   ]
  },
  {
   "cell_type": "code",
   "execution_count": 4,
   "id": "8253836a-7957-45de-ae0d-a670052de43a",
   "metadata": {},
   "outputs": [
    {
     "data": {
      "application/json": {
       "components": {
        "schemas": {
         "Controls": {
          "additionalProperties": false,
          "properties": {
           "data": {
            "default": {},
            "title": "Data",
            "type": "object"
           },
           "id": {
            "title": "Id",
            "type": "string"
           },
           "name": {
            "default": "none",
            "title": "Name",
            "type": "string"
           },
           "status": {
            "default": "none",
            "title": "Status",
            "type": "string"
           },
           "timestamp": {
            "format": "date-time",
            "title": "Timestamp",
            "type": "string"
           }
          },
          "title": "Controls",
          "type": "object"
         },
         "Error404": {
          "properties": {
           "detail": {
            "default": "",
            "title": "Detail",
            "type": "string"
           }
          },
          "title": "Error404",
          "type": "object"
         },
         "ExampleCspStruct": {
          "additionalProperties": false,
          "properties": {
           "z": {
            "default": 12,
            "title": "Z",
            "type": "integer"
           }
          },
          "title": "ExampleCspStruct",
          "type": "object"
         },
         "ExampleData": {
          "additionalProperties": false,
          "properties": {
           "data": {
            "allOf": [
             {
              "type": "number"
             }
            ],
            "default": [],
            "title": "Data"
           },
           "id": {
            "title": "Id",
            "type": "string"
           },
           "internal_csp_struct": {
            "allOf": [
             [
              "properties",
              "additionalProperties",
              "type",
              "title"
             ]
            ],
            "default": {
             "z": 12
            },
            "title": "Internal Csp Struct"
           },
           "mapping": {
            "default": {},
            "title": "Mapping",
            "type": "object"
           },
           "timestamp": {
            "format": "date-time",
            "title": "Timestamp",
            "type": "string"
           },
           "x": {
            "default": 0,
            "title": "X",
            "type": "integer"
           },
           "y": {
            "default": "",
            "title": "Y",
            "type": "string"
           }
          },
          "title": "ExampleData",
          "type": "object"
         },
         "HTTPValidationError": {
          "properties": {
           "detail": {
            "items": [
             "properties",
             "type",
             "required",
             "title"
            ],
            "title": "Detail",
            "type": "array"
           }
          },
          "title": "HTTPValidationError",
          "type": "object"
         },
         "ValidationError": {
          "properties": {
           "loc": {
            "items": {
             "anyOf": [
              {
               "type": "string"
              },
              {
               "type": "integer"
              }
             ]
            },
            "title": "Location",
            "type": "array"
           },
           "msg": {
            "title": "Message",
            "type": "string"
           },
           "type": {
            "title": "Error Type",
            "type": "string"
           }
          },
          "required": [
           "loc",
           "msg",
           "type"
          ],
          "title": "ValidationError",
          "type": "object"
         }
        }
       },
       "info": {
        "contact": {
         "email": "CCRT-list@cubistsystematic.com",
         "name": "Cubist Central Research Technology"
        },
        "description": "# Welcome to CSP Gateway API\nContains REST/Websocket interfaces to underlying CSP Gateway engine",
        "title": "Gateway",
        "version": "0.8.7"
       },
       "openapi": "3.1.0",
       "paths": {
        "/api/v1/channels_graph": {
         "get": {
          "description": "This endpoint returns the structure of the GatewayChannels graph as a JSON object.\nIt is used by the `Browse Channels Graph` endpoint to generate a nice, interactive view of the graph.\n\nData is of the form:\n\n```\n{\n    \"<channel name>\": {\n        \"getters\": [`GatewayModule`s that pull from that channel],\n        \"setters\": [`GatewayModule`s that push to that channel]\n    },\n    ...\n}\n```",
          "operationId": "channels_graph_data_api_v1_channels_graph_get",
          "responses": {
           "200": {
            "content": {
             "application/json": {
              "schema": {
               "additionalProperties": {
                "additionalProperties": {
                 "items": {
                  "type": "string"
                 },
                 "type": "array"
                },
                "type": "object"
               },
               "title": "Response Channels Graph Data Api V1 Channels Graph Get",
               "type": "object"
              }
             }
            },
            "description": "Successful Response"
           }
          },
          "summary": "Channels Graph Data",
          "tags": [
           "Utility"
          ]
         }
        },
        "/api/v1/controls/heartbeat": {
         "get": {
          "description": "This endpoint is a lightweight `ping`/`pong` endpoint that can be used to determine the status of the underlying webserver.",
          "operationId": "Get_Heartbeat_api_v1_controls_heartbeat_get",
          "responses": {
           "200": {
            "content": {
             "application/json": {
              "schema": [
               "properties",
               "additionalProperties",
               "type",
               "title"
              ]
             }
            },
            "description": "Successful Response"
           },
           "404": {
            "content": {
             "application/json": {
              "schema": [
               "properties",
               "type",
               "title"
              ]
             }
            },
            "description": "Not Found"
           }
          },
          "summary": "Get Heartbeat",
          "tags": [
           "Controls"
          ]
         }
        },
        "/api/v1/controls/shutdown": {
         "post": {
          "description": "**WARNING:** Use this endpoint with caution.\n\nThis endpoint will cleanly shutdown the engine and webserver. It is used for the kill switch in UIs.",
          "operationId": "Shutdown_Server_api_v1_controls_shutdown_post",
          "responses": {
           "200": {
            "content": {
             "application/json": {
              "schema": [
               "properties",
               "additionalProperties",
               "type",
               "title"
              ]
             }
            },
            "description": "Successful Response"
           },
           "404": {
            "content": {
             "application/json": {
              "schema": [
               "properties",
               "type",
               "title"
              ]
             }
            },
            "description": "Not Found"
           }
          },
          "summary": "Shutdown Server",
          "tags": [
           "Controls"
          ]
         }
        },
        "/api/v1/controls/stats": {
         "get": {
          "description": "This endpoint will collect and return various engine and system stats, including:\n\n- CPU utilization (`cpu`)\n- Virtual memory utilization (`memory`)\n- Total memory available (`memory-total`)\n- Current system time (`now`)\n- CSP engine time (`csp-now`)\n- Hostname (`host`)\n- Username (`user`)",
          "operationId": "Get_CSP_Stats_api_v1_controls_stats_get",
          "responses": {
           "200": {
            "content": {
             "application/json": {
              "schema": [
               "properties",
               "additionalProperties",
               "type",
               "title"
              ]
             }
            },
            "description": "Successful Response"
           },
           "404": {
            "content": {
             "application/json": {
              "schema": [
               "properties",
               "type",
               "title"
              ]
             }
            },
            "description": "Not Found"
           }
          },
          "summary": "Get Csp Stats",
          "tags": [
           "Controls"
          ]
         }
        },
        "/api/v1/last/": {
         "get": {
          "description": "This endpoint will return a list of string values of all available channels under the `/last` route.",
          "operationId": "get_last_api_v1_last__get",
          "responses": {
           "200": {
            "content": {
             "application/json": {
              "schema": {
               "items": {
                "type": "string"
               },
               "title": "Response Get Last Api V1 Last  Get",
               "type": "array"
              }
             }
            },
            "description": "Successful Response"
           },
           "404": {
            "content": {
             "application/json": {
              "schema": [
               "properties",
               "type",
               "title"
              ]
             }
            },
            "description": "Not Found"
           }
          },
          "summary": "Get Last",
          "tags": [
           "Last"
          ]
         }
        },
        "/api/v1/last/basket": {
         "get": {
          "description": "Get last ticked value on a dictionary basket channel. This endpoint will return the entire basket",
          "operationId": "Get_Last_basket_api_v1_last_basket_get",
          "responses": {
           "200": {
            "content": {
             "application/json": {
              "schema": {
               "items": [
                "properties",
                "additionalProperties",
                "type",
                "title"
               ],
               "title": "Response Get Last Basket Api V1 Last Basket Get",
               "type": "array"
              }
             }
            },
            "description": "Successful Response"
           },
           "404": {
            "content": {
             "application/json": {
              "schema": [
               "properties",
               "type",
               "title"
              ]
             }
            },
            "description": "Not Found"
           }
          },
          "summary": "Get Last Basket",
          "tags": [
           "Last"
          ]
         }
        },
        "/api/v1/last/basket/{key}": {
         "get": {
          "description": "Get last ticked value on a dictionary basket channel, where `key` is the key of the dictionary basket.\nIf such a key does not exist or is not mounted, this endpoint will raise a `404` error.",
          "operationId": "Get_Last_basket_by_key_api_v1_last_basket__key__get",
          "parameters": [
           {
            "in": "path",
            "name": "key",
            "required": true,
            "schema": {
             "title": "Key",
             "type": "string"
            }
           }
          ],
          "responses": {
           "200": {
            "content": {
             "application/json": {
              "schema": {
               "items": [
                "properties",
                "additionalProperties",
                "type",
                "title"
               ],
               "title": "Response Get Last Basket By Key Api V1 Last Basket  Key  Get",
               "type": "array"
              }
             }
            },
            "description": "Successful Response"
           },
           "404": {
            "content": {
             "application/json": {
              "schema": [
               "properties",
               "type",
               "title"
              ]
             }
            },
            "description": "Not Found"
           },
           "422": {
            "content": {
             "application/json": {
              "schema": [
               "properties",
               "type",
               "title"
              ]
             }
            },
            "description": "Validation Error"
           }
          },
          "summary": "Get Last Basket By Key",
          "tags": [
           "Last"
          ]
         }
        },
        "/api/v1/last/controls": {
         "get": {
          "description": "Get last ticked value on a non-basket channel.\nThis endpoint will always return a list of elements.\n\nWhen the underlying channel only handles individual elements, the returned list will only ever contain a single element.\n\nWhen the underlying channel handles lists of elements, the returned list will contain `N>=1` elements.",
          "operationId": "Get_Last_controls_api_v1_last_controls_get",
          "responses": {
           "200": {
            "content": {
             "application/json": {
              "schema": {
               "items": [
                "properties",
                "additionalProperties",
                "type",
                "title"
               ],
               "title": "Response Get Last Controls Api V1 Last Controls Get",
               "type": "array"
              }
             }
            },
            "description": "Successful Response"
           },
           "404": {
            "content": {
             "application/json": {
              "schema": [
               "properties",
               "type",
               "title"
              ]
             }
            },
            "description": "Not Found"
           }
          },
          "summary": "Get Last Controls",
          "tags": [
           "Last"
          ]
         }
        },
        "/api/v1/last/example": {
         "get": {
          "description": "Get last ticked value on a non-basket channel.\nThis endpoint will always return a list of elements.\n\nWhen the underlying channel only handles individual elements, the returned list will only ever contain a single element.\n\nWhen the underlying channel handles lists of elements, the returned list will contain `N>=1` elements.",
          "operationId": "Get_Last_example_api_v1_last_example_get",
          "responses": {
           "200": {
            "content": {
             "application/json": {
              "schema": {
               "items": [
                "properties",
                "additionalProperties",
                "type",
                "title"
               ],
               "title": "Response Get Last Example Api V1 Last Example Get",
               "type": "array"
              }
             }
            },
            "description": "Successful Response"
           },
           "404": {
            "content": {
             "application/json": {
              "schema": [
               "properties",
               "type",
               "title"
              ]
             }
            },
            "description": "Not Found"
           }
          },
          "summary": "Get Last Example",
          "tags": [
           "Last"
          ]
         }
        },
        "/api/v1/last/example_list": {
         "get": {
          "description": "Get last ticked value on a non-basket channel.\nThis endpoint will always return a list of elements.\n\nWhen the underlying channel only handles individual elements, the returned list will only ever contain a single element.\n\nWhen the underlying channel handles lists of elements, the returned list will contain `N>=1` elements.",
          "operationId": "Get_Last_example_list_api_v1_last_example_list_get",
          "responses": {
           "200": {
            "content": {
             "application/json": {
              "schema": {
               "items": [
                "properties",
                "additionalProperties",
                "type",
                "title"
               ],
               "title": "Response Get Last Example List Api V1 Last Example List Get",
               "type": "array"
              }
             }
            },
            "description": "Successful Response"
           },
           "404": {
            "content": {
             "application/json": {
              "schema": [
               "properties",
               "type",
               "title"
              ]
             }
            },
            "description": "Not Found"
           }
          },
          "summary": "Get Last Example List",
          "tags": [
           "Last"
          ]
         }
        },
        "/api/v1/last/never_ticks": {
         "get": {
          "description": "Get last ticked value on a non-basket channel.\nThis endpoint will always return a list of elements.\n\nWhen the underlying channel only handles individual elements, the returned list will only ever contain a single element.\n\nWhen the underlying channel handles lists of elements, the returned list will contain `N>=1` elements.",
          "operationId": "Get_Last_never_ticks_api_v1_last_never_ticks_get",
          "responses": {
           "200": {
            "content": {
             "application/json": {
              "schema": {
               "items": [
                "properties",
                "additionalProperties",
                "type",
                "title"
               ],
               "title": "Response Get Last Never Ticks Api V1 Last Never Ticks Get",
               "type": "array"
              }
             }
            },
            "description": "Successful Response"
           },
           "404": {
            "content": {
             "application/json": {
              "schema": [
               "properties",
               "type",
               "title"
              ]
             }
            },
            "description": "Not Found"
           }
          },
          "summary": "Get Last Never Ticks",
          "tags": [
           "Last"
          ]
         }
        },
        "/api/v1/last/str_basket": {
         "get": {
          "description": "Get last ticked value on a dictionary basket channel. This endpoint will return the entire basket",
          "operationId": "Get_Last_str_basket_api_v1_last_str_basket_get",
          "responses": {
           "200": {
            "content": {
             "application/json": {
              "schema": {
               "items": [
                "properties",
                "additionalProperties",
                "type",
                "title"
               ],
               "title": "Response Get Last Str Basket Api V1 Last Str Basket Get",
               "type": "array"
              }
             }
            },
            "description": "Successful Response"
           },
           "404": {
            "content": {
             "application/json": {
              "schema": [
               "properties",
               "type",
               "title"
              ]
             }
            },
            "description": "Not Found"
           }
          },
          "summary": "Get Last Str Basket",
          "tags": [
           "Last"
          ]
         }
        },
        "/api/v1/last/str_basket/{key}": {
         "get": {
          "description": "Get last ticked value on a dictionary basket channel, where `key` is the key of the dictionary basket.\nIf such a key does not exist or is not mounted, this endpoint will raise a `404` error.",
          "operationId": "Get_Last_str_basket_by_key_api_v1_last_str_basket__key__get",
          "parameters": [
           {
            "in": "path",
            "name": "key",
            "required": true,
            "schema": {
             "title": "Key",
             "type": "string"
            }
           }
          ],
          "responses": {
           "200": {
            "content": {
             "application/json": {
              "schema": {
               "items": [
                "properties",
                "additionalProperties",
                "type",
                "title"
               ],
               "title": "Response Get Last Str Basket By Key Api V1 Last Str Basket  Key  Get",
               "type": "array"
              }
             }
            },
            "description": "Successful Response"
           },
           "404": {
            "content": {
             "application/json": {
              "schema": [
               "properties",
               "type",
               "title"
              ]
             }
            },
            "description": "Not Found"
           },
           "422": {
            "content": {
             "application/json": {
              "schema": [
               "properties",
               "type",
               "title"
              ]
             }
            },
            "description": "Validation Error"
           }
          },
          "summary": "Get Last Str Basket By Key",
          "tags": [
           "Last"
          ]
         }
        },
        "/api/v1/lookup/basket/{id}": {
         "get": {
          "description": "This endpoint lets you lookup any GatewayStruct by its uniquely generated `id`.",
          "operationId": "Lookup_basket_api_v1_lookup_basket__id__get",
          "parameters": [
           {
            "in": "path",
            "name": "id",
            "required": true,
            "schema": {
             "title": "Id",
             "type": "string"
            }
           }
          ],
          "responses": {
           "200": {
            "content": {
             "application/json": {
              "schema": {
               "items": [
                "properties",
                "additionalProperties",
                "type",
                "title"
               ],
               "title": "Response Lookup Basket Api V1 Lookup Basket  Id  Get",
               "type": "array"
              }
             }
            },
            "description": "Successful Response"
           },
           "404": {
            "content": {
             "application/json": {
              "schema": [
               "properties",
               "type",
               "title"
              ]
             }
            },
            "description": "Not Found"
           },
           "422": {
            "content": {
             "application/json": {
              "schema": [
               "properties",
               "type",
               "title"
              ]
             }
            },
            "description": "Validation Error"
           }
          },
          "summary": "Lookup Basket",
          "tags": [
           "Lookup"
          ]
         }
        },
        "/api/v1/lookup/controls/{id}": {
         "get": {
          "description": "This endpoint lets you lookup any GatewayStruct by its uniquely generated `id`.",
          "operationId": "Lookup_controls_api_v1_lookup_controls__id__get",
          "parameters": [
           {
            "in": "path",
            "name": "id",
            "required": true,
            "schema": {
             "title": "Id",
             "type": "string"
            }
           }
          ],
          "responses": {
           "200": {
            "content": {
             "application/json": {
              "schema": {
               "items": [
                "properties",
                "additionalProperties",
                "type",
                "title"
               ],
               "title": "Response Lookup Controls Api V1 Lookup Controls  Id  Get",
               "type": "array"
              }
             }
            },
            "description": "Successful Response"
           },
           "404": {
            "content": {
             "application/json": {
              "schema": [
               "properties",
               "type",
               "title"
              ]
             }
            },
            "description": "Not Found"
           },
           "422": {
            "content": {
             "application/json": {
              "schema": [
               "properties",
               "type",
               "title"
              ]
             }
            },
            "description": "Validation Error"
           }
          },
          "summary": "Lookup Controls",
          "tags": [
           "Lookup"
          ]
         }
        },
        "/api/v1/lookup/example/{id}": {
         "get": {
          "description": "This endpoint lets you lookup any GatewayStruct by its uniquely generated `id`.",
          "operationId": "Lookup_example_api_v1_lookup_example__id__get",
          "parameters": [
           {
            "in": "path",
            "name": "id",
            "required": true,
            "schema": {
             "title": "Id",
             "type": "string"
            }
           }
          ],
          "responses": {
           "200": {
            "content": {
             "application/json": {
              "schema": {
               "items": [
                "properties",
                "additionalProperties",
                "type",
                "title"
               ],
               "title": "Response Lookup Example Api V1 Lookup Example  Id  Get",
               "type": "array"
              }
             }
            },
            "description": "Successful Response"
           },
           "404": {
            "content": {
             "application/json": {
              "schema": [
               "properties",
               "type",
               "title"
              ]
             }
            },
            "description": "Not Found"
           },
           "422": {
            "content": {
             "application/json": {
              "schema": [
               "properties",
               "type",
               "title"
              ]
             }
            },
            "description": "Validation Error"
           }
          },
          "summary": "Lookup Example",
          "tags": [
           "Lookup"
          ]
         }
        },
        "/api/v1/lookup/example_list/{id}": {
         "get": {
          "description": "This endpoint lets you lookup any GatewayStruct by its uniquely generated `id`.",
          "operationId": "Lookup_example_list_api_v1_lookup_example_list__id__get",
          "parameters": [
           {
            "in": "path",
            "name": "id",
            "required": true,
            "schema": {
             "title": "Id",
             "type": "string"
            }
           }
          ],
          "responses": {
           "200": {
            "content": {
             "application/json": {
              "schema": {
               "items": [
                "properties",
                "additionalProperties",
                "type",
                "title"
               ],
               "title": "Response Lookup Example List Api V1 Lookup Example List  Id  Get",
               "type": "array"
              }
             }
            },
            "description": "Successful Response"
           },
           "404": {
            "content": {
             "application/json": {
              "schema": [
               "properties",
               "type",
               "title"
              ]
             }
            },
            "description": "Not Found"
           },
           "422": {
            "content": {
             "application/json": {
              "schema": [
               "properties",
               "type",
               "title"
              ]
             }
            },
            "description": "Validation Error"
           }
          },
          "summary": "Lookup Example List",
          "tags": [
           "Lookup"
          ]
         }
        },
        "/api/v1/lookup/never_ticks/{id}": {
         "get": {
          "description": "This endpoint lets you lookup any GatewayStruct by its uniquely generated `id`.",
          "operationId": "Lookup_never_ticks_api_v1_lookup_never_ticks__id__get",
          "parameters": [
           {
            "in": "path",
            "name": "id",
            "required": true,
            "schema": {
             "title": "Id",
             "type": "string"
            }
           }
          ],
          "responses": {
           "200": {
            "content": {
             "application/json": {
              "schema": {
               "items": [
                "properties",
                "additionalProperties",
                "type",
                "title"
               ],
               "title": "Response Lookup Never Ticks Api V1 Lookup Never Ticks  Id  Get",
               "type": "array"
              }
             }
            },
            "description": "Successful Response"
           },
           "404": {
            "content": {
             "application/json": {
              "schema": [
               "properties",
               "type",
               "title"
              ]
             }
            },
            "description": "Not Found"
           },
           "422": {
            "content": {
             "application/json": {
              "schema": [
               "properties",
               "type",
               "title"
              ]
             }
            },
            "description": "Validation Error"
           }
          },
          "summary": "Lookup Never Ticks",
          "tags": [
           "Lookup"
          ]
         }
        },
        "/api/v1/lookup/str_basket/{id}": {
         "get": {
          "description": "This endpoint lets you lookup any GatewayStruct by its uniquely generated `id`.",
          "operationId": "Lookup_str_basket_api_v1_lookup_str_basket__id__get",
          "parameters": [
           {
            "in": "path",
            "name": "id",
            "required": true,
            "schema": {
             "title": "Id",
             "type": "string"
            }
           }
          ],
          "responses": {
           "200": {
            "content": {
             "application/json": {
              "schema": {
               "items": [
                "properties",
                "additionalProperties",
                "type",
                "title"
               ],
               "title": "Response Lookup Str Basket Api V1 Lookup Str Basket  Id  Get",
               "type": "array"
              }
             }
            },
            "description": "Successful Response"
           },
           "404": {
            "content": {
             "application/json": {
              "schema": [
               "properties",
               "type",
               "title"
              ]
             }
            },
            "description": "Not Found"
           },
           "422": {
            "content": {
             "application/json": {
              "schema": [
               "properties",
               "type",
               "title"
              ]
             }
            },
            "description": "Validation Error"
           }
          },
          "summary": "Lookup Str Basket",
          "tags": [
           "Lookup"
          ]
         }
        },
        "/api/v1/next/": {
         "get": {
          "description": "This endpoint will return a list of string values of all available channels under the `/next` route.",
          "operationId": "get_next_api_v1_next__get",
          "responses": {
           "200": {
            "content": {
             "application/json": {
              "schema": {
               "items": {
                "type": "string"
               },
               "title": "Response Get Next Api V1 Next  Get",
               "type": "array"
              }
             }
            },
            "description": "Successful Response"
           },
           "404": {
            "content": {
             "application/json": {
              "schema": [
               "properties",
               "type",
               "title"
              ]
             }
            },
            "description": "Not Found"
           }
          },
          "summary": "Get Next",
          "tags": [
           "Next"
          ]
         }
        },
        "/api/v1/next/basket": {
         "get": {
          "description": "Get next ticked value on a dictionary basket channel. This endpoint will return the entire basket",
          "operationId": "Get_Next_basket_api_v1_next_basket_get",
          "responses": {
           "200": {
            "content": {
             "application/json": {
              "schema": {
               "items": [
                "properties",
                "additionalProperties",
                "type",
                "title"
               ],
               "title": "Response Get Next Basket Api V1 Next Basket Get",
               "type": "array"
              }
             }
            },
            "description": "Successful Response"
           },
           "404": {
            "content": {
             "application/json": {
              "schema": [
               "properties",
               "type",
               "title"
              ]
             }
            },
            "description": "Not Found"
           }
          },
          "summary": "Get Next Basket",
          "tags": [
           "Next"
          ]
         }
        },
        "/api/v1/next/basket/{key}": {
         "get": {
          "description": "Get next ticked value on a dictionary basket channel, where `key` is the key of the dictionary basket.\nIf such a key does not exist or is not mounted, this endpoint will raise a `404` error.",
          "operationId": "Get_Next_basket_by_key_api_v1_next_basket__key__get",
          "parameters": [
           {
            "in": "path",
            "name": "key",
            "required": true,
            "schema": {
             "title": "Key",
             "type": "string"
            }
           }
          ],
          "responses": {
           "200": {
            "content": {
             "application/json": {
              "schema": {
               "items": [
                "properties",
                "additionalProperties",
                "type",
                "title"
               ],
               "title": "Response Get Next Basket By Key Api V1 Next Basket  Key  Get",
               "type": "array"
              }
             }
            },
            "description": "Successful Response"
           },
           "404": {
            "content": {
             "application/json": {
              "schema": [
               "properties",
               "type",
               "title"
              ]
             }
            },
            "description": "Not Found"
           },
           "422": {
            "content": {
             "application/json": {
              "schema": [
               "properties",
               "type",
               "title"
              ]
             }
            },
            "description": "Validation Error"
           }
          },
          "summary": "Get Next Basket By Key",
          "tags": [
           "Next"
          ]
         }
        },
        "/api/v1/next/controls": {
         "get": {
          "description": "Get next ticked value on a non-basket channel.\nThis endpoint will always return a list of elements.\n\nWhen the underlying channel only handles individual elements, the returned list will only ever contain a single element.\n\nWhen the underlying channel handles lists of elements, the returned list will contain `N>=1` elements.",
          "operationId": "Get_Next_controls_api_v1_next_controls_get",
          "responses": {
           "200": {
            "content": {
             "application/json": {
              "schema": {
               "items": [
                "properties",
                "additionalProperties",
                "type",
                "title"
               ],
               "title": "Response Get Next Controls Api V1 Next Controls Get",
               "type": "array"
              }
             }
            },
            "description": "Successful Response"
           },
           "404": {
            "content": {
             "application/json": {
              "schema": [
               "properties",
               "type",
               "title"
              ]
             }
            },
            "description": "Not Found"
           }
          },
          "summary": "Get Next Controls",
          "tags": [
           "Next"
          ]
         }
        },
        "/api/v1/next/example": {
         "get": {
          "description": "Get next ticked value on a non-basket channel.\nThis endpoint will always return a list of elements.\n\nWhen the underlying channel only handles individual elements, the returned list will only ever contain a single element.\n\nWhen the underlying channel handles lists of elements, the returned list will contain `N>=1` elements.",
          "operationId": "Get_Next_example_api_v1_next_example_get",
          "responses": {
           "200": {
            "content": {
             "application/json": {
              "schema": {
               "items": [
                "properties",
                "additionalProperties",
                "type",
                "title"
               ],
               "title": "Response Get Next Example Api V1 Next Example Get",
               "type": "array"
              }
             }
            },
            "description": "Successful Response"
           },
           "404": {
            "content": {
             "application/json": {
              "schema": [
               "properties",
               "type",
               "title"
              ]
             }
            },
            "description": "Not Found"
           }
          },
          "summary": "Get Next Example",
          "tags": [
           "Next"
          ]
         }
        },
        "/api/v1/next/example_list": {
         "get": {
          "description": "Get next ticked value on a non-basket channel.\nThis endpoint will always return a list of elements.\n\nWhen the underlying channel only handles individual elements, the returned list will only ever contain a single element.\n\nWhen the underlying channel handles lists of elements, the returned list will contain `N>=1` elements.",
          "operationId": "Get_Next_example_list_api_v1_next_example_list_get",
          "responses": {
           "200": {
            "content": {
             "application/json": {
              "schema": {
               "items": [
                "properties",
                "additionalProperties",
                "type",
                "title"
               ],
               "title": "Response Get Next Example List Api V1 Next Example List Get",
               "type": "array"
              }
             }
            },
            "description": "Successful Response"
           },
           "404": {
            "content": {
             "application/json": {
              "schema": [
               "properties",
               "type",
               "title"
              ]
             }
            },
            "description": "Not Found"
           }
          },
          "summary": "Get Next Example List",
          "tags": [
           "Next"
          ]
         }
        },
        "/api/v1/next/never_ticks": {
         "get": {
          "description": "Get next ticked value on a non-basket channel.\nThis endpoint will always return a list of elements.\n\nWhen the underlying channel only handles individual elements, the returned list will only ever contain a single element.\n\nWhen the underlying channel handles lists of elements, the returned list will contain `N>=1` elements.",
          "operationId": "Get_Next_never_ticks_api_v1_next_never_ticks_get",
          "responses": {
           "200": {
            "content": {
             "application/json": {
              "schema": {
               "items": [
                "properties",
                "additionalProperties",
                "type",
                "title"
               ],
               "title": "Response Get Next Never Ticks Api V1 Next Never Ticks Get",
               "type": "array"
              }
             }
            },
            "description": "Successful Response"
           },
           "404": {
            "content": {
             "application/json": {
              "schema": [
               "properties",
               "type",
               "title"
              ]
             }
            },
            "description": "Not Found"
           }
          },
          "summary": "Get Next Never Ticks",
          "tags": [
           "Next"
          ]
         }
        },
        "/api/v1/next/str_basket": {
         "get": {
          "description": "Get next ticked value on a dictionary basket channel. This endpoint will return the entire basket",
          "operationId": "Get_Next_str_basket_api_v1_next_str_basket_get",
          "responses": {
           "200": {
            "content": {
             "application/json": {
              "schema": {
               "items": [
                "properties",
                "additionalProperties",
                "type",
                "title"
               ],
               "title": "Response Get Next Str Basket Api V1 Next Str Basket Get",
               "type": "array"
              }
             }
            },
            "description": "Successful Response"
           },
           "404": {
            "content": {
             "application/json": {
              "schema": [
               "properties",
               "type",
               "title"
              ]
             }
            },
            "description": "Not Found"
           }
          },
          "summary": "Get Next Str Basket",
          "tags": [
           "Next"
          ]
         }
        },
        "/api/v1/next/str_basket/{key}": {
         "get": {
          "description": "Get next ticked value on a dictionary basket channel, where `key` is the key of the dictionary basket.\nIf such a key does not exist or is not mounted, this endpoint will raise a `404` error.",
          "operationId": "Get_Next_str_basket_by_key_api_v1_next_str_basket__key__get",
          "parameters": [
           {
            "in": "path",
            "name": "key",
            "required": true,
            "schema": {
             "title": "Key",
             "type": "string"
            }
           }
          ],
          "responses": {
           "200": {
            "content": {
             "application/json": {
              "schema": {
               "items": [
                "properties",
                "additionalProperties",
                "type",
                "title"
               ],
               "title": "Response Get Next Str Basket By Key Api V1 Next Str Basket  Key  Get",
               "type": "array"
              }
             }
            },
            "description": "Successful Response"
           },
           "404": {
            "content": {
             "application/json": {
              "schema": [
               "properties",
               "type",
               "title"
              ]
             }
            },
            "description": "Not Found"
           },
           "422": {
            "content": {
             "application/json": {
              "schema": [
               "properties",
               "type",
               "title"
              ]
             }
            },
            "description": "Validation Error"
           }
          },
          "summary": "Get Next Str Basket By Key",
          "tags": [
           "Next"
          ]
         }
        },
        "/api/v1/perspective/layouts": {
         "get": {
          "description": "This endpoint exposes saved [perspective](https://github.com/finos/perspective) workspace layouts.\nThese layouts can be configured server side to be provided to all clients.",
          "operationId": "get_perspective_layouts_api_v1_perspective_layouts_get",
          "responses": {
           "200": {
            "content": {
             "application/json": {
              "schema": {
               "additionalProperties": {
                "type": "string"
               },
               "title": "Response Get Perspective Layouts Api V1 Perspective Layouts Get",
               "type": "object"
              }
             }
            },
            "description": "Successful Response"
           },
           "404": {
            "content": {
             "application/json": {
              "schema": [
               "properties",
               "type",
               "title"
              ]
             }
            },
            "description": "Not Found"
           }
          },
          "summary": "Get Perspective Layouts",
          "tags": [
           "Utility"
          ]
         }
        },
        "/api/v1/perspective/tables": {
         "get": {
          "description": "This endpoint exposes the served [perspective](https://github.com/finos/perspective) table names and schemas.\n\nIt can be used for `perspective`-based dashboards to build interactive visualization,\nsuch as the one provided as an example for the `csp-gateway` project.\nDepending on your server's configuration, this might be available at [`/`](/)",
          "operationId": "get_perspective_table_names_api_v1_perspective_tables_get",
          "responses": {
           "200": {
            "content": {
             "application/json": {
              "schema": {
               "additionalProperties": {
                "additionalProperties": {
                 "type": "string"
                },
                "type": "object"
               },
               "title": "Response Get Perspective Table Names Api V1 Perspective Tables Get",
               "type": "object"
              }
             }
            },
            "description": "Successful Response"
           },
           "404": {
            "content": {
             "application/json": {
              "schema": [
               "properties",
               "type",
               "title"
              ]
             }
            },
            "description": "Not Found"
           }
          },
          "summary": "Get Perspective Table Names",
          "tags": [
           "Utility"
          ]
         }
        },
        "/api/v1/send/": {
         "get": {
          "description": "This endpoint will return a list of string values of all available channels under the `/send` route.",
          "operationId": "get_send_api_v1_send__get",
          "responses": {
           "200": {
            "content": {
             "application/json": {
              "schema": {
               "items": {
                "type": "string"
               },
               "title": "Response Get Send Api V1 Send  Get",
               "type": "array"
              }
             }
            },
            "description": "Successful Response"
           },
           "404": {
            "content": {
             "application/json": {
              "schema": [
               "properties",
               "type",
               "title"
              ]
             }
            },
            "description": "Not Found"
           }
          },
          "summary": "Get Send",
          "tags": [
           "Requests"
          ]
         }
        },
        "/api/v1/send/basket": {
         "post": {
          "operationId": "Send_basket_api_v1_send_basket_post",
          "requestBody": {
           "content": {
            "application/json": {
             "schema": {
              "additionalProperties": [
               "properties",
               "additionalProperties",
               "type",
               "title"
              ],
              "title": "Data",
              "type": "object"
             }
            }
           },
           "required": true
          },
          "responses": {
           "200": {
            "content": {
             "application/json": {
              "schema": {
               "additionalProperties": [
                "properties",
                "additionalProperties",
                "type",
                "title"
               ],
               "title": "Response Send Basket Api V1 Send Basket Post",
               "type": "object"
              }
             }
            },
            "description": "Successful Response"
           },
           "404": {
            "content": {
             "application/json": {
              "schema": [
               "properties",
               "type",
               "title"
              ]
             }
            },
            "description": "Not Found"
           },
           "422": {
            "content": {
             "application/json": {
              "schema": [
               "properties",
               "type",
               "title"
              ]
             }
            },
            "description": "Validation Error"
           }
          },
          "summary": "Send Basket",
          "tags": [
           "Requests"
          ]
         }
        },
        "/api/v1/send/basket/{key}": {
         "post": {
          "description": "Send data to a dictionary basket channel, where `key` is the key of the dictionary basket.\nIf such a key does not exist or is not mounted, this endpoint will raise a `404` error.",
          "operationId": "Send_basket_by_key_api_v1_send_basket__key__post",
          "parameters": [
           {
            "in": "path",
            "name": "key",
            "required": true,
            "schema": {
             "description": "An enumeration of ExampleEnum",
             "enum": [
              "A",
              "B",
              "C"
             ],
             "title": "ExampleEnum",
             "type": "string"
            }
           }
          ],
          "requestBody": {
           "content": {
            "application/json": {
             "schema": {
              "anyOf": [
               {
                "items": [
                 "properties",
                 "additionalProperties",
                 "type",
                 "title"
                ],
                "type": "array"
               },
               [
                "properties",
                "additionalProperties",
                "type",
                "title"
               ]
              ],
              "title": "Data"
             }
            }
           },
           "required": true
          },
          "responses": {
           "200": {
            "content": {
             "application/json": {
              "schema": {
               "items": [
                "properties",
                "additionalProperties",
                "type",
                "title"
               ],
               "title": "Response Send Basket By Key Api V1 Send Basket  Key  Post",
               "type": "array"
              }
             }
            },
            "description": "Successful Response"
           },
           "404": {
            "content": {
             "application/json": {
              "schema": [
               "properties",
               "type",
               "title"
              ]
             }
            },
            "description": "Not Found"
           },
           "422": {
            "content": {
             "application/json": {
              "schema": [
               "properties",
               "type",
               "title"
              ]
             }
            },
            "description": "Validation Error"
           }
          },
          "summary": "Send Basket By Key",
          "tags": [
           "Requests"
          ]
         }
        },
        "/api/v1/send/controls": {
         "post": {
          "description": "Send data to a non-basket channel. This endpoint can accept either a single element, or a list of elements.\nA list of elements will be returned with `id` and `timestamp` fields assigned.\nUsers should not provide `id` or `timestamp` fields as these will be ignored.",
          "operationId": "Send_controls_api_v1_send_controls_post",
          "requestBody": {
           "content": {
            "application/json": {
             "schema": {
              "anyOf": [
               {
                "items": [
                 "properties",
                 "additionalProperties",
                 "type",
                 "title"
                ],
                "type": "array"
               },
               [
                "properties",
                "additionalProperties",
                "type",
                "title"
               ]
              ],
              "title": "Data"
             }
            }
           },
           "required": true
          },
          "responses": {
           "200": {
            "content": {
             "application/json": {
              "schema": {
               "items": [
                "properties",
                "additionalProperties",
                "type",
                "title"
               ],
               "title": "Response Send Controls Api V1 Send Controls Post",
               "type": "array"
              }
             }
            },
            "description": "Successful Response"
           },
           "404": {
            "content": {
             "application/json": {
              "schema": [
               "properties",
               "type",
               "title"
              ]
             }
            },
            "description": "Not Found"
           },
           "422": {
            "content": {
             "application/json": {
              "schema": [
               "properties",
               "type",
               "title"
              ]
             }
            },
            "description": "Validation Error"
           }
          },
          "summary": "Send Controls",
          "tags": [
           "Requests"
          ]
         }
        },
        "/api/v1/send/example": {
         "post": {
          "description": "Send data to a non-basket channel. This endpoint can accept either a single element, or a list of elements.\nA list of elements will be returned with `id` and `timestamp` fields assigned.\nUsers should not provide `id` or `timestamp` fields as these will be ignored.",
          "operationId": "Send_example_api_v1_send_example_post",
          "requestBody": {
           "content": {
            "application/json": {
             "schema": {
              "anyOf": [
               {
                "items": [
                 "properties",
                 "additionalProperties",
                 "type",
                 "title"
                ],
                "type": "array"
               },
               [
                "properties",
                "additionalProperties",
                "type",
                "title"
               ]
              ],
              "title": "Data"
             }
            }
           },
           "required": true
          },
          "responses": {
           "200": {
            "content": {
             "application/json": {
              "schema": {
               "items": [
                "properties",
                "additionalProperties",
                "type",
                "title"
               ],
               "title": "Response Send Example Api V1 Send Example Post",
               "type": "array"
              }
             }
            },
            "description": "Successful Response"
           },
           "404": {
            "content": {
             "application/json": {
              "schema": [
               "properties",
               "type",
               "title"
              ]
             }
            },
            "description": "Not Found"
           },
           "422": {
            "content": {
             "application/json": {
              "schema": [
               "properties",
               "type",
               "title"
              ]
             }
            },
            "description": "Validation Error"
           }
          },
          "summary": "Send Example",
          "tags": [
           "Requests"
          ]
         }
        },
        "/api/v1/send/example_list": {
         "post": {
          "description": "Send data to a non-basket channel. This endpoint can accept either a single element, or a list of elements.\nA list of elements will be returned with `id` and `timestamp` fields assigned.\nUsers should not provide `id` or `timestamp` fields as these will be ignored.",
          "operationId": "Send_example_list_api_v1_send_example_list_post",
          "requestBody": {
           "content": {
            "application/json": {
             "schema": {
              "anyOf": [
               {
                "items": [
                 "properties",
                 "additionalProperties",
                 "type",
                 "title"
                ],
                "type": "array"
               },
               [
                "properties",
                "additionalProperties",
                "type",
                "title"
               ]
              ],
              "title": "Data"
             }
            }
           },
           "required": true
          },
          "responses": {
           "200": {
            "content": {
             "application/json": {
              "schema": {
               "items": [
                "properties",
                "additionalProperties",
                "type",
                "title"
               ],
               "title": "Response Send Example List Api V1 Send Example List Post",
               "type": "array"
              }
             }
            },
            "description": "Successful Response"
           },
           "404": {
            "content": {
             "application/json": {
              "schema": [
               "properties",
               "type",
               "title"
              ]
             }
            },
            "description": "Not Found"
           },
           "422": {
            "content": {
             "application/json": {
              "schema": [
               "properties",
               "type",
               "title"
              ]
             }
            },
            "description": "Validation Error"
           }
          },
          "summary": "Send Example List",
          "tags": [
           "Requests"
          ]
         }
        },
        "/api/v1/send/never_ticks": {
         "post": {
          "description": "Send data to a non-basket channel. This endpoint can accept either a single element, or a list of elements.\nA list of elements will be returned with `id` and `timestamp` fields assigned.\nUsers should not provide `id` or `timestamp` fields as these will be ignored.",
          "operationId": "Send_never_ticks_api_v1_send_never_ticks_post",
          "requestBody": {
           "content": {
            "application/json": {
             "schema": {
              "anyOf": [
               {
                "items": [
                 "properties",
                 "additionalProperties",
                 "type",
                 "title"
                ],
                "type": "array"
               },
               [
                "properties",
                "additionalProperties",
                "type",
                "title"
               ]
              ],
              "title": "Data"
             }
            }
           },
           "required": true
          },
          "responses": {
           "200": {
            "content": {
             "application/json": {
              "schema": {
               "items": [
                "properties",
                "additionalProperties",
                "type",
                "title"
               ],
               "title": "Response Send Never Ticks Api V1 Send Never Ticks Post",
               "type": "array"
              }
             }
            },
            "description": "Successful Response"
           },
           "404": {
            "content": {
             "application/json": {
              "schema": [
               "properties",
               "type",
               "title"
              ]
             }
            },
            "description": "Not Found"
           },
           "422": {
            "content": {
             "application/json": {
              "schema": [
               "properties",
               "type",
               "title"
              ]
             }
            },
            "description": "Validation Error"
           }
          },
          "summary": "Send Never Ticks",
          "tags": [
           "Requests"
          ]
         }
        },
        "/api/v1/send/str_basket": {
         "post": {
          "operationId": "Send_str_basket_api_v1_send_str_basket_post",
          "requestBody": {
           "content": {
            "application/json": {
             "schema": {
              "additionalProperties": [
               "properties",
               "additionalProperties",
               "type",
               "title"
              ],
              "title": "Data",
              "type": "object"
             }
            }
           },
           "required": true
          },
          "responses": {
           "200": {
            "content": {
             "application/json": {
              "schema": {
               "additionalProperties": [
                "properties",
                "additionalProperties",
                "type",
                "title"
               ],
               "title": "Response Send Str Basket Api V1 Send Str Basket Post",
               "type": "object"
              }
             }
            },
            "description": "Successful Response"
           },
           "404": {
            "content": {
             "application/json": {
              "schema": [
               "properties",
               "type",
               "title"
              ]
             }
            },
            "description": "Not Found"
           },
           "422": {
            "content": {
             "application/json": {
              "schema": [
               "properties",
               "type",
               "title"
              ]
             }
            },
            "description": "Validation Error"
           }
          },
          "summary": "Send Str Basket",
          "tags": [
           "Requests"
          ]
         }
        },
        "/api/v1/send/str_basket/{key}": {
         "post": {
          "description": "Send data to a dictionary basket channel, where `key` is the key of the dictionary basket.\nIf such a key does not exist or is not mounted, this endpoint will raise a `404` error.",
          "operationId": "Send_str_basket_by_key_api_v1_send_str_basket__key__post",
          "parameters": [
           {
            "in": "path",
            "name": "key",
            "required": true,
            "schema": {
             "title": "Key",
             "type": "string"
            }
           }
          ],
          "requestBody": {
           "content": {
            "application/json": {
             "schema": {
              "anyOf": [
               {
                "items": [
                 "properties",
                 "additionalProperties",
                 "type",
                 "title"
                ],
                "type": "array"
               },
               [
                "properties",
                "additionalProperties",
                "type",
                "title"
               ]
              ],
              "title": "Data"
             }
            }
           },
           "required": true
          },
          "responses": {
           "200": {
            "content": {
             "application/json": {
              "schema": {
               "items": [
                "properties",
                "additionalProperties",
                "type",
                "title"
               ],
               "title": "Response Send Str Basket By Key Api V1 Send Str Basket  Key  Post",
               "type": "array"
              }
             }
            },
            "description": "Successful Response"
           },
           "404": {
            "content": {
             "application/json": {
              "schema": [
               "properties",
               "type",
               "title"
              ]
             }
            },
            "description": "Not Found"
           },
           "422": {
            "content": {
             "application/json": {
              "schema": [
               "properties",
               "type",
               "title"
              ]
             }
            },
            "description": "Validation Error"
           }
          },
          "summary": "Send Str Basket By Key",
          "tags": [
           "Requests"
          ]
         }
        },
        "/api/v1/state/": {
         "get": {
          "description": "This endpoint will return a list of string values of all available state channels under the `/state` route.\n\nNote: This endpoint does not support filtering",
          "operationId": "get_state_api_v1_state__get",
          "responses": {
           "200": {
            "content": {
             "application/json": {
              "schema": {
               "items": {
                "type": "string"
               },
               "title": "Response Get State Api V1 State  Get",
               "type": "array"
              }
             }
            },
            "description": "Successful Response"
           },
           "404": {
            "content": {
             "application/json": {
              "schema": [
               "properties",
               "type",
               "title"
              ]
             }
            },
            "description": "Not Found"
           }
          },
          "summary": "Get State",
          "tags": [
           "State"
          ]
         }
        },
        "/api/v1/state/example": {
         "get": {
          "description": "Get state value on a non-dict basket channel. This endpoint will flatten the state structure and return a list of the elements.\nQuery parameters may be provided to perform server-side filtering and other functionality on the state object.\n\nStates may be queried by certain conditions. Currently only filtering is supported. Filters can be used to evaluate\nobjects in state and compare them to either scalar values or other attributes on the object. Here are some simple examples\nusing the demo application provided with `csp-gateway`:\n\n```\n# Filter only records where `record.x` == 5\napi/v1/state/example?query={\"filter\":[{\"attr\":\"x\",\"by\":{\"value\":5,\"where\":\"==\"}}]}\n\n# Filter only records where `record.x` < 10\n/api/v1/state/example?query={\"filters\":[{\"attr\":\"x\",\"by\":{\"value\":10,\"where\":\"<\"}}]}\n\n# Filter only records where `record.timestamp` < \"2023-03-30T14:45:26.394000\"\n/api/v1/state/example?query={\"filters\":[{\"attr\":\"timestamp\",\"by\":{\"when\":\"2023-03-30T14:45:26.394000\",\"where\":\"<\"}}]}\n\n# Filter only records where `record.id` < `record.y`\n/api/v1/state/example?query={\"filters\":[{\"attr\":\"id\",\"by\":{\"attr\":\"y\",\"where\":\"<\"}}]}\n\n# Filter only records where `record.x` < 50 and `record.x` >= 30\n/api/v1/state/example?query={\"filters\":[{\"attr\":\"x\",\"by\":{\"value\":50,\"where\":\"<\"}},{\"attr\":\"x\",\"by\":{\"value\":30,\"where\":\">=\"}}]}\n```",
          "operationId": "Get_State_example_api_v1_state_example_get",
          "parameters": [
           {
            "description": "Query Parameters",
            "in": "query",
            "name": "query",
            "required": false,
            "schema": {
             "default": {
              "filters": []
             },
             "description": "Query Parameters",
             "format": "json-string",
             "title": "Query",
             "type": "string"
            }
           }
          ],
          "responses": {
           "200": {
            "content": {
             "application/json": {
              "schema": {
               "items": [
                "properties",
                "additionalProperties",
                "type",
                "title"
               ],
               "title": "Response Get State Example Api V1 State Example Get",
               "type": "array"
              }
             }
            },
            "description": "Successful Response"
           },
           "404": {
            "content": {
             "application/json": {
              "schema": [
               "properties",
               "type",
               "title"
              ]
             }
            },
            "description": "Not Found"
           },
           "422": {
            "content": {
             "application/json": {
              "schema": [
               "properties",
               "type",
               "title"
              ]
             }
            },
            "description": "Validation Error"
           }
          },
          "summary": "Get State Example",
          "tags": [
           "State"
          ]
         }
        },
        "/api/v1/stream": {
         "get": {
          "description": "This endpoint returns all of the available mounted websocket streams.\n\n\nThe websocket stream is available on the same route.\nData is bidirectional, any channel available as a `send` or `last` route is also available under the websocket connection.\n\nTo subscribe to channels, send a JSON message of the form:\n```\n{\n    \"action\": \"subscribe\",\n    \"channel\": \"<channel name>\"\n}\n```\n\nTo unsubscribe to channels, send a JSON message of the form:\n```\n{\n    \"action\": \"unsubscribe\",\n    \"channel\": \"<channel name>\"\n}\n```\n\nData will be sent across the websocket for all subscribed channels. It has the form:\n\n\n```\n{\n    \"channel\": \"<channel name>\",\n    \"data\": <the same data that would be transmitted over e.g. the `last` endpoint>\n}\n```",
          "operationId": "stream_api_v1_stream_get",
          "responses": {
           "200": {
            "content": {
             "application/json": {
              "schema": {
               "items": {
                "type": "string"
               },
               "title": "Response Stream Api V1 Stream Get",
               "type": "array"
              }
             }
            },
            "description": "Successful Response"
           },
           "404": {
            "content": {
             "application/json": {
              "schema": [
               "properties",
               "type",
               "title"
              ]
             }
            },
            "description": "Not Found"
           }
          },
          "summary": "Stream",
          "tags": [
           "Streaming"
          ]
         }
        },
        "/channels_graph": {
         "get": {
          "description": "This endpoint is a small webpage that shows the dependency relationship of the GatewayChannels graph powering this API.",
          "operationId": "browse_channels_graph_channels_graph_get",
          "responses": {
           "200": {
            "content": {
             "text/html": {
              "schema": {
               "type": "string"
              }
             }
            },
            "description": "Successful Response"
           }
          },
          "summary": "Browse Channels Graph",
          "tags": [
           "Utility"
          ]
         }
        },
        "/outputs/{full_path}": {
         "get": {
          "description": "This endpoint is a small webpage for browsing the [hydra](https://github.com/facebookresearch/hydra)\noutput logs and configuration settings of the running application.",
          "operationId": "browse_logs_outputs__full_path__get",
          "parameters": [
           {
            "in": "path",
            "name": "full_path",
            "required": true,
            "schema": {
             "title": "Full Path",
             "type": "string"
            }
           }
          ],
          "responses": {
           "200": {
            "content": {
             "text/html": {
              "schema": {
               "type": "string"
              }
             }
            },
            "description": "Successful Response"
           },
           "422": {
            "content": {
             "application/json": {
              "schema": [
               "properties",
               "type",
               "title"
              ]
             }
            },
            "description": "Validation Error"
           }
          },
          "summary": "Browse Logs",
          "tags": [
           "Utility"
          ]
         }
        }
       }
      },
      "text/plain": [
       "<IPython.core.display.JSON object>"
      ]
     },
     "execution_count": 4,
     "metadata": {
      "application/json": {
       "expanded": false,
       "root": "root"
      }
     },
     "output_type": "execute_result"
    }
   ],
   "source": [
    "# openapi spec\n",
    "from IPython.display import JSON\n",
    "JSON(client._openapi_spec)"
   ]
  },
  {
   "cell_type": "code",
   "execution_count": 5,
   "id": "39aee763-c398-41ff-80f2-22f638c5f741",
   "metadata": {},
   "outputs": [
    {
     "data": {
      "text/plain": [
       "[{'id': '2319375449026723842',\n",
       "  'timestamp': '2024-02-08T15:42:24.707000+00:00',\n",
       "  'name': 'stats',\n",
       "  'status': 'ok',\n",
       "  'data': {'cpu': 9.5,\n",
       "   'memory': 70.0,\n",
       "   'memory-total': 29.98,\n",
       "   'now': '2024-02-08T15:42:24.709000+00:00',\n",
       "   'csp-now': '2024-02-08T15:42:24.707178+00:00',\n",
       "   'host': 'devqtccrt06',\n",
       "   'user': 'nk12433'}}]"
      ]
     },
     "execution_count": 5,
     "metadata": {},
     "output_type": "execute_result"
    }
   ],
   "source": [
    "# machine stats\n",
    "client.controls(\"stats\").as_json()"
   ]
  },
  {
   "cell_type": "markdown",
   "id": "dce19f67-d949-42c4-9454-6d3ffa501742",
   "metadata": {},
   "source": [
    "## Last, State, Lookup, Send\n",
    "Let's look at what channels we have available for `last`:"
   ]
  },
  {
   "cell_type": "code",
   "execution_count": 6,
   "id": "8581c372-095a-4e93-8f70-7cbb6d94d43d",
   "metadata": {},
   "outputs": [
    {
     "data": {
      "text/plain": [
       "['never_ticks', 'example', 'example_list', 'str_basket', 'controls', 'basket']"
      ]
     },
     "execution_count": 6,
     "metadata": {},
     "output_type": "execute_result"
    }
   ],
   "source": [
    "client.last().as_json()"
   ]
  },
  {
   "cell_type": "code",
   "execution_count": 7,
   "id": "7259d6a0-b9ad-440d-b2eb-9c2e5063d05a",
   "metadata": {},
   "outputs": [
    {
     "data": {
      "text/plain": [
       "[{'id': '2319375449093843665',\n",
       "  'timestamp': '2024-02-08T15:42:24.674000+00:00',\n",
       "  'x': 2740,\n",
       "  'y': '274027402740',\n",
       "  'internal_csp_struct': {'z': 12},\n",
       "  'data': [0.04214403621123841,\n",
       "   0.2777565518959145,\n",
       "   0.8924844325909429,\n",
       "   0.34476509440152614,\n",
       "   0.20822638755894596,\n",
       "   0.9031877679300264,\n",
       "   0.6124216455541363,\n",
       "   0.9848707643841728,\n",
       "   0.618990569185841,\n",
       "   0.5582898776824039],\n",
       "  'mapping': {'2740': 2740}}]"
      ]
     },
     "execution_count": 7,
     "metadata": {},
     "output_type": "execute_result"
    }
   ],
   "source": [
    "client.last(\"example\").as_json()"
   ]
  },
  {
   "cell_type": "code",
   "execution_count": 8,
   "id": "79547b8b-a97f-4cc4-9096-1537d3b66213",
   "metadata": {},
   "outputs": [
    {
     "data": {
      "text/plain": [
       "[{'id': '2319375449093843662',\n",
       "  'timestamp': '2024-02-08T15:42:24.674000+00:00',\n",
       "  'x': 2740,\n",
       "  'y': '2740',\n",
       "  'internal_csp_struct': {'z': 12},\n",
       "  'data': [0.4358136168874479,\n",
       "   0.9866855468623034,\n",
       "   0.7370733232695977,\n",
       "   0.2473537128693415,\n",
       "   0.33386372679049414,\n",
       "   0.855059230303771,\n",
       "   0.23094109313426026,\n",
       "   0.15447614788689634,\n",
       "   0.028364551604262656,\n",
       "   0.3461902446665106],\n",
       "  'mapping': {'2740': 2740}},\n",
       " {'id': '2319375449093843663',\n",
       "  'timestamp': '2024-02-08T15:42:24.674000+00:00',\n",
       "  'x': 2740,\n",
       "  'y': '27402740',\n",
       "  'internal_csp_struct': {'z': 12},\n",
       "  'data': [0.6377430109697712,\n",
       "   0.9945325429350265,\n",
       "   0.21250129814975605,\n",
       "   0.7428201790683369,\n",
       "   0.748495275897516,\n",
       "   0.7495896160497952,\n",
       "   0.052122337434189814,\n",
       "   0.28571381888827774,\n",
       "   0.15916263368074623,\n",
       "   0.5859045937429175],\n",
       "  'mapping': {'2740': 2740}},\n",
       " {'id': '2319375449093843664',\n",
       "  'timestamp': '2024-02-08T15:42:24.674000+00:00',\n",
       "  'x': 2740,\n",
       "  'y': '274027402740',\n",
       "  'internal_csp_struct': {'z': 12},\n",
       "  'data': [0.09866777488177447,\n",
       "   0.9338912139505706,\n",
       "   0.4008220677833475,\n",
       "   0.3970734597363782,\n",
       "   0.5698499914906174,\n",
       "   0.9409930883247017,\n",
       "   0.40646346343477957,\n",
       "   0.6625127227460902,\n",
       "   0.6663193112635586,\n",
       "   0.7144147693528888],\n",
       "  'mapping': {'2740': 2740}}]"
      ]
     },
     "execution_count": 8,
     "metadata": {},
     "output_type": "execute_result"
    }
   ],
   "source": [
    "client.last(\"basket\").as_json()"
   ]
  },
  {
   "cell_type": "code",
   "execution_count": 9,
   "id": "c7c9baaa-2315-49f1-b544-d38bec758ee3",
   "metadata": {},
   "outputs": [
    {
     "data": {
      "text/html": [
       "<div>\n",
       "<style scoped>\n",
       "    .dataframe tbody tr th:only-of-type {\n",
       "        vertical-align: middle;\n",
       "    }\n",
       "\n",
       "    .dataframe tbody tr th {\n",
       "        vertical-align: top;\n",
       "    }\n",
       "\n",
       "    .dataframe thead th {\n",
       "        text-align: right;\n",
       "    }\n",
       "</style>\n",
       "<table border=\"1\" class=\"dataframe\">\n",
       "  <thead>\n",
       "    <tr style=\"text-align: right;\">\n",
       "      <th></th>\n",
       "      <th>id</th>\n",
       "      <th>timestamp</th>\n",
       "      <th>x</th>\n",
       "      <th>y</th>\n",
       "      <th>data</th>\n",
       "      <th>internal_csp_struct.z</th>\n",
       "      <th>mapping.2740</th>\n",
       "      <th>internal_csp_struct</th>\n",
       "      <th>mapping</th>\n",
       "    </tr>\n",
       "  </thead>\n",
       "  <tbody>\n",
       "    <tr>\n",
       "      <th>0</th>\n",
       "      <td>2319375449093843662</td>\n",
       "      <td>2024-02-08T15:42:24.674000+00:00</td>\n",
       "      <td>2740</td>\n",
       "      <td>2740</td>\n",
       "      <td>[0.4358136168874479, 0.9866855468623034, 0.737...</td>\n",
       "      <td>12</td>\n",
       "      <td>2740</td>\n",
       "      <td>NaN</td>\n",
       "      <td>NaN</td>\n",
       "    </tr>\n",
       "    <tr>\n",
       "      <th>1</th>\n",
       "      <td>2319375449093843663</td>\n",
       "      <td>2024-02-08T15:42:24.674000+00:00</td>\n",
       "      <td>2740</td>\n",
       "      <td>27402740</td>\n",
       "      <td>[0.6377430109697712, 0.9945325429350265, 0.212...</td>\n",
       "      <td>12</td>\n",
       "      <td>2740</td>\n",
       "      <td>NaN</td>\n",
       "      <td>NaN</td>\n",
       "    </tr>\n",
       "    <tr>\n",
       "      <th>2</th>\n",
       "      <td>2319375449093843664</td>\n",
       "      <td>2024-02-08T15:42:24.674000+00:00</td>\n",
       "      <td>2740</td>\n",
       "      <td>274027402740</td>\n",
       "      <td>[0.09866777488177447, 0.9338912139505706, 0.40...</td>\n",
       "      <td>12</td>\n",
       "      <td>2740</td>\n",
       "      <td>NaN</td>\n",
       "      <td>NaN</td>\n",
       "    </tr>\n",
       "  </tbody>\n",
       "</table>\n",
       "</div>"
      ],
      "text/plain": [
       "                    id                         timestamp     x             y  \\\n",
       "0  2319375449093843662  2024-02-08T15:42:24.674000+00:00  2740          2740   \n",
       "1  2319375449093843663  2024-02-08T15:42:24.674000+00:00  2740      27402740   \n",
       "2  2319375449093843664  2024-02-08T15:42:24.674000+00:00  2740  274027402740   \n",
       "\n",
       "                                                data  internal_csp_struct.z  \\\n",
       "0  [0.4358136168874479, 0.9866855468623034, 0.737...                     12   \n",
       "1  [0.6377430109697712, 0.9945325429350265, 0.212...                     12   \n",
       "2  [0.09866777488177447, 0.9338912139505706, 0.40...                     12   \n",
       "\n",
       "   mapping.2740 internal_csp_struct mapping  \n",
       "0          2740                 NaN     NaN  \n",
       "1          2740                 NaN     NaN  \n",
       "2          2740                 NaN     NaN  "
      ]
     },
     "execution_count": 9,
     "metadata": {},
     "output_type": "execute_result"
    }
   ],
   "source": [
    "client.last(\"basket\").as_pandas_df()"
   ]
  },
  {
   "cell_type": "markdown",
   "id": "a4ea1736-16b6-4c07-bc92-adccb8fa0228",
   "metadata": {},
   "source": [
    "State channels are used to perform state accumulation over a number of ticks. The example server doesn't do anything too interesting, but we can access these channels nevertheless."
   ]
  },
  {
   "cell_type": "code",
   "execution_count": 10,
   "id": "f1207c68-a04d-4faa-b56b-fd38bc4b9c88",
   "metadata": {},
   "outputs": [
    {
     "data": {
      "text/plain": [
       "['example']"
      ]
     },
     "execution_count": 10,
     "metadata": {},
     "output_type": "execute_result"
    }
   ],
   "source": [
    "client.state().as_json()"
   ]
  },
  {
   "cell_type": "code",
   "execution_count": 11,
   "id": "76688232-587a-4cf1-a0fb-b08a741f005d",
   "metadata": {},
   "outputs": [
    {
     "data": {
      "text/html": [
       "<div>\n",
       "<style scoped>\n",
       "    .dataframe tbody tr th:only-of-type {\n",
       "        vertical-align: middle;\n",
       "    }\n",
       "\n",
       "    .dataframe tbody tr th {\n",
       "        vertical-align: top;\n",
       "    }\n",
       "\n",
       "    .dataframe thead th {\n",
       "        text-align: right;\n",
       "    }\n",
       "</style>\n",
       "<table border=\"1\" class=\"dataframe\">\n",
       "  <thead>\n",
       "    <tr style=\"text-align: right;\">\n",
       "      <th></th>\n",
       "      <th>id</th>\n",
       "      <th>timestamp</th>\n",
       "      <th>x</th>\n",
       "      <th>y</th>\n",
       "      <th>data</th>\n",
       "      <th>internal_csp_struct.z</th>\n",
       "      <th>mapping.1</th>\n",
       "      <th>mapping.2</th>\n",
       "      <th>mapping.3</th>\n",
       "      <th>mapping.4</th>\n",
       "      <th>...</th>\n",
       "      <th>mapping.2733</th>\n",
       "      <th>mapping.2734</th>\n",
       "      <th>mapping.2735</th>\n",
       "      <th>mapping.2736</th>\n",
       "      <th>mapping.2737</th>\n",
       "      <th>mapping.2738</th>\n",
       "      <th>mapping.2739</th>\n",
       "      <th>mapping.2740</th>\n",
       "      <th>internal_csp_struct</th>\n",
       "      <th>mapping</th>\n",
       "    </tr>\n",
       "  </thead>\n",
       "  <tbody>\n",
       "    <tr>\n",
       "      <th>2737</th>\n",
       "      <td>2319375449093843649</td>\n",
       "      <td>2024-02-08T15:42:20.674000+00:00</td>\n",
       "      <td>2736</td>\n",
       "      <td>273627362736</td>\n",
       "      <td>[0.49893600652720127, 0.853167719853599, 0.315...</td>\n",
       "      <td>12</td>\n",
       "      <td>NaN</td>\n",
       "      <td>NaN</td>\n",
       "      <td>NaN</td>\n",
       "      <td>NaN</td>\n",
       "      <td>...</td>\n",
       "      <td>NaN</td>\n",
       "      <td>NaN</td>\n",
       "      <td>NaN</td>\n",
       "      <td>2736.0</td>\n",
       "      <td>NaN</td>\n",
       "      <td>NaN</td>\n",
       "      <td>NaN</td>\n",
       "      <td>NaN</td>\n",
       "      <td>NaN</td>\n",
       "      <td>NaN</td>\n",
       "    </tr>\n",
       "    <tr>\n",
       "      <th>2738</th>\n",
       "      <td>2319375449093843653</td>\n",
       "      <td>2024-02-08T15:42:21.674000+00:00</td>\n",
       "      <td>2737</td>\n",
       "      <td>273727372737</td>\n",
       "      <td>[0.5454735801588998, 0.9131743196563596, 0.793...</td>\n",
       "      <td>12</td>\n",
       "      <td>NaN</td>\n",
       "      <td>NaN</td>\n",
       "      <td>NaN</td>\n",
       "      <td>NaN</td>\n",
       "      <td>...</td>\n",
       "      <td>NaN</td>\n",
       "      <td>NaN</td>\n",
       "      <td>NaN</td>\n",
       "      <td>NaN</td>\n",
       "      <td>2737.0</td>\n",
       "      <td>NaN</td>\n",
       "      <td>NaN</td>\n",
       "      <td>NaN</td>\n",
       "      <td>NaN</td>\n",
       "      <td>NaN</td>\n",
       "    </tr>\n",
       "    <tr>\n",
       "      <th>2739</th>\n",
       "      <td>2319375449093843657</td>\n",
       "      <td>2024-02-08T15:42:22.674000+00:00</td>\n",
       "      <td>2738</td>\n",
       "      <td>273827382738</td>\n",
       "      <td>[0.9647636482625623, 0.5143565076074796, 0.187...</td>\n",
       "      <td>12</td>\n",
       "      <td>NaN</td>\n",
       "      <td>NaN</td>\n",
       "      <td>NaN</td>\n",
       "      <td>NaN</td>\n",
       "      <td>...</td>\n",
       "      <td>NaN</td>\n",
       "      <td>NaN</td>\n",
       "      <td>NaN</td>\n",
       "      <td>NaN</td>\n",
       "      <td>NaN</td>\n",
       "      <td>2738.0</td>\n",
       "      <td>NaN</td>\n",
       "      <td>NaN</td>\n",
       "      <td>NaN</td>\n",
       "      <td>NaN</td>\n",
       "    </tr>\n",
       "    <tr>\n",
       "      <th>2740</th>\n",
       "      <td>2319375449093843661</td>\n",
       "      <td>2024-02-08T15:42:23.674000+00:00</td>\n",
       "      <td>2739</td>\n",
       "      <td>273927392739</td>\n",
       "      <td>[0.11711046455122953, 0.4766317339540975, 0.78...</td>\n",
       "      <td>12</td>\n",
       "      <td>NaN</td>\n",
       "      <td>NaN</td>\n",
       "      <td>NaN</td>\n",
       "      <td>NaN</td>\n",
       "      <td>...</td>\n",
       "      <td>NaN</td>\n",
       "      <td>NaN</td>\n",
       "      <td>NaN</td>\n",
       "      <td>NaN</td>\n",
       "      <td>NaN</td>\n",
       "      <td>NaN</td>\n",
       "      <td>2739.0</td>\n",
       "      <td>NaN</td>\n",
       "      <td>NaN</td>\n",
       "      <td>NaN</td>\n",
       "    </tr>\n",
       "    <tr>\n",
       "      <th>2741</th>\n",
       "      <td>2319375449093843665</td>\n",
       "      <td>2024-02-08T15:42:24.674000+00:00</td>\n",
       "      <td>2740</td>\n",
       "      <td>274027402740</td>\n",
       "      <td>[0.04214403621123841, 0.2777565518959145, 0.89...</td>\n",
       "      <td>12</td>\n",
       "      <td>NaN</td>\n",
       "      <td>NaN</td>\n",
       "      <td>NaN</td>\n",
       "      <td>NaN</td>\n",
       "      <td>...</td>\n",
       "      <td>NaN</td>\n",
       "      <td>NaN</td>\n",
       "      <td>NaN</td>\n",
       "      <td>NaN</td>\n",
       "      <td>NaN</td>\n",
       "      <td>NaN</td>\n",
       "      <td>NaN</td>\n",
       "      <td>2740.0</td>\n",
       "      <td>NaN</td>\n",
       "      <td>NaN</td>\n",
       "    </tr>\n",
       "  </tbody>\n",
       "</table>\n",
       "<p>5 rows × 2748 columns</p>\n",
       "</div>"
      ],
      "text/plain": [
       "                       id                         timestamp     x  \\\n",
       "2737  2319375449093843649  2024-02-08T15:42:20.674000+00:00  2736   \n",
       "2738  2319375449093843653  2024-02-08T15:42:21.674000+00:00  2737   \n",
       "2739  2319375449093843657  2024-02-08T15:42:22.674000+00:00  2738   \n",
       "2740  2319375449093843661  2024-02-08T15:42:23.674000+00:00  2739   \n",
       "2741  2319375449093843665  2024-02-08T15:42:24.674000+00:00  2740   \n",
       "\n",
       "                 y                                               data  \\\n",
       "2737  273627362736  [0.49893600652720127, 0.853167719853599, 0.315...   \n",
       "2738  273727372737  [0.5454735801588998, 0.9131743196563596, 0.793...   \n",
       "2739  273827382738  [0.9647636482625623, 0.5143565076074796, 0.187...   \n",
       "2740  273927392739  [0.11711046455122953, 0.4766317339540975, 0.78...   \n",
       "2741  274027402740  [0.04214403621123841, 0.2777565518959145, 0.89...   \n",
       "\n",
       "      internal_csp_struct.z  mapping.1  mapping.2  mapping.3  mapping.4  ...  \\\n",
       "2737                     12        NaN        NaN        NaN        NaN  ...   \n",
       "2738                     12        NaN        NaN        NaN        NaN  ...   \n",
       "2739                     12        NaN        NaN        NaN        NaN  ...   \n",
       "2740                     12        NaN        NaN        NaN        NaN  ...   \n",
       "2741                     12        NaN        NaN        NaN        NaN  ...   \n",
       "\n",
       "      mapping.2733  mapping.2734  mapping.2735  mapping.2736  mapping.2737  \\\n",
       "2737           NaN           NaN           NaN        2736.0           NaN   \n",
       "2738           NaN           NaN           NaN           NaN        2737.0   \n",
       "2739           NaN           NaN           NaN           NaN           NaN   \n",
       "2740           NaN           NaN           NaN           NaN           NaN   \n",
       "2741           NaN           NaN           NaN           NaN           NaN   \n",
       "\n",
       "      mapping.2738  mapping.2739  mapping.2740  internal_csp_struct  mapping  \n",
       "2737           NaN           NaN           NaN                  NaN      NaN  \n",
       "2738           NaN           NaN           NaN                  NaN      NaN  \n",
       "2739        2738.0           NaN           NaN                  NaN      NaN  \n",
       "2740           NaN        2739.0           NaN                  NaN      NaN  \n",
       "2741           NaN           NaN        2740.0                  NaN      NaN  \n",
       "\n",
       "[5 rows x 2748 columns]"
      ]
     },
     "execution_count": 11,
     "metadata": {},
     "output_type": "execute_result"
    }
   ],
   "source": [
    "client.state(\"example\").as_pandas_df().tail()\n",
    "\n",
    "# We note that there are a large number of columns in the above dataframe. \n",
    "# This is because `mapping` is a dict with different keys for eery row. \n",
    "# To accomodate all of them, the returned pandas dataframe has a column for any key present in the `mapping` attribute of any `ExampleData` Struct"
   ]
  },
  {
   "cell_type": "markdown",
   "id": "41b0917c-3e20-4240-8317-7ed8875e101c",
   "metadata": {},
   "source": [
    "We can lookup individual data points using `lookup`. This is a bit of a silly example when we're just looking at a single channel, but can be valuable when you have lots of interconnected channels."
   ]
  },
  {
   "cell_type": "code",
   "execution_count": 12,
   "id": "6669b93a-2475-4b38-9bfd-be7fdb95d3d0",
   "metadata": {},
   "outputs": [
    {
     "data": {
      "text/plain": [
       "[{'id': '2319375449093843677',\n",
       "  'timestamp': '2024-02-08T15:42:27.674000+00:00',\n",
       "  'x': 2743,\n",
       "  'y': '274327432743',\n",
       "  'internal_csp_struct': {'z': 12},\n",
       "  'data': [0.11397482092369415,\n",
       "   0.8082756046612577,\n",
       "   0.5269320054610495,\n",
       "   0.09017303257799603,\n",
       "   0.8346823428352325,\n",
       "   0.12803545825097729,\n",
       "   0.8563661560959381,\n",
       "   0.8337489771318026,\n",
       "   0.9665893466463059,\n",
       "   0.7835381554236741],\n",
       "  'mapping': {'2743': 2743}}]"
      ]
     },
     "execution_count": 12,
     "metadata": {},
     "output_type": "execute_result"
    }
   ],
   "source": [
    "# get the last tick, then lookup by id\n",
    "last = client.last(\"example\").as_json()[0]\n",
    "last_id = last[\"id\"]\n",
    "client.lookup(\"example\", last_id).as_json()"
   ]
  },
  {
   "cell_type": "markdown",
   "id": "52ce707a-e762-4293-a59c-882dea0e310d",
   "metadata": {},
   "source": [
    "Finally, we can send our own data into the API using `send`."
   ]
  },
  {
   "cell_type": "code",
   "execution_count": 13,
   "id": "b745e96c-8921-4dba-9339-346f3c49b4f9",
   "metadata": {},
   "outputs": [
    {
     "data": {
      "text/html": [
       "<div>\n",
       "<style scoped>\n",
       "    .dataframe tbody tr th:only-of-type {\n",
       "        vertical-align: middle;\n",
       "    }\n",
       "\n",
       "    .dataframe tbody tr th {\n",
       "        vertical-align: top;\n",
       "    }\n",
       "\n",
       "    .dataframe thead th {\n",
       "        text-align: right;\n",
       "    }\n",
       "</style>\n",
       "<table border=\"1\" class=\"dataframe\">\n",
       "  <thead>\n",
       "    <tr style=\"text-align: right;\">\n",
       "      <th></th>\n",
       "      <th>id</th>\n",
       "      <th>timestamp</th>\n",
       "      <th>x</th>\n",
       "      <th>y</th>\n",
       "      <th>data</th>\n",
       "      <th>internal_csp_struct.z</th>\n",
       "      <th>mapping.1</th>\n",
       "      <th>mapping.2</th>\n",
       "      <th>mapping.3</th>\n",
       "      <th>mapping.4</th>\n",
       "      <th>...</th>\n",
       "      <th>mapping.2737</th>\n",
       "      <th>mapping.2738</th>\n",
       "      <th>mapping.2739</th>\n",
       "      <th>mapping.2740</th>\n",
       "      <th>mapping.2741</th>\n",
       "      <th>mapping.2742</th>\n",
       "      <th>mapping.2743</th>\n",
       "      <th>mapping.2744</th>\n",
       "      <th>internal_csp_struct</th>\n",
       "      <th>mapping</th>\n",
       "    </tr>\n",
       "  </thead>\n",
       "  <tbody>\n",
       "    <tr>\n",
       "      <th>2742</th>\n",
       "      <td>2319375449093843669</td>\n",
       "      <td>2024-02-08T15:42:25.674000+00:00</td>\n",
       "      <td>2741</td>\n",
       "      <td>274127412741</td>\n",
       "      <td>[0.7755552349359216, 0.1125930704396867, 0.339...</td>\n",
       "      <td>12</td>\n",
       "      <td>NaN</td>\n",
       "      <td>NaN</td>\n",
       "      <td>NaN</td>\n",
       "      <td>NaN</td>\n",
       "      <td>...</td>\n",
       "      <td>NaN</td>\n",
       "      <td>NaN</td>\n",
       "      <td>NaN</td>\n",
       "      <td>NaN</td>\n",
       "      <td>2741.0</td>\n",
       "      <td>NaN</td>\n",
       "      <td>NaN</td>\n",
       "      <td>NaN</td>\n",
       "      <td>NaN</td>\n",
       "      <td>NaN</td>\n",
       "    </tr>\n",
       "    <tr>\n",
       "      <th>2743</th>\n",
       "      <td>2319375449093843673</td>\n",
       "      <td>2024-02-08T15:42:26.674000+00:00</td>\n",
       "      <td>2742</td>\n",
       "      <td>274227422742</td>\n",
       "      <td>[0.6067900468053619, 0.7816859434221093, 0.536...</td>\n",
       "      <td>12</td>\n",
       "      <td>NaN</td>\n",
       "      <td>NaN</td>\n",
       "      <td>NaN</td>\n",
       "      <td>NaN</td>\n",
       "      <td>...</td>\n",
       "      <td>NaN</td>\n",
       "      <td>NaN</td>\n",
       "      <td>NaN</td>\n",
       "      <td>NaN</td>\n",
       "      <td>NaN</td>\n",
       "      <td>2742.0</td>\n",
       "      <td>NaN</td>\n",
       "      <td>NaN</td>\n",
       "      <td>NaN</td>\n",
       "      <td>NaN</td>\n",
       "    </tr>\n",
       "    <tr>\n",
       "      <th>2744</th>\n",
       "      <td>2319375449093843677</td>\n",
       "      <td>2024-02-08T15:42:27.674000+00:00</td>\n",
       "      <td>2743</td>\n",
       "      <td>274327432743</td>\n",
       "      <td>[0.11397482092369415, 0.8082756046612577, 0.52...</td>\n",
       "      <td>12</td>\n",
       "      <td>NaN</td>\n",
       "      <td>NaN</td>\n",
       "      <td>NaN</td>\n",
       "      <td>NaN</td>\n",
       "      <td>...</td>\n",
       "      <td>NaN</td>\n",
       "      <td>NaN</td>\n",
       "      <td>NaN</td>\n",
       "      <td>NaN</td>\n",
       "      <td>NaN</td>\n",
       "      <td>NaN</td>\n",
       "      <td>2743.0</td>\n",
       "      <td>NaN</td>\n",
       "      <td>NaN</td>\n",
       "      <td>NaN</td>\n",
       "    </tr>\n",
       "    <tr>\n",
       "      <th>2745</th>\n",
       "      <td>2319375449093843681</td>\n",
       "      <td>2024-02-08T15:42:28.674000+00:00</td>\n",
       "      <td>2744</td>\n",
       "      <td>274427442744</td>\n",
       "      <td>[0.4131649893399658, 0.3784834347835063, 0.987...</td>\n",
       "      <td>12</td>\n",
       "      <td>NaN</td>\n",
       "      <td>NaN</td>\n",
       "      <td>NaN</td>\n",
       "      <td>NaN</td>\n",
       "      <td>...</td>\n",
       "      <td>NaN</td>\n",
       "      <td>NaN</td>\n",
       "      <td>NaN</td>\n",
       "      <td>NaN</td>\n",
       "      <td>NaN</td>\n",
       "      <td>NaN</td>\n",
       "      <td>NaN</td>\n",
       "      <td>2744.0</td>\n",
       "      <td>NaN</td>\n",
       "      <td>NaN</td>\n",
       "    </tr>\n",
       "    <tr>\n",
       "      <th>2746</th>\n",
       "      <td>2319375449093843682</td>\n",
       "      <td>2024-02-08T15:42:28.846000+00:00</td>\n",
       "      <td>12</td>\n",
       "      <td>HEY!</td>\n",
       "      <td>[]</td>\n",
       "      <td>13</td>\n",
       "      <td>NaN</td>\n",
       "      <td>NaN</td>\n",
       "      <td>NaN</td>\n",
       "      <td>NaN</td>\n",
       "      <td>...</td>\n",
       "      <td>NaN</td>\n",
       "      <td>NaN</td>\n",
       "      <td>NaN</td>\n",
       "      <td>NaN</td>\n",
       "      <td>NaN</td>\n",
       "      <td>NaN</td>\n",
       "      <td>NaN</td>\n",
       "      <td>NaN</td>\n",
       "      <td>NaN</td>\n",
       "      <td>NaN</td>\n",
       "    </tr>\n",
       "  </tbody>\n",
       "</table>\n",
       "<p>5 rows × 2752 columns</p>\n",
       "</div>"
      ],
      "text/plain": [
       "                       id                         timestamp     x  \\\n",
       "2742  2319375449093843669  2024-02-08T15:42:25.674000+00:00  2741   \n",
       "2743  2319375449093843673  2024-02-08T15:42:26.674000+00:00  2742   \n",
       "2744  2319375449093843677  2024-02-08T15:42:27.674000+00:00  2743   \n",
       "2745  2319375449093843681  2024-02-08T15:42:28.674000+00:00  2744   \n",
       "2746  2319375449093843682  2024-02-08T15:42:28.846000+00:00    12   \n",
       "\n",
       "                 y                                               data  \\\n",
       "2742  274127412741  [0.7755552349359216, 0.1125930704396867, 0.339...   \n",
       "2743  274227422742  [0.6067900468053619, 0.7816859434221093, 0.536...   \n",
       "2744  274327432743  [0.11397482092369415, 0.8082756046612577, 0.52...   \n",
       "2745  274427442744  [0.4131649893399658, 0.3784834347835063, 0.987...   \n",
       "2746          HEY!                                                 []   \n",
       "\n",
       "      internal_csp_struct.z  mapping.1  mapping.2  mapping.3  mapping.4  ...  \\\n",
       "2742                     12        NaN        NaN        NaN        NaN  ...   \n",
       "2743                     12        NaN        NaN        NaN        NaN  ...   \n",
       "2744                     12        NaN        NaN        NaN        NaN  ...   \n",
       "2745                     12        NaN        NaN        NaN        NaN  ...   \n",
       "2746                     13        NaN        NaN        NaN        NaN  ...   \n",
       "\n",
       "      mapping.2737  mapping.2738  mapping.2739  mapping.2740  mapping.2741  \\\n",
       "2742           NaN           NaN           NaN           NaN        2741.0   \n",
       "2743           NaN           NaN           NaN           NaN           NaN   \n",
       "2744           NaN           NaN           NaN           NaN           NaN   \n",
       "2745           NaN           NaN           NaN           NaN           NaN   \n",
       "2746           NaN           NaN           NaN           NaN           NaN   \n",
       "\n",
       "      mapping.2742  mapping.2743  mapping.2744  internal_csp_struct  mapping  \n",
       "2742           NaN           NaN           NaN                  NaN      NaN  \n",
       "2743        2742.0           NaN           NaN                  NaN      NaN  \n",
       "2744           NaN        2743.0           NaN                  NaN      NaN  \n",
       "2745           NaN           NaN        2744.0                  NaN      NaN  \n",
       "2746           NaN           NaN           NaN                  NaN      NaN  \n",
       "\n",
       "[5 rows x 2752 columns]"
      ]
     },
     "execution_count": 13,
     "metadata": {},
     "output_type": "execute_result"
    }
   ],
   "source": [
    "client.send(\n",
    "    \"example\", \n",
    "    {\n",
    "        \"x\": 12, \n",
    "        \"y\": \"HEY!\", \n",
    "        \"internal_csp_struct\": {\"z\": 13}\n",
    "    }\n",
    ")\n",
    "            \n",
    "client.state(\"example\").as_pandas_df().tail()"
   ]
  },
  {
   "cell_type": "markdown",
   "id": "a7230b67",
   "metadata": {},
   "source": [
    "The REST API uses pydantic validation for `send` requests. Since `ExampleData` has a `__validators__` attribute defined, the pydantic version of the GatewayStruct has those functions ran for validation before propagating the sent value through the graph. `ExampleData` has validation performed that asserts the value of `x` is not negative. When we try to pass a negative value in, we get an error on the send, but the graph does not crash. The details of the error are provided in the response."
   ]
  },
  {
   "cell_type": "code",
   "execution_count": 14,
   "id": "6aa635e3",
   "metadata": {},
   "outputs": [
    {
     "ename": "ServerUnprocessableException",
     "evalue": "[{'loc': ['body'], 'msg': 'value is not a valid list', 'type': 'type_error.list'}, {'loc': ['body', 'x'], 'msg': 'value must be non-negative.', 'type': 'value_error'}]",
     "output_type": "error",
     "traceback": [
      "\u001b[0;31m---------------------------------------------------------------------------\u001b[0m",
      "\u001b[0;31mServerUnprocessableException\u001b[0m              Traceback (most recent call last)",
      "Cell \u001b[0;32mIn[14], line 1\u001b[0m\n\u001b[0;32m----> 1\u001b[0m \u001b[43mclient\u001b[49m\u001b[38;5;241;43m.\u001b[39;49m\u001b[43msend\u001b[49m\u001b[43m(\u001b[49m\u001b[38;5;124;43m\"\u001b[39;49m\u001b[38;5;124;43mexample\u001b[39;49m\u001b[38;5;124;43m\"\u001b[39;49m\u001b[43m,\u001b[49m\u001b[43m \u001b[49m\u001b[43m{\u001b[49m\u001b[38;5;124;43m\"\u001b[39;49m\u001b[38;5;124;43mx\u001b[39;49m\u001b[38;5;124;43m\"\u001b[39;49m\u001b[43m:\u001b[49m\u001b[43m \u001b[49m\u001b[38;5;241;43m-\u001b[39;49m\u001b[38;5;241;43m12\u001b[39;49m\u001b[43m,\u001b[49m\u001b[43m \u001b[49m\u001b[38;5;124;43m\"\u001b[39;49m\u001b[38;5;124;43my\u001b[39;49m\u001b[38;5;124;43m\"\u001b[39;49m\u001b[43m:\u001b[49m\u001b[43m \u001b[49m\u001b[38;5;124;43m\"\u001b[39;49m\u001b[38;5;124;43mHEY!\u001b[39;49m\u001b[38;5;124;43m\"\u001b[39;49m\u001b[43m}\u001b[49m\u001b[43m)\u001b[49m\n",
      "File \u001b[0;32m/isilon/home/nk12433/bitbucket/csp-gateway/csp_gateway/client/client.py:88\u001b[0m, in \u001b[0;36m_raiseIfNotMounted.<locals>._wrapped_foo\u001b[0;34m(self, field, *args, **kwargs)\u001b[0m\n\u001b[1;32m     86\u001b[0m \u001b[38;5;28;01mif\u001b[39;00m check_field \u001b[38;5;129;01mand\u001b[39;00m check_field \u001b[38;5;129;01mnot\u001b[39;00m \u001b[38;5;129;01min\u001b[39;00m \u001b[38;5;28mself\u001b[39m\u001b[38;5;241m.\u001b[39m_mounted_apis[group]:\n\u001b[1;32m     87\u001b[0m     \u001b[38;5;28;01mraise\u001b[39;00m ServerRouteNotMountedException(\u001b[38;5;124m\"\u001b[39m\u001b[38;5;124mRoute not mounted in group \u001b[39m\u001b[38;5;132;01m{}\u001b[39;00m\u001b[38;5;124m: \u001b[39m\u001b[38;5;132;01m{}\u001b[39;00m\u001b[38;5;124m\"\u001b[39m\u001b[38;5;241m.\u001b[39mformat(group, field))\n\u001b[0;32m---> 88\u001b[0m \u001b[38;5;28;01mreturn\u001b[39;00m \u001b[43mfoo\u001b[49m\u001b[43m(\u001b[49m\u001b[38;5;28;43mself\u001b[39;49m\u001b[43m,\u001b[49m\u001b[43m \u001b[49m\u001b[43mfield\u001b[49m\u001b[43m,\u001b[49m\u001b[43m \u001b[49m\u001b[38;5;241;43m*\u001b[39;49m\u001b[43margs\u001b[49m\u001b[43m,\u001b[49m\u001b[43m \u001b[49m\u001b[38;5;241;43m*\u001b[39;49m\u001b[38;5;241;43m*\u001b[39;49m\u001b[43mkwargs\u001b[49m\u001b[43m)\u001b[49m\n",
      "File \u001b[0;32m/isilon/home/nk12433/bitbucket/csp-gateway/csp_gateway/client/client.py:550\u001b[0m, in \u001b[0;36mSyncGatewayClientMixin.send\u001b[0;34m(self, field, data, timeout)\u001b[0m\n\u001b[1;32m    548\u001b[0m \u001b[38;5;129m@_raiseIfNotMounted\u001b[39m\n\u001b[1;32m    549\u001b[0m \u001b[38;5;28;01mdef\u001b[39;00m \u001b[38;5;21msend\u001b[39m(\u001b[38;5;28mself\u001b[39m, field: \u001b[38;5;28mstr\u001b[39m \u001b[38;5;241m=\u001b[39m \u001b[38;5;124m\"\u001b[39m\u001b[38;5;124m\"\u001b[39m, data: Any \u001b[38;5;241m=\u001b[39m \u001b[38;5;28;01mNone\u001b[39;00m, timeout: \u001b[38;5;28mfloat\u001b[39m \u001b[38;5;241m=\u001b[39m _DEFAULT_TIMEOUT) \u001b[38;5;241m-\u001b[39m\u001b[38;5;241m>\u001b[39m ResponseType:\n\u001b[0;32m--> 550\u001b[0m     \u001b[38;5;28;01mreturn\u001b[39;00m \u001b[38;5;28;43mself\u001b[39;49m\u001b[38;5;241;43m.\u001b[39;49m\u001b[43m_post\u001b[49m\u001b[43m(\u001b[49m\u001b[38;5;124;43m\"\u001b[39;49m\u001b[38;5;132;43;01m{}\u001b[39;49;00m\u001b[38;5;124;43m/\u001b[39;49m\u001b[38;5;132;43;01m{}\u001b[39;49;00m\u001b[38;5;124;43m\"\u001b[39;49m\u001b[38;5;241;43m.\u001b[39;49m\u001b[43mformat\u001b[49m\u001b[43m(\u001b[49m\u001b[38;5;124;43m\"\u001b[39;49m\u001b[38;5;124;43msend\u001b[39;49m\u001b[38;5;124;43m\"\u001b[39;49m\u001b[43m,\u001b[49m\u001b[43m \u001b[49m\u001b[43mfield\u001b[49m\u001b[43m)\u001b[49m\u001b[43m,\u001b[49m\u001b[43m \u001b[49m\u001b[43mdata\u001b[49m\u001b[38;5;241;43m=\u001b[39;49m\u001b[43mdata\u001b[49m\u001b[43m,\u001b[49m\u001b[43m \u001b[49m\u001b[43mtimeout\u001b[49m\u001b[38;5;241;43m=\u001b[39;49m\u001b[43mtimeout\u001b[49m\u001b[43m)\u001b[49m\n",
      "File \u001b[0;32m/isilon/home/nk12433/bitbucket/csp-gateway/csp_gateway/client/client.py:320\u001b[0m, in \u001b[0;36mBaseGatewayClient._post\u001b[0;34m(self, route, params, data, timeout)\u001b[0m\n\u001b[1;32m    313\u001b[0m \u001b[38;5;28;01mdef\u001b[39;00m \u001b[38;5;21m_post\u001b[39m(\n\u001b[1;32m    314\u001b[0m     \u001b[38;5;28mself\u001b[39m,\n\u001b[1;32m    315\u001b[0m     route: \u001b[38;5;28mstr\u001b[39m,\n\u001b[0;32m   (...)\u001b[0m\n\u001b[1;32m    318\u001b[0m     timeout: \u001b[38;5;28mfloat\u001b[39m \u001b[38;5;241m=\u001b[39m _DEFAULT_TIMEOUT,\n\u001b[1;32m    319\u001b[0m ) \u001b[38;5;241m-\u001b[39m\u001b[38;5;241m>\u001b[39m ResponseType:\n\u001b[0;32m--> 320\u001b[0m     \u001b[38;5;28;01mreturn\u001b[39;00m \u001b[38;5;28;43mself\u001b[39;49m\u001b[38;5;241;43m.\u001b[39;49m\u001b[43m_handle_response\u001b[49m\u001b[43m(\u001b[49m\u001b[43mPOST\u001b[49m\u001b[43m(\u001b[49m\u001b[38;5;28;43mself\u001b[39;49m\u001b[38;5;241;43m.\u001b[39;49m\u001b[43m_buildroute\u001b[49m\u001b[43m(\u001b[49m\u001b[43mroute\u001b[49m\u001b[43m)\u001b[49m\u001b[43m,\u001b[49m\u001b[43m \u001b[49m\u001b[43mparams\u001b[49m\u001b[38;5;241;43m=\u001b[39;49m\u001b[43mparams\u001b[49m\u001b[43m,\u001b[49m\u001b[43m \u001b[49m\u001b[43mjson\u001b[49m\u001b[38;5;241;43m=\u001b[39;49m\u001b[43mdata\u001b[49m\u001b[43m)\u001b[49m\u001b[43m,\u001b[49m\u001b[43m \u001b[49m\u001b[43mroute\u001b[49m\u001b[38;5;241;43m=\u001b[39;49m\u001b[43mroute\u001b[49m\u001b[43m)\u001b[49m\n",
      "File \u001b[0;32m/isilon/home/nk12433/bitbucket/csp-gateway/csp_gateway/client/client.py:293\u001b[0m, in \u001b[0;36mBaseGatewayClient._handle_response\u001b[0;34m(self, resp, route)\u001b[0m\n\u001b[1;32m    291\u001b[0m     \u001b[38;5;28;01mraise\u001b[39;00m ServerRouteNotFoundException(resp_json\u001b[38;5;241m.\u001b[39mget(\u001b[38;5;124m\"\u001b[39m\u001b[38;5;124mdetail\u001b[39m\u001b[38;5;124m\"\u001b[39m))\n\u001b[1;32m    292\u001b[0m \u001b[38;5;28;01melif\u001b[39;00m resp\u001b[38;5;241m.\u001b[39mstatus_code \u001b[38;5;241m==\u001b[39m \u001b[38;5;241m422\u001b[39m:\n\u001b[0;32m--> 293\u001b[0m     \u001b[38;5;28;01mraise\u001b[39;00m ServerUnprocessableException(resp_json\u001b[38;5;241m.\u001b[39mget(\u001b[38;5;124m\"\u001b[39m\u001b[38;5;124mdetail\u001b[39m\u001b[38;5;124m\"\u001b[39m))\n\u001b[1;32m    294\u001b[0m \u001b[38;5;28;01mraise\u001b[39;00m ServerUnknownException(\u001b[38;5;124mf\u001b[39m\u001b[38;5;124m\"\u001b[39m\u001b[38;5;132;01m{\u001b[39;00mresp\u001b[38;5;241m.\u001b[39mstatus_code\u001b[38;5;132;01m}\u001b[39;00m\u001b[38;5;124m: \u001b[39m\u001b[38;5;132;01m{\u001b[39;00mresp_json\u001b[38;5;241m.\u001b[39mget(\u001b[38;5;124m'\u001b[39m\u001b[38;5;124mdetail\u001b[39m\u001b[38;5;124m'\u001b[39m)\u001b[38;5;132;01m}\u001b[39;00m\u001b[38;5;124m\"\u001b[39m)\n",
      "\u001b[0;31mServerUnprocessableException\u001b[0m: [{'loc': ['body'], 'msg': 'value is not a valid list', 'type': 'type_error.list'}, {'loc': ['body', 'x'], 'msg': 'value must be non-negative.', 'type': 'value_error'}]"
     ]
    }
   ],
   "source": [
    "client.send(\"example\", {\"x\": -12, \"y\": \"HEY!\"})"
   ]
  },
  {
   "cell_type": "markdown",
   "id": "07946799-08f5-4ed9-b7a1-de5d9eaac09d",
   "metadata": {},
   "source": [
    "## Next\n",
    "The running `GatewayServer` is a synchronous system, and we're interacting it via asynchronous `REST` requests. However, we can still perform actions like \"wait for the next tick\". This can be dangerous and lead to race conditions, but it can still be useful in certain circumstances."
   ]
  },
  {
   "cell_type": "code",
   "execution_count": 15,
   "id": "45b744b1-8d30-41ad-9641-98fd30c7b4a8",
   "metadata": {},
   "outputs": [
    {
     "data": {
      "text/plain": [
       "[{'id': '2319375449093843978',\n",
       "  'timestamp': '2024-02-08T15:43:42.674000+00:00',\n",
       "  'x': 2818,\n",
       "  'y': '281828182818',\n",
       "  'internal_csp_struct': {'z': 12},\n",
       "  'data': [0.04177423824388882,\n",
       "   0.9576947646141436,\n",
       "   0.8797403395027252,\n",
       "   0.07591623282958704,\n",
       "   0.9012930744265685,\n",
       "   0.18036455365706483,\n",
       "   0.8368363380941581,\n",
       "   0.2958674194835621,\n",
       "   0.7139586435389245,\n",
       "   0.7923286062539309],\n",
       "  'mapping': {'2818': 2818}}]"
      ]
     },
     "execution_count": 15,
     "metadata": {},
     "output_type": "execute_result"
    }
   ],
   "source": [
    "client.next(\"example\").as_json()"
   ]
  },
  {
   "cell_type": "markdown",
   "id": "978aa203-18c3-4302-9d9b-a2996580a81c",
   "metadata": {},
   "source": [
    "Note that this call will **block** until the next value ticks."
   ]
  },
  {
   "cell_type": "markdown",
   "id": "195c8371-b8e6-4a29-bb09-7729119e0c17",
   "metadata": {},
   "source": [
    "## Streaming\n",
    "If our webserver is configured with websockets, we can also stream data out of channels. A simple example that prints out channel data is provided."
   ]
  },
  {
   "cell_type": "code",
   "execution_count": 16,
   "id": "6a6bffa9-f735-4f5d-9bab-26d89a1e9e90",
   "metadata": {},
   "outputs": [
    {
     "name": "stdout",
     "output_type": "stream",
     "text": [
      "{'channel': 'example', 'data': [{'id': '2319375449093843998', 'timestamp': '2024-02-08T15:43:47.674000+00:00', 'x': 2823, 'y': '282328232823', 'internal_csp_struct': {'z': 12}, 'data': [0.7733188729889257, 0.3505657636995222, 0.37947167012560834, 0.5813803503480363, 0.4224356797080008, 0.7882237596018704, 0.7501837172662043, 0.3014755082030406, 0.11662082552665554, 0.1760084143205467], 'mapping': {'2823': 2823}}]}\n",
      "{'channel': 'example', 'data': [{'id': '2319375449093844002', 'timestamp': '2024-02-08T15:43:48.674000+00:00', 'x': 2824, 'y': '282428242824', 'internal_csp_struct': {'z': 12}, 'data': [0.7935760696606141, 0.04502649843404605, 0.5772625402239133, 0.6083217755224994, 0.949351551805679, 0.2619775463100148, 0.6036207137382622, 0.0005275136962938909, 0.827541831606724, 0.88364890012582], 'mapping': {'2824': 2824}}]}\n",
      "{'channel': 'example', 'data': [{'id': '2319375449093844006', 'timestamp': '2024-02-08T15:43:49.674000+00:00', 'x': 2825, 'y': '282528252825', 'internal_csp_struct': {'z': 12}, 'data': [0.94651479729033, 0.467475460176196, 0.9733450874656052, 0.9147464907192908, 0.38929946260272874, 0.1036030662184213, 0.4733157330556428, 0.8232663407131828, 0.13931853773352143, 0.6087557420151944], 'mapping': {'2825': 2825}}]}\n"
     ]
    },
    {
     "ename": "KeyboardInterrupt",
     "evalue": "",
     "output_type": "error",
     "traceback": [
      "\u001b[0;31m---------------------------------------------------------------------------\u001b[0m",
      "\u001b[0;31mKeyboardInterrupt\u001b[0m                         Traceback (most recent call last)",
      "Cell \u001b[0;32mIn[16], line 1\u001b[0m\n\u001b[0;32m----> 1\u001b[0m \u001b[43mclient\u001b[49m\u001b[38;5;241;43m.\u001b[39;49m\u001b[43mstream\u001b[49m\u001b[43m(\u001b[49m\u001b[43mchannels\u001b[49m\u001b[38;5;241;43m=\u001b[39;49m\u001b[43m[\u001b[49m\u001b[38;5;124;43m\"\u001b[39;49m\u001b[38;5;124;43mexample\u001b[39;49m\u001b[38;5;124;43m\"\u001b[39;49m\u001b[43m]\u001b[49m\u001b[43m,\u001b[49m\u001b[43m \u001b[49m\u001b[43mcallback\u001b[49m\u001b[38;5;241;43m=\u001b[39;49m\u001b[38;5;28;43mprint\u001b[39;49m\u001b[43m)\u001b[49m\n",
      "File \u001b[0;32m/isilon/home/nk12433/bitbucket/csp-gateway/csp_gateway/client/client.py:557\u001b[0m, in \u001b[0;36mSyncGatewayClientMixin.stream\u001b[0;34m(self, channels, callback)\u001b[0m\n\u001b[1;32m    556\u001b[0m \u001b[38;5;28;01mdef\u001b[39;00m \u001b[38;5;21mstream\u001b[39m(\u001b[38;5;28mself\u001b[39m, channels: List[\u001b[38;5;28mstr\u001b[39m] \u001b[38;5;241m=\u001b[39m \u001b[38;5;28;01mNone\u001b[39;00m, callback: Callable \u001b[38;5;241m=\u001b[39m \u001b[38;5;28;01mNone\u001b[39;00m):\n\u001b[0;32m--> 557\u001b[0m     \u001b[38;5;28;43mself\u001b[39;49m\u001b[38;5;241;43m.\u001b[39;49m\u001b[43m_stream\u001b[49m\u001b[43m(\u001b[49m\u001b[43mchannels\u001b[49m\u001b[38;5;241;43m=\u001b[39;49m\u001b[43mchannels\u001b[49m\u001b[43m,\u001b[49m\u001b[43m \u001b[49m\u001b[43mcallback\u001b[49m\u001b[38;5;241;43m=\u001b[39;49m\u001b[43mcallback\u001b[49m\u001b[43m)\u001b[49m\n",
      "File \u001b[0;32m/isilon/home/nk12433/bitbucket/csp-gateway/csp_gateway/client/client.py:348\u001b[0m, in \u001b[0;36mBaseGatewayClient._stream\u001b[0;34m(self, channels, callback)\u001b[0m\n\u001b[1;32m    346\u001b[0m         applyAsyncioNexting(\u001b[38;5;28mself\u001b[39m\u001b[38;5;241m.\u001b[39m_event_loop)\n\u001b[1;32m    347\u001b[0m     \u001b[38;5;28;01mwhile\u001b[39;00m \u001b[38;5;28;01mTrue\u001b[39;00m:\n\u001b[0;32m--> 348\u001b[0m         callback(\u001b[38;5;28;43mself\u001b[39;49m\u001b[38;5;241;43m.\u001b[39;49m\u001b[43m_event_loop\u001b[49m\u001b[38;5;241;43m.\u001b[39;49m\u001b[43mrun_until_complete\u001b[49m\u001b[43m(\u001b[49m\u001b[43miterator\u001b[49m\u001b[38;5;241;43m.\u001b[39;49m\u001b[38;5;21;43m__anext__\u001b[39;49m\u001b[43m(\u001b[49m\u001b[43m)\u001b[49m\u001b[43m)\u001b[49m)\n\u001b[1;32m    349\u001b[0m \u001b[38;5;28;01mexcept\u001b[39;00m \u001b[38;5;167;01mStopAsyncIteration\u001b[39;00m:\n\u001b[1;32m    350\u001b[0m     \u001b[38;5;28;01mreturn\u001b[39;00m\n",
      "File \u001b[0;32m~/.conda/envs/ccrt_0.6.7/lib/python3.9/site-packages/nest_asyncio.py:84\u001b[0m, in \u001b[0;36m_patch_loop.<locals>.run_until_complete\u001b[0;34m(self, future)\u001b[0m\n\u001b[1;32m     82\u001b[0m     f\u001b[38;5;241m.\u001b[39m_log_destroy_pending \u001b[38;5;241m=\u001b[39m \u001b[38;5;28;01mFalse\u001b[39;00m\n\u001b[1;32m     83\u001b[0m \u001b[38;5;28;01mwhile\u001b[39;00m \u001b[38;5;129;01mnot\u001b[39;00m f\u001b[38;5;241m.\u001b[39mdone():\n\u001b[0;32m---> 84\u001b[0m     \u001b[38;5;28;43mself\u001b[39;49m\u001b[38;5;241;43m.\u001b[39;49m\u001b[43m_run_once\u001b[49m\u001b[43m(\u001b[49m\u001b[43m)\u001b[49m\n\u001b[1;32m     85\u001b[0m     \u001b[38;5;28;01mif\u001b[39;00m \u001b[38;5;28mself\u001b[39m\u001b[38;5;241m.\u001b[39m_stopping:\n\u001b[1;32m     86\u001b[0m         \u001b[38;5;28;01mbreak\u001b[39;00m\n",
      "File \u001b[0;32m~/.conda/envs/ccrt_0.6.7/lib/python3.9/site-packages/nest_asyncio.py:107\u001b[0m, in \u001b[0;36m_patch_loop.<locals>._run_once\u001b[0;34m(self)\u001b[0m\n\u001b[1;32m    100\u001b[0m     heappop(scheduled)\n\u001b[1;32m    102\u001b[0m timeout \u001b[38;5;241m=\u001b[39m (\n\u001b[1;32m    103\u001b[0m     \u001b[38;5;241m0\u001b[39m \u001b[38;5;28;01mif\u001b[39;00m ready \u001b[38;5;129;01mor\u001b[39;00m \u001b[38;5;28mself\u001b[39m\u001b[38;5;241m.\u001b[39m_stopping\n\u001b[1;32m    104\u001b[0m     \u001b[38;5;28;01melse\u001b[39;00m \u001b[38;5;28mmin\u001b[39m(\u001b[38;5;28mmax\u001b[39m(\n\u001b[1;32m    105\u001b[0m         scheduled[\u001b[38;5;241m0\u001b[39m]\u001b[38;5;241m.\u001b[39m_when \u001b[38;5;241m-\u001b[39m \u001b[38;5;28mself\u001b[39m\u001b[38;5;241m.\u001b[39mtime(), \u001b[38;5;241m0\u001b[39m), \u001b[38;5;241m86400\u001b[39m) \u001b[38;5;28;01mif\u001b[39;00m scheduled\n\u001b[1;32m    106\u001b[0m     \u001b[38;5;28;01melse\u001b[39;00m \u001b[38;5;28;01mNone\u001b[39;00m)\n\u001b[0;32m--> 107\u001b[0m event_list \u001b[38;5;241m=\u001b[39m \u001b[38;5;28;43mself\u001b[39;49m\u001b[38;5;241;43m.\u001b[39;49m\u001b[43m_selector\u001b[49m\u001b[38;5;241;43m.\u001b[39;49m\u001b[43mselect\u001b[49m\u001b[43m(\u001b[49m\u001b[43mtimeout\u001b[49m\u001b[43m)\u001b[49m\n\u001b[1;32m    108\u001b[0m \u001b[38;5;28mself\u001b[39m\u001b[38;5;241m.\u001b[39m_process_events(event_list)\n\u001b[1;32m    110\u001b[0m end_time \u001b[38;5;241m=\u001b[39m \u001b[38;5;28mself\u001b[39m\u001b[38;5;241m.\u001b[39mtime() \u001b[38;5;241m+\u001b[39m \u001b[38;5;28mself\u001b[39m\u001b[38;5;241m.\u001b[39m_clock_resolution\n",
      "File \u001b[0;32m~/.conda/envs/ccrt_0.6.7/lib/python3.9/selectors.py:469\u001b[0m, in \u001b[0;36mEpollSelector.select\u001b[0;34m(self, timeout)\u001b[0m\n\u001b[1;32m    467\u001b[0m ready \u001b[38;5;241m=\u001b[39m []\n\u001b[1;32m    468\u001b[0m \u001b[38;5;28;01mtry\u001b[39;00m:\n\u001b[0;32m--> 469\u001b[0m     fd_event_list \u001b[38;5;241m=\u001b[39m \u001b[38;5;28;43mself\u001b[39;49m\u001b[38;5;241;43m.\u001b[39;49m\u001b[43m_selector\u001b[49m\u001b[38;5;241;43m.\u001b[39;49m\u001b[43mpoll\u001b[49m\u001b[43m(\u001b[49m\u001b[43mtimeout\u001b[49m\u001b[43m,\u001b[49m\u001b[43m \u001b[49m\u001b[43mmax_ev\u001b[49m\u001b[43m)\u001b[49m\n\u001b[1;32m    470\u001b[0m \u001b[38;5;28;01mexcept\u001b[39;00m \u001b[38;5;167;01mInterruptedError\u001b[39;00m:\n\u001b[1;32m    471\u001b[0m     \u001b[38;5;28;01mreturn\u001b[39;00m ready\n",
      "\u001b[0;31mKeyboardInterrupt\u001b[0m: "
     ]
    }
   ],
   "source": [
    "client.stream(channels=[\"example\"], callback=print)"
   ]
  },
  {
   "cell_type": "markdown",
   "id": "67d0f6b6-1cde-4656-bf64-dfa3b44e6807",
   "metadata": {},
   "source": [
    "## Asynchronous client\n",
    "All of the above can also be used in an `async` fashion. Note that by default, the `GatewayClient` class is an alias for the `SyncGatewayClient` class. The only differences are:\n",
    "\n",
    "- all methods are `async` instead of synchronous\n",
    "- `stream` is an infinite generator, rather than callback-based (so takes no `callback` argument)"
   ]
  },
  {
   "cell_type": "code",
   "execution_count": 17,
   "id": "0351653c-8c98-4808-8a59-9d399d577b78",
   "metadata": {},
   "outputs": [],
   "source": [
    "from csp_gateway import AsyncGatewayClient"
   ]
  },
  {
   "cell_type": "code",
   "execution_count": 18,
   "id": "fbe3000b-36c0-47c0-a44f-7786b461b158",
   "metadata": {},
   "outputs": [],
   "source": [
    "async_client= AsyncGatewayClient(config)"
   ]
  },
  {
   "cell_type": "code",
   "execution_count": 19,
   "id": "32a66ffb-42e3-4de8-b10d-2ac38d3d3706",
   "metadata": {},
   "outputs": [],
   "source": [
    "async def print_all():\n",
    "    async for datum in async_client.stream(channels=[\"example\", \"example_list\"]):\n",
    "        print(datum)"
   ]
  },
  {
   "cell_type": "code",
   "execution_count": 20,
   "id": "e8fbcc8a-6131-4d27-af62-c526369574e6",
   "metadata": {},
   "outputs": [
    {
     "name": "stdout",
     "output_type": "stream",
     "text": [
      "{'channel': 'example_list', 'data': [{'id': '2319375449093844034', 'timestamp': '2024-02-08T15:43:56.674000+00:00', 'x': 2832, 'y': '283228322832', 'internal_csp_struct': {'z': 12}, 'data': [0.6036805890478953, 0.6749444877468045, 0.5497958103280356, 0.7245526415750495, 0.8203822683954279, 0.7692240209863609, 0.6725744504378558, 0.7092152352091319, 0.22125780238809134, 0.8010351708291975], 'mapping': {'2832': 2832}}]}\n",
      "{'channel': 'example', 'data': [{'id': '2319375449093844034', 'timestamp': '2024-02-08T15:43:56.674000+00:00', 'x': 2832, 'y': '283228322832', 'internal_csp_struct': {'z': 12}, 'data': [0.6036805890478953, 0.6749444877468045, 0.5497958103280356, 0.7245526415750495, 0.8203822683954279, 0.7692240209863609, 0.6725744504378558, 0.7092152352091319, 0.22125780238809134, 0.8010351708291975], 'mapping': {'2832': 2832}}]}\n",
      "{'channel': 'example_list', 'data': [{'id': '2319375449093844038', 'timestamp': '2024-02-08T15:43:57.674000+00:00', 'x': 2833, 'y': '283328332833', 'internal_csp_struct': {'z': 12}, 'data': [0.6140667806797164, 0.30583287063145703, 0.4104660866032377, 0.2342635297957093, 0.675205453488038, 0.5500391636385289, 0.7266396287394276, 0.5642695215832931, 0.38469805427239556, 0.09133929703456811], 'mapping': {'2833': 2833}}]}\n",
      "{'channel': 'example', 'data': [{'id': '2319375449093844038', 'timestamp': '2024-02-08T15:43:57.674000+00:00', 'x': 2833, 'y': '283328332833', 'internal_csp_struct': {'z': 12}, 'data': [0.6140667806797164, 0.30583287063145703, 0.4104660866032377, 0.2342635297957093, 0.675205453488038, 0.5500391636385289, 0.7266396287394276, 0.5642695215832931, 0.38469805427239556, 0.09133929703456811], 'mapping': {'2833': 2833}}]}\n",
      "{'channel': 'example_list', 'data': [{'id': '2319375449093844042', 'timestamp': '2024-02-08T15:43:58.674000+00:00', 'x': 2834, 'y': '283428342834', 'internal_csp_struct': {'z': 12}, 'data': [0.5913608421402291, 0.8327500322981758, 0.7335846102808938, 0.019410934029975624, 0.5931185456840745, 0.6139373901871275, 0.22799843163499478, 0.9269009414380454, 0.18223248762349398, 0.15142314141377], 'mapping': {'2834': 2834}}]}\n",
      "{'channel': 'example', 'data': [{'id': '2319375449093844042', 'timestamp': '2024-02-08T15:43:58.674000+00:00', 'x': 2834, 'y': '283428342834', 'internal_csp_struct': {'z': 12}, 'data': [0.5913608421402291, 0.8327500322981758, 0.7335846102808938, 0.019410934029975624, 0.5931185456840745, 0.6139373901871275, 0.22799843163499478, 0.9269009414380454, 0.18223248762349398, 0.15142314141377], 'mapping': {'2834': 2834}}]}\n"
     ]
    },
    {
     "name": "stderr",
     "output_type": "stream",
     "text": [
      "Unclosed client session\n",
      "client_session: <aiohttp.client.ClientSession object at 0x7f40dc3278e0>\n"
     ]
    },
    {
     "ename": "CancelledError",
     "evalue": "",
     "output_type": "error",
     "traceback": [
      "\u001b[0;31m---------------------------------------------------------------------------\u001b[0m",
      "\u001b[0;31mCancelledError\u001b[0m                            Traceback (most recent call last)",
      "Cell \u001b[0;32mIn[20], line 1\u001b[0m\n\u001b[0;32m----> 1\u001b[0m \u001b[38;5;28;01mawait\u001b[39;00m print_all()\n",
      "Cell \u001b[0;32mIn[19], line 2\u001b[0m, in \u001b[0;36mprint_all\u001b[0;34m()\u001b[0m\n\u001b[1;32m      1\u001b[0m \u001b[38;5;28;01masync\u001b[39;00m \u001b[38;5;28;01mdef\u001b[39;00m \u001b[38;5;21mprint_all\u001b[39m():\n\u001b[0;32m----> 2\u001b[0m     \u001b[38;5;28;01masync\u001b[39;00m \u001b[38;5;28;01mfor\u001b[39;00m datum \u001b[38;5;129;01min\u001b[39;00m async_client\u001b[38;5;241m.\u001b[39mstream(channels\u001b[38;5;241m=\u001b[39m[\u001b[38;5;124m\"\u001b[39m\u001b[38;5;124mexample\u001b[39m\u001b[38;5;124m\"\u001b[39m, \u001b[38;5;124m\"\u001b[39m\u001b[38;5;124mexample_list\u001b[39m\u001b[38;5;124m\"\u001b[39m]):\n\u001b[1;32m      3\u001b[0m         \u001b[38;5;28mprint\u001b[39m(datum)\n",
      "File \u001b[0;32m/isilon/home/nk12433/bitbucket/csp-gateway/csp_gateway/client/client.py:623\u001b[0m, in \u001b[0;36mAsyncGatewayClientMixin.stream\u001b[0;34m(self, channels)\u001b[0m\n\u001b[1;32m    622\u001b[0m \u001b[38;5;28;01masync\u001b[39;00m \u001b[38;5;28;01mdef\u001b[39;00m \u001b[38;5;21mstream\u001b[39m(\u001b[38;5;28mself\u001b[39m, channels: List[\u001b[38;5;28mstr\u001b[39m] \u001b[38;5;241m=\u001b[39m \u001b[38;5;28;01mNone\u001b[39;00m):\n\u001b[0;32m--> 623\u001b[0m     \u001b[38;5;28;01masync\u001b[39;00m \u001b[38;5;28;01mfor\u001b[39;00m data \u001b[38;5;129;01min\u001b[39;00m \u001b[38;5;28mself\u001b[39m\u001b[38;5;241m.\u001b[39m_streamAsync(channels\u001b[38;5;241m=\u001b[39mchannels):\n\u001b[1;32m    624\u001b[0m         \u001b[38;5;28;01myield\u001b[39;00m data\n",
      "File \u001b[0;32m/isilon/home/nk12433/bitbucket/csp-gateway/csp_gateway/client/client.py:361\u001b[0m, in \u001b[0;36mBaseGatewayClient._streamAsync\u001b[0;34m(self, channels)\u001b[0m\n\u001b[1;32m    358\u001b[0m \u001b[38;5;28;01mfor\u001b[39;00m channel \u001b[38;5;129;01min\u001b[39;00m channels:\n\u001b[1;32m    359\u001b[0m     \u001b[38;5;28;01mawait\u001b[39;00m \u001b[38;5;28mself\u001b[39m\u001b[38;5;241m.\u001b[39m_subscribe(channel)\n\u001b[0;32m--> 361\u001b[0m \u001b[38;5;28;01masync\u001b[39;00m \u001b[38;5;28;01mfor\u001b[39;00m data \u001b[38;5;129;01min\u001b[39;00m \u001b[38;5;28mself\u001b[39m\u001b[38;5;241m.\u001b[39m_connectAsync():\n\u001b[1;32m    362\u001b[0m     \u001b[38;5;28;01myield\u001b[39;00m data\n",
      "File \u001b[0;32m/isilon/home/nk12433/bitbucket/csp-gateway/csp_gateway/client/client.py:474\u001b[0m, in \u001b[0;36mBaseGatewayClient._connectAsync\u001b[0;34m(self)\u001b[0m\n\u001b[1;32m    471\u001b[0m merged \u001b[38;5;241m=\u001b[39m merge(\u001b[38;5;28mself\u001b[39m\u001b[38;5;241m.\u001b[39m_websocketData(ws), \u001b[38;5;28mself\u001b[39m\u001b[38;5;241m.\u001b[39m_clientRequests())\n\u001b[1;32m    473\u001b[0m \u001b[38;5;28;01masync\u001b[39;00m \u001b[38;5;28;01mwith\u001b[39;00m merged\u001b[38;5;241m.\u001b[39mstream() \u001b[38;5;28;01mas\u001b[39;00m streamer:\n\u001b[0;32m--> 474\u001b[0m     \u001b[38;5;28;01masync\u001b[39;00m \u001b[38;5;28;01mfor\u001b[39;00m direction, data \u001b[38;5;129;01min\u001b[39;00m streamer:\n\u001b[1;32m    475\u001b[0m         \u001b[38;5;28;01mif\u001b[39;00m direction \u001b[38;5;241m==\u001b[39m \u001b[38;5;124m\"\u001b[39m\u001b[38;5;124min\u001b[39m\u001b[38;5;124m\"\u001b[39m:\n\u001b[1;32m    476\u001b[0m             \u001b[38;5;66;03m# send to server\u001b[39;00m\n\u001b[1;32m    477\u001b[0m             \u001b[38;5;28;01mawait\u001b[39;00m ws\u001b[38;5;241m.\u001b[39msend_json(data)\n",
      "File \u001b[0;32m~/.conda/envs/ccrt_0.6.7/lib/python3.9/site-packages/aiostream/stream/advanced.py:55\u001b[0m, in \u001b[0;36mbase_combine\u001b[0;34m(source, switch, ordered, task_limit)\u001b[0m\n\u001b[1;32m     52\u001b[0m     filters \u001b[38;5;241m=\u001b[39m substreamers \u001b[38;5;241m+\u001b[39m mainstreamers\n\u001b[1;32m     54\u001b[0m \u001b[38;5;66;03m# Wait for next event\u001b[39;00m\n\u001b[0;32m---> 55\u001b[0m streamer, task \u001b[38;5;241m=\u001b[39m \u001b[38;5;28;01mawait\u001b[39;00m manager\u001b[38;5;241m.\u001b[39mwait_single_event(filters)\n\u001b[1;32m     57\u001b[0m \u001b[38;5;66;03m# Get result\u001b[39;00m\n\u001b[1;32m     58\u001b[0m \u001b[38;5;28;01mtry\u001b[39;00m:\n",
      "File \u001b[0;32m~/.conda/envs/ccrt_0.6.7/lib/python3.9/site-packages/aiostream/manager.py:106\u001b[0m, in \u001b[0;36mStreamerManager.wait_single_event\u001b[0;34m(self, filters)\u001b[0m\n\u001b[1;32m    104\u001b[0m \u001b[38;5;28;01masync\u001b[39;00m \u001b[38;5;28;01mdef\u001b[39;00m \u001b[38;5;21mwait_single_event\u001b[39m(\u001b[38;5;28mself\u001b[39m, filters):\n\u001b[1;32m    105\u001b[0m     tasks \u001b[38;5;241m=\u001b[39m [\u001b[38;5;28mself\u001b[39m\u001b[38;5;241m.\u001b[39mtasks[streamer] \u001b[38;5;28;01mfor\u001b[39;00m streamer \u001b[38;5;129;01min\u001b[39;00m filters]\n\u001b[0;32m--> 106\u001b[0m     done \u001b[38;5;241m=\u001b[39m \u001b[38;5;28;01mawait\u001b[39;00m \u001b[38;5;28mself\u001b[39m\u001b[38;5;241m.\u001b[39mgroup\u001b[38;5;241m.\u001b[39mwait_any(tasks)\n\u001b[1;32m    107\u001b[0m     \u001b[38;5;28;01mfor\u001b[39;00m streamer \u001b[38;5;129;01min\u001b[39;00m filters:\n\u001b[1;32m    108\u001b[0m         \u001b[38;5;28;01mif\u001b[39;00m \u001b[38;5;28mself\u001b[39m\u001b[38;5;241m.\u001b[39mtasks\u001b[38;5;241m.\u001b[39mget(streamer) \u001b[38;5;129;01min\u001b[39;00m done:\n",
      "File \u001b[0;32m~/.conda/envs/ccrt_0.6.7/lib/python3.9/site-packages/aiostream/manager.py:30\u001b[0m, in \u001b[0;36mTaskGroup.wait_any\u001b[0;34m(self, tasks)\u001b[0m\n\u001b[1;32m     29\u001b[0m \u001b[38;5;28;01masync\u001b[39;00m \u001b[38;5;28;01mdef\u001b[39;00m \u001b[38;5;21mwait_any\u001b[39m(\u001b[38;5;28mself\u001b[39m, tasks):\n\u001b[0;32m---> 30\u001b[0m     done, _ \u001b[38;5;241m=\u001b[39m \u001b[38;5;28;01mawait\u001b[39;00m asyncio\u001b[38;5;241m.\u001b[39mwait(tasks, return_when\u001b[38;5;241m=\u001b[39m\u001b[38;5;124m\"\u001b[39m\u001b[38;5;124mFIRST_COMPLETED\u001b[39m\u001b[38;5;124m\"\u001b[39m)\n\u001b[1;32m     31\u001b[0m     \u001b[38;5;28mself\u001b[39m\u001b[38;5;241m.\u001b[39m_pending \u001b[38;5;241m-\u001b[39m\u001b[38;5;241m=\u001b[39m done\n\u001b[1;32m     32\u001b[0m     \u001b[38;5;28;01mreturn\u001b[39;00m done\n",
      "File \u001b[0;32m~/.conda/envs/ccrt_0.6.7/lib/python3.9/asyncio/tasks.py:413\u001b[0m, in \u001b[0;36mwait\u001b[0;34m(fs, loop, timeout, return_when)\u001b[0m\n\u001b[1;32m    406\u001b[0m     warnings\u001b[38;5;241m.\u001b[39mwarn(\u001b[38;5;124m\"\u001b[39m\u001b[38;5;124mThe explicit passing of coroutine objects to \u001b[39m\u001b[38;5;124m\"\u001b[39m\n\u001b[1;32m    407\u001b[0m                   \u001b[38;5;124m\"\u001b[39m\u001b[38;5;124masyncio.wait() is deprecated since Python 3.8, and \u001b[39m\u001b[38;5;124m\"\u001b[39m\n\u001b[1;32m    408\u001b[0m                   \u001b[38;5;124m\"\u001b[39m\u001b[38;5;124mscheduled for removal in Python 3.11.\u001b[39m\u001b[38;5;124m\"\u001b[39m,\n\u001b[1;32m    409\u001b[0m                   \u001b[38;5;167;01mDeprecationWarning\u001b[39;00m, stacklevel\u001b[38;5;241m=\u001b[39m\u001b[38;5;241m2\u001b[39m)\n\u001b[1;32m    411\u001b[0m fs \u001b[38;5;241m=\u001b[39m {ensure_future(f, loop\u001b[38;5;241m=\u001b[39mloop) \u001b[38;5;28;01mfor\u001b[39;00m f \u001b[38;5;129;01min\u001b[39;00m fs}\n\u001b[0;32m--> 413\u001b[0m \u001b[38;5;28;01mreturn\u001b[39;00m \u001b[38;5;28;01mawait\u001b[39;00m _wait(fs, timeout, return_when, loop)\n",
      "File \u001b[0;32m~/.conda/envs/ccrt_0.6.7/lib/python3.9/asyncio/tasks.py:525\u001b[0m, in \u001b[0;36m_wait\u001b[0;34m(fs, timeout, return_when, loop)\u001b[0m\n\u001b[1;32m    522\u001b[0m     f\u001b[38;5;241m.\u001b[39madd_done_callback(_on_completion)\n\u001b[1;32m    524\u001b[0m \u001b[38;5;28;01mtry\u001b[39;00m:\n\u001b[0;32m--> 525\u001b[0m     \u001b[38;5;28;01mawait\u001b[39;00m waiter\n\u001b[1;32m    526\u001b[0m \u001b[38;5;28;01mfinally\u001b[39;00m:\n\u001b[1;32m    527\u001b[0m     \u001b[38;5;28;01mif\u001b[39;00m timeout_handle \u001b[38;5;129;01mis\u001b[39;00m \u001b[38;5;129;01mnot\u001b[39;00m \u001b[38;5;28;01mNone\u001b[39;00m:\n",
      "File \u001b[0;32m~/.conda/envs/ccrt_0.6.7/lib/python3.9/asyncio/futures.py:284\u001b[0m, in \u001b[0;36mFuture.__await__\u001b[0;34m(self)\u001b[0m\n\u001b[1;32m    282\u001b[0m \u001b[38;5;28;01mif\u001b[39;00m \u001b[38;5;129;01mnot\u001b[39;00m \u001b[38;5;28mself\u001b[39m\u001b[38;5;241m.\u001b[39mdone():\n\u001b[1;32m    283\u001b[0m     \u001b[38;5;28mself\u001b[39m\u001b[38;5;241m.\u001b[39m_asyncio_future_blocking \u001b[38;5;241m=\u001b[39m \u001b[38;5;28;01mTrue\u001b[39;00m\n\u001b[0;32m--> 284\u001b[0m     \u001b[38;5;28;01myield\u001b[39;00m \u001b[38;5;28mself\u001b[39m  \u001b[38;5;66;03m# This tells Task to wait for completion.\u001b[39;00m\n\u001b[1;32m    285\u001b[0m \u001b[38;5;28;01mif\u001b[39;00m \u001b[38;5;129;01mnot\u001b[39;00m \u001b[38;5;28mself\u001b[39m\u001b[38;5;241m.\u001b[39mdone():\n\u001b[1;32m    286\u001b[0m     \u001b[38;5;28;01mraise\u001b[39;00m \u001b[38;5;167;01mRuntimeError\u001b[39;00m(\u001b[38;5;124m\"\u001b[39m\u001b[38;5;124mawait wasn\u001b[39m\u001b[38;5;124m'\u001b[39m\u001b[38;5;124mt used with future\u001b[39m\u001b[38;5;124m\"\u001b[39m)\n",
      "File \u001b[0;32m~/.conda/envs/ccrt_0.6.7/lib/python3.9/asyncio/tasks.py:328\u001b[0m, in \u001b[0;36mTask.__wakeup\u001b[0;34m(self, future)\u001b[0m\n\u001b[1;32m    326\u001b[0m \u001b[38;5;28;01mdef\u001b[39;00m \u001b[38;5;21m__wakeup\u001b[39m(\u001b[38;5;28mself\u001b[39m, future):\n\u001b[1;32m    327\u001b[0m     \u001b[38;5;28;01mtry\u001b[39;00m:\n\u001b[0;32m--> 328\u001b[0m         \u001b[43mfuture\u001b[49m\u001b[38;5;241;43m.\u001b[39;49m\u001b[43mresult\u001b[49m\u001b[43m(\u001b[49m\u001b[43m)\u001b[49m\n\u001b[1;32m    329\u001b[0m     \u001b[38;5;28;01mexcept\u001b[39;00m \u001b[38;5;167;01mBaseException\u001b[39;00m \u001b[38;5;28;01mas\u001b[39;00m exc:\n\u001b[1;32m    330\u001b[0m         \u001b[38;5;66;03m# This may also be a cancellation.\u001b[39;00m\n\u001b[1;32m    331\u001b[0m         \u001b[38;5;28mself\u001b[39m\u001b[38;5;241m.\u001b[39m__step(exc)\n",
      "File \u001b[0;32m~/.conda/envs/ccrt_0.6.7/lib/python3.9/asyncio/futures.py:196\u001b[0m, in \u001b[0;36mFuture.result\u001b[0;34m(self)\u001b[0m\n\u001b[1;32m    194\u001b[0m \u001b[38;5;28;01mif\u001b[39;00m \u001b[38;5;28mself\u001b[39m\u001b[38;5;241m.\u001b[39m_state \u001b[38;5;241m==\u001b[39m _CANCELLED:\n\u001b[1;32m    195\u001b[0m     exc \u001b[38;5;241m=\u001b[39m \u001b[38;5;28mself\u001b[39m\u001b[38;5;241m.\u001b[39m_make_cancelled_error()\n\u001b[0;32m--> 196\u001b[0m     \u001b[38;5;28;01mraise\u001b[39;00m exc\n\u001b[1;32m    197\u001b[0m \u001b[38;5;28;01mif\u001b[39;00m \u001b[38;5;28mself\u001b[39m\u001b[38;5;241m.\u001b[39m_state \u001b[38;5;241m!=\u001b[39m _FINISHED:\n\u001b[1;32m    198\u001b[0m     \u001b[38;5;28;01mraise\u001b[39;00m exceptions\u001b[38;5;241m.\u001b[39mInvalidStateError(\u001b[38;5;124m'\u001b[39m\u001b[38;5;124mResult is not ready.\u001b[39m\u001b[38;5;124m'\u001b[39m)\n",
      "\u001b[0;31mCancelledError\u001b[0m: "
     ]
    }
   ],
   "source": [
    "await print_all()"
   ]
  }
 ],
 "metadata": {
  "kernelspec": {
   "display_name": "Python 3 (ipykernel)",
   "language": "python",
   "name": "python3"
  },
  "language_info": {
   "codemirror_mode": {
    "name": "ipython",
    "version": 3
   },
   "file_extension": ".py",
   "mimetype": "text/x-python",
   "name": "python",
   "nbconvert_exporter": "python",
   "pygments_lexer": "ipython3",
   "version": "3.9.18"
  }
 },
 "nbformat": 4,
 "nbformat_minor": 5
}
